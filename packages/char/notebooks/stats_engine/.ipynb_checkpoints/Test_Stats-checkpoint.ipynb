{
 "cells": [
  {
   "cell_type": "markdown",
   "metadata": {},
   "source": [
    "# <center>Test Stats\n",
    "# <center>Prepared by Denver Lloyd\n",
    "# <center>8/10/2021"
   ]
  },
  {
   "cell_type": "code",
   "execution_count": 12,
   "metadata": {},
   "outputs": [
    {
     "name": "stdout",
     "output_type": "stream",
     "text": [
      "The autoreload extension is already loaded. To reload it, use:\n",
      "  %reload_ext autoreload\n"
     ]
    }
   ],
   "source": [
    "import sys\n",
    "import os\n",
    "import inspect\n",
    "import pandas as pd\n",
    "# currentdir = os.path.dirname(os.path.abspath(inspect.getfile(inspect.currentframe())))\n",
    "# parentdir = os.path.dirname(currentdir)\n",
    "# parentdir2 = os.path.dirname(parentdir)\n",
    "# parentdir3 = os.path.dirname(parentdir2)\n",
    "# sys.path.insert(0, parentdir2)\n",
    "%load_ext autoreload\n",
    "%autoreload 2\n",
    "import numpy as np\n",
    "from matplotlib import pyplot as plt\n",
    "import fivecentplots as fcp\n",
    "#sys.path.insert(0,r'')\n",
    "#from stats_engine import test_stats\n",
    "from characterization_ams.stats_engine import stats\n",
    "from characterization_ams.unittests import image_generator\n",
    "import warnings\n",
    "warnings.filterwarnings(\"ignore\")"
   ]
  },
  {
   "cell_type": "markdown",
   "metadata": {},
   "source": [
    "## Image Generator"
   ]
  },
  {
   "cell_type": "markdown",
   "metadata": {},
   "source": [
    "### Generate Image"
   ]
  },
  {
   "cell_type": "code",
   "execution_count": 13,
   "metadata": {},
   "outputs": [],
   "source": [
    "gen_image = image_generator.gen_image\n",
    "gen_images = image_generator.gen_images\n",
    "rows=100\n",
    "cols=100\n",
    "pedestal=168"
   ]
  },
  {
   "cell_type": "code",
   "execution_count": 14,
   "metadata": {},
   "outputs": [],
   "source": [
    "# fpn\n",
    "rfpn=15\n",
    "pfpn=5\n",
    "cfpn=1\n",
    "tot_f = np.sqrt(rfpn**2 + pfpn**2 + cfpn**2)\n",
    "# temp noise\n",
    "ctn = 15\n",
    "rtn = 12\n",
    "ptn = 20\n",
    "tot_t = np.sqrt(ctn**2 + rtn**2 + ptn**2)\n",
    "n_images=1000\n",
    "imgs = gen_images(cfpn=cfpn,\n",
    "                  ptn=ptn,\n",
    "                  rtn=rtn,\n",
    "                  ctn=ctn,\n",
    "                  rfpn=rfpn,\n",
    "                  pfpn=pfpn,\n",
    "                  rows=rows,\n",
    "                  cols=cols,\n",
    "                  pedestal=pedestal,\n",
    "                  n_images=n_images)"
   ]
  },
  {
   "cell_type": "code",
   "execution_count": 15,
   "metadata": {},
   "outputs": [
    {
     "data": {
      "text/html": [
       "<div>\n",
       "<style scoped>\n",
       "    .dataframe tbody tr th:only-of-type {\n",
       "        vertical-align: middle;\n",
       "    }\n",
       "\n",
       "    .dataframe tbody tr th {\n",
       "        vertical-align: top;\n",
       "    }\n",
       "\n",
       "    .dataframe thead th {\n",
       "        text-align: right;\n",
       "    }\n",
       "</style>\n",
       "<table border=\"1\" class=\"dataframe\">\n",
       "  <thead>\n",
       "    <tr style=\"text-align: right;\">\n",
       "      <th></th>\n",
       "      <th>Mean [DN]</th>\n",
       "      <th>Total FPN [DN]</th>\n",
       "      <th>Pix FPN [DN]</th>\n",
       "      <th>Col FPN [DN]</th>\n",
       "      <th>Row FPN [DN]</th>\n",
       "      <th>Total Temp Noise [DN]</th>\n",
       "      <th>Pix Temp Noise [DN]</th>\n",
       "      <th>Col Temp Noise [DN]</th>\n",
       "      <th>Row Temp Noise [DN]</th>\n",
       "    </tr>\n",
       "  </thead>\n",
       "  <tbody>\n",
       "    <tr>\n",
       "      <th>0</th>\n",
       "      <td>169.31</td>\n",
       "      <td>15.292</td>\n",
       "      <td>4.931</td>\n",
       "      <td>1.07</td>\n",
       "      <td>14.444</td>\n",
       "      <td>27.684</td>\n",
       "      <td>20.012</td>\n",
       "      <td>14.972</td>\n",
       "      <td>12.075</td>\n",
       "    </tr>\n",
       "  </tbody>\n",
       "</table>\n",
       "</div>"
      ],
      "text/plain": [
       "   Mean [DN]  Total FPN [DN]  Pix FPN [DN]  Col FPN [DN]  Row FPN [DN]  \\\n",
       "0     169.31          15.292         4.931          1.07        14.444   \n",
       "\n",
       "   Total Temp Noise [DN]  Pix Temp Noise [DN]  Col Temp Noise [DN]  \\\n",
       "0                 27.684               20.012               14.972   \n",
       "\n",
       "   Row Temp Noise [DN]  \n",
       "0               12.075  "
      ]
     },
     "execution_count": 15,
     "metadata": {},
     "output_type": "execute_result"
    }
   ],
   "source": [
    "stats.agg_results(imgs)"
   ]
  },
  {
   "cell_type": "code",
   "execution_count": 39,
   "metadata": {},
   "outputs": [
    {
     "data": {
      "text/html": [
       "<div>\n",
       "<style scoped>\n",
       "    .dataframe tbody tr th:only-of-type {\n",
       "        vertical-align: middle;\n",
       "    }\n",
       "\n",
       "    .dataframe tbody tr th {\n",
       "        vertical-align: top;\n",
       "    }\n",
       "\n",
       "    .dataframe thead th {\n",
       "        text-align: right;\n",
       "    }\n",
       "</style>\n",
       "<table border=\"1\" class=\"dataframe\">\n",
       "  <thead>\n",
       "    <tr style=\"text-align: right;\">\n",
       "      <th></th>\n",
       "      <th>Mean [DN]</th>\n",
       "      <th>Total FPN [DN]</th>\n",
       "      <th>Pix FPN [DN]</th>\n",
       "      <th>Col FPN [DN]</th>\n",
       "      <th>Row FPN [DN]</th>\n",
       "      <th>Total Temp Noise [DN]</th>\n",
       "      <th>Pix Temp Noise [DN]</th>\n",
       "      <th>Col Temp Noise [DN]</th>\n",
       "      <th>Row Temp Noise [DN]</th>\n",
       "    </tr>\n",
       "  </thead>\n",
       "  <tbody>\n",
       "    <tr>\n",
       "      <th>0</th>\n",
       "      <td>168.379</td>\n",
       "      <td>5.843</td>\n",
       "      <td>4.929</td>\n",
       "      <td>1.192</td>\n",
       "      <td>2.946</td>\n",
       "      <td>27.779</td>\n",
       "      <td>19.972</td>\n",
       "      <td>15.188</td>\n",
       "      <td>12.089</td>\n",
       "    </tr>\n",
       "  </tbody>\n",
       "</table>\n",
       "</div>"
      ],
      "text/plain": [
       "   Mean [DN]  Total FPN [DN]  Pix FPN [DN]  Col FPN [DN]  Row FPN [DN]  \\\n",
       "0    168.379           5.843         4.929         1.192         2.946   \n",
       "\n",
       "   Total Temp Noise [DN]  Pix Temp Noise [DN]  Col Temp Noise [DN]  \\\n",
       "0                 27.779               19.972               15.188   \n",
       "\n",
       "   Row Temp Noise [DN]  \n",
       "0               12.089  "
      ]
     },
     "execution_count": 39,
     "metadata": {},
     "output_type": "execute_result"
    }
   ],
   "source": [
    "stats.agg_results(imgs)"
   ]
  },
  {
   "cell_type": "code",
   "execution_count": 21,
   "metadata": {},
   "outputs": [],
   "source": [
    "avg_img = stats.avg_img_stack(imgs)\n",
    "L = len(imgs)\n",
    "ttn_var = stats.total_var_temp(imgs)\n",
    "cav1 = stats.col_var_cav(avg_img, L, ttn_var, hpf=True)\n",
    "cav2 = stats.col_var_cav(avg_img, L, ttn_var, rmv_ttn=False)"
   ]
  },
  {
   "cell_type": "markdown",
   "metadata": {
    "heading_collapsed": true
   },
   "source": [
    "### Generate Image"
   ]
  },
  {
   "cell_type": "markdown",
   "metadata": {},
   "source": [
    "## Stats Engine"
   ]
  },
  {
   "cell_type": "markdown",
   "metadata": {},
   "source": [
    "### Image Functions"
   ]
  },
  {
   "cell_type": "markdown",
   "metadata": {},
   "source": [
    "#### Average"
   ]
  },
  {
   "cell_type": "markdown",
   "metadata": {},
   "source": [
    "##### avg_img_stack"
   ]
  },
  {
   "cell_type": "markdown",
   "metadata": {},
   "source": [
    "~~~ python\n",
    "\"\"\"\n",
    "Take a stack of images and compute the per pixel average\n",
    "\n",
    "Keyword Arguments:\n",
    "    img_stack (np.array): stack of images\n",
    "\n",
    "Returns:\n",
    "    avg_img (np.array): 2D image of per pixel averages from img_stack\n",
    "\"\"\"\n",
    "~~~"
   ]
  },
  {
   "cell_type": "code",
   "execution_count": 757,
   "metadata": {},
   "outputs": [],
   "source": [
    "avg_img = stats.avg_img_stack(imgs)\n",
    "\n",
    "# this is not 100% correct because temp and fpn stack calculated different currently \n",
    "L = len(imgs)\n",
    "ttn_var = stats.noise_metrics_temp(imgs)['tot_var_temp']"
   ]
  },
  {
   "cell_type": "code",
   "execution_count": 758,
   "metadata": {
    "scrolled": true
   },
   "outputs": [
    {
     "data": {
      "text/plain": [
       "'expected shape = (100, 100), actual = (100, 100)'"
      ]
     },
     "execution_count": 758,
     "metadata": {},
     "output_type": "execute_result"
    }
   ],
   "source": [
    "f'expected shape = {(rows, cols)}, actual = {avg_img.shape}'"
   ]
  },
  {
   "cell_type": "code",
   "execution_count": 759,
   "metadata": {},
   "outputs": [
    {
     "data": {
      "text/plain": [
       "'expected mean = 168, actual mean = 168.0'"
      ]
     },
     "execution_count": 759,
     "metadata": {},
     "output_type": "execute_result"
    }
   ],
   "source": [
    "f'expected mean = {round(pedestal,0)}, actual mean = {round(avg_img.mean(),0)}'"
   ]
  },
  {
   "cell_type": "markdown",
   "metadata": {},
   "source": [
    "##### frame_avg"
   ]
  },
  {
   "cell_type": "markdown",
   "metadata": {},
   "source": [
    "~~~ python\n",
    "\"\"\"\n",
    "compute the average of a frame, returns a scalar\n",
    "\n",
    "keyword arguments:\n",
    "    img (np.array): average image to compute mean on\n",
    "\n",
    "Returns:\n",
    "    temp (dict): mean (scalar)\n",
    "\"\"\"\n",
    "~~~"
   ]
  },
  {
   "cell_type": "code",
   "execution_count": 760,
   "metadata": {},
   "outputs": [],
   "source": [
    "f_avg = stats.frame_avg(avg_img)"
   ]
  },
  {
   "cell_type": "code",
   "execution_count": 761,
   "metadata": {
    "scrolled": true
   },
   "outputs": [
    {
     "data": {
      "text/plain": [
       "'expected shape = (), actual = ()'"
      ]
     },
     "execution_count": 761,
     "metadata": {},
     "output_type": "execute_result"
    }
   ],
   "source": [
    "f'expected shape = {()}, actual = {f_avg.shape}'"
   ]
  },
  {
   "cell_type": "code",
   "execution_count": 762,
   "metadata": {},
   "outputs": [
    {
     "data": {
      "text/plain": [
       "'expected mean = 168, actual mean = 168.0'"
      ]
     },
     "execution_count": 762,
     "metadata": {},
     "output_type": "execute_result"
    }
   ],
   "source": [
    "f'expected mean = {round(pedestal,0)}, actual mean = {round(f_avg,0)}'"
   ]
  },
  {
   "cell_type": "markdown",
   "metadata": {},
   "source": [
    "##### frame_avg_from_stack"
   ]
  },
  {
   "cell_type": "markdown",
   "metadata": {},
   "source": [
    "~~~ python\n",
    "    \"\"\"\n",
    "    compute the average of a stack of frames, returns a scalar\n",
    "\n",
    "    Keyword Arguments:\n",
    "        img_stack (np.array): stack of images\n",
    "\n",
    "    Returns:\n",
    "        mean (float): mean of image stack\n",
    "    \"\"\"\n",
    "~~~"
   ]
  },
  {
   "cell_type": "code",
   "execution_count": 763,
   "metadata": {},
   "outputs": [],
   "source": [
    "f_avgs = stats.frame_avg_from_stack(imgs)"
   ]
  },
  {
   "cell_type": "code",
   "execution_count": 764,
   "metadata": {
    "scrolled": true
   },
   "outputs": [
    {
     "data": {
      "text/plain": [
       "'expected shape = (), actual = ()'"
      ]
     },
     "execution_count": 764,
     "metadata": {},
     "output_type": "execute_result"
    }
   ],
   "source": [
    "f'expected shape = {()}, actual = {f_avgs.shape}'"
   ]
  },
  {
   "cell_type": "code",
   "execution_count": 765,
   "metadata": {},
   "outputs": [
    {
     "data": {
      "text/plain": [
       "'expected mean = 168, actual mean = 168.0'"
      ]
     },
     "execution_count": 765,
     "metadata": {},
     "output_type": "execute_result"
    }
   ],
   "source": [
    "f'expected mean = {round(pedestal,0)}, actual mean = {round(f_avgs,0)}'"
   ]
  },
  {
   "cell_type": "markdown",
   "metadata": {},
   "source": [
    "##### col_avg"
   ]
  },
  {
   "cell_type": "markdown",
   "metadata": {},
   "source": [
    "~~~ python\n",
    "\"\"\"\n",
    "get column average\n",
    "\n",
    "Keyword Arguments:\n",
    "    img (np.array): img to calcuate column average on\n",
    "\n",
    "Returns:\n",
    "    avg (np.array): 1D array of column average values\n",
    "\"\"\"\n",
    "~~~"
   ]
  },
  {
   "cell_type": "code",
   "execution_count": 766,
   "metadata": {},
   "outputs": [],
   "source": [
    "avg_imgc = stats.col_avg(avg_img)"
   ]
  },
  {
   "cell_type": "code",
   "execution_count": 767,
   "metadata": {
    "scrolled": true
   },
   "outputs": [
    {
     "data": {
      "text/plain": [
       "'expected shape = (100, 0), actual = (100,)'"
      ]
     },
     "execution_count": 767,
     "metadata": {},
     "output_type": "execute_result"
    }
   ],
   "source": [
    "f'expected shape = {(cols,0)}, actual = {avg_imgc.shape}'"
   ]
  },
  {
   "cell_type": "code",
   "execution_count": 768,
   "metadata": {},
   "outputs": [
    {
     "data": {
      "text/plain": [
       "'expected mean = 168, actual mean = 168.0'"
      ]
     },
     "execution_count": 768,
     "metadata": {},
     "output_type": "execute_result"
    }
   ],
   "source": [
    "f'expected mean = {round(pedestal,0)}, actual mean = {round(avg_img.mean(),0)}'"
   ]
  },
  {
   "cell_type": "markdown",
   "metadata": {},
   "source": [
    "##### row_avg"
   ]
  },
  {
   "cell_type": "markdown",
   "metadata": {},
   "source": [
    "~~~ python\n",
    "\"\"\"\n",
    "get row average\n",
    "\n",
    "Keyword Arguments:\n",
    "    img (np.array): img to calcuate row average on\n",
    "\n",
    "Returns:\n",
    "    avg (np.array): 1D array of row average values\n",
    "\"\"\"\n",
    "~~~"
   ]
  },
  {
   "cell_type": "code",
   "execution_count": 769,
   "metadata": {},
   "outputs": [],
   "source": [
    "avg_imgr = stats.row_avg(avg_img)"
   ]
  },
  {
   "cell_type": "code",
   "execution_count": 770,
   "metadata": {
    "scrolled": true
   },
   "outputs": [
    {
     "data": {
      "text/plain": [
       "'expected shape = (0, 100), actual = (100,)'"
      ]
     },
     "execution_count": 770,
     "metadata": {},
     "output_type": "execute_result"
    }
   ],
   "source": [
    "f'expected shape = {(0,rows)}, actual = {avg_imgr.shape}'"
   ]
  },
  {
   "cell_type": "code",
   "execution_count": 771,
   "metadata": {},
   "outputs": [
    {
     "data": {
      "text/plain": [
       "'expected mean = 168, actual mean = 168.0'"
      ]
     },
     "execution_count": 771,
     "metadata": {},
     "output_type": "execute_result"
    }
   ],
   "source": [
    "f'expected mean = {round(pedestal,0)}, actual mean = {round(avg_img.mean(),0)}'"
   ]
  },
  {
   "cell_type": "markdown",
   "metadata": {},
   "source": [
    "#### FPN"
   ]
  },
  {
   "cell_type": "markdown",
   "metadata": {},
   "source": [
    "##### total_var"
   ]
  },
  {
   "cell_type": "markdown",
   "metadata": {},
   "source": [
    "~~~ python\n",
    "\"\"\"\n",
    "compute total variance from image with\n",
    "residual temporal noise removed\n",
    "\n",
    "Keyword Arguments:\n",
    "    img (np.array): input image (tyically average)\n",
    "    L (int): number of images used for average\n",
    "    ttn_var (float): temporal noise from image stack used to get img\n",
    "    ddof (int, 0): degree of freedom for variance calc\n",
    "    rmv_ttn (bool, True): if True remove residual temporal noise\n",
    "\n",
    "Returns:\n",
    "    var (float): total variance of img\n",
    "\"\"\"\n",
    "~~~"
   ]
  },
  {
   "cell_type": "code",
   "execution_count": 772,
   "metadata": {},
   "outputs": [],
   "source": [
    "total_var = stats.total_var(avg_img, L=L, ttn_var=ttn_var)"
   ]
  },
  {
   "cell_type": "code",
   "execution_count": 773,
   "metadata": {
    "scrolled": true
   },
   "outputs": [
    {
     "data": {
      "text/plain": [
       "'expected shape = (), actual = ()'"
      ]
     },
     "execution_count": 773,
     "metadata": {},
     "output_type": "execute_result"
    }
   ],
   "source": [
    "f'expected shape = {()}, actual = {total_var.shape}'"
   ]
  },
  {
   "cell_type": "code",
   "execution_count": 774,
   "metadata": {},
   "outputs": [
    {
     "data": {
      "text/plain": [
       "'expected std = 4, actual std = 4.0'"
      ]
     },
     "execution_count": 774,
     "metadata": {},
     "output_type": "execute_result"
    }
   ],
   "source": [
    "f'expected std = {round(tot_f)}, actual std = {round(np.sqrt(total_var),0)}'"
   ]
  },
  {
   "cell_type": "markdown",
   "metadata": {},
   "source": [
    "##### row_var"
   ]
  },
  {
   "cell_type": "markdown",
   "metadata": {},
   "source": [
    "~~~ python\n",
    "\"\"\"\n",
    "compute exact solution of row variance from\n",
    "image with residual temporal noise removed,\n",
    "EMVA 4.0 definition\n",
    "\n",
    "Keyword Arguments:\n",
    "    img (np.array): input image (tyically average)\n",
    "    L (int): number of images used for average\n",
    "    ttn_var (float): temporal noise from average\n",
    "    ddof (int, 0): degree of freedom for variance calc\n",
    "    rmv_ttn(bool, True): if True residual temporal noise is removed\n",
    "\n",
    "Returns:\n",
    "    var (float): row variance of img\n",
    "\"\"\"\n",
    "~~~"
   ]
  },
  {
   "cell_type": "code",
   "execution_count": 775,
   "metadata": {},
   "outputs": [],
   "source": [
    "row_var = stats.row_var(avg_img, L=L, ttn_var=ttn_var)"
   ]
  },
  {
   "cell_type": "code",
   "execution_count": 776,
   "metadata": {
    "scrolled": true
   },
   "outputs": [
    {
     "data": {
      "text/plain": [
       "'expected shape = (), actual = ()'"
      ]
     },
     "execution_count": 776,
     "metadata": {},
     "output_type": "execute_result"
    }
   ],
   "source": [
    "f'expected shape = {()}, actual = {row_var.shape}'"
   ]
  },
  {
   "cell_type": "code",
   "execution_count": 777,
   "metadata": {},
   "outputs": [
    {
     "data": {
      "text/plain": [
       "'expected std = 3, actual std = 3.0'"
      ]
     },
     "execution_count": 777,
     "metadata": {},
     "output_type": "execute_result"
    }
   ],
   "source": [
    "f'expected std = {round(rfpn,0)}, actual std = {round(np.mean(np.sqrt(row_var)),0)}'"
   ]
  },
  {
   "cell_type": "markdown",
   "metadata": {},
   "source": [
    "##### col_var"
   ]
  },
  {
   "cell_type": "markdown",
   "metadata": {},
   "source": [
    "~~~ python \n",
    "\"\"\"\n",
    "compute exact solution of column variance from\n",
    "image with residual temporal noise removed,\n",
    "EMVA 4.0 definition\n",
    "\n",
    "Keyword Arguments:\n",
    "    img (np.array): input image (tyically average)\n",
    "    L (int): number of images used for average\n",
    "    ttn_var (float): temporal noise from average\n",
    "    ddof (int, 0): degree of freedom for variance calc\n",
    "    rmv_ttn(bool, True): if True residual temporal noise is removed\n",
    "\n",
    "Returns:\n",
    "    col_var (float): column variance of img\n",
    "\"\"\"\n",
    "~~~"
   ]
  },
  {
   "cell_type": "code",
   "execution_count": 778,
   "metadata": {},
   "outputs": [],
   "source": [
    "col_var = stats.col_var(avg_img, L=L, ttn_var=ttn_var)"
   ]
  },
  {
   "cell_type": "code",
   "execution_count": 779,
   "metadata": {
    "scrolled": true
   },
   "outputs": [
    {
     "data": {
      "text/plain": [
       "'expected shape = (), actual = ()'"
      ]
     },
     "execution_count": 779,
     "metadata": {},
     "output_type": "execute_result"
    }
   ],
   "source": [
    "f'expected shape = {()}, actual = {col_var.shape}'"
   ]
  },
  {
   "cell_type": "code",
   "execution_count": 780,
   "metadata": {},
   "outputs": [
    {
     "data": {
      "text/plain": [
       "'expected std = 1, actual std = 1.0'"
      ]
     },
     "execution_count": 780,
     "metadata": {},
     "output_type": "execute_result"
    }
   ],
   "source": [
    "f'expected std = {cfpn}, actual std = {round(np.mean(np.sqrt(col_var)),0)}'"
   ]
  },
  {
   "cell_type": "markdown",
   "metadata": {},
   "source": [
    "##### pix_var"
   ]
  },
  {
   "cell_type": "markdown",
   "metadata": {},
   "source": [
    "~~~ python\n",
    "\"\"\"\n",
    "compute exact solution of pixel variance from\n",
    "image with residual temporal noise removed,\n",
    "EMVA 4.0 definition\n",
    "\n",
    "Keyword Arguments:\n",
    "    img (np.array): input image (tyically average)\n",
    "    L (int): number of images used for average\n",
    "    ttn_var (float): temporal noise from average\n",
    "    ddof (int, 0): degree of freedom for variance calc\n",
    "    rmv_ttn (bool, True): if True residual temporal noise is removed\n",
    "\n",
    "Returns:\n",
    "    var (float): pix variance of img\n",
    "\"\"\"\n",
    "~~~"
   ]
  },
  {
   "cell_type": "code",
   "execution_count": 781,
   "metadata": {},
   "outputs": [],
   "source": [
    "pix_var = stats.pix_var(avg_img, L=L, ttn_var=ttn_var)"
   ]
  },
  {
   "cell_type": "code",
   "execution_count": 782,
   "metadata": {
    "scrolled": true
   },
   "outputs": [
    {
     "data": {
      "text/plain": [
       "'expected shape = (), actual = ()'"
      ]
     },
     "execution_count": 782,
     "metadata": {},
     "output_type": "execute_result"
    }
   ],
   "source": [
    "f'expected shape = {()}, actual = {pix_var.shape}'"
   ]
  },
  {
   "cell_type": "code",
   "execution_count": 783,
   "metadata": {
    "scrolled": true
   },
   "outputs": [
    {
     "data": {
      "text/plain": [
       "'expected std = 2, actual std = 2.0'"
      ]
     },
     "execution_count": 783,
     "metadata": {},
     "output_type": "execute_result"
    }
   ],
   "source": [
    "f'expected std = {pfpn}, actual std = {round(np.mean(np.sqrt(pix_var)),0)}'"
   ]
  },
  {
   "cell_type": "markdown",
   "metadata": {},
   "source": [
    "##### noise_metrics (all spatial noise metrics)"
   ]
  },
  {
   "cell_type": "markdown",
   "metadata": {},
   "source": [
    "~~~ python\n",
    "\"\"\"\n",
    "compute spatial noise metrics from an average\n",
    "image with residual temporal noise removed\n",
    "\n",
    "Keyword Arguments:\n",
    "    img (np.array): input image (tyically average)\n",
    "    L (int): number of images used for average\n",
    "    ttn_var (float): temporal noise from image stack used to get img\n",
    "    ddof (int, 0): degree of freedom for variance calc\n",
    "    rmv_ttn (bool, True): if True then remove residual temporal noise\n",
    "\n",
    "Returns:\n",
    "    var (dict): row_var\n",
    "                col_var\n",
    "                pix_var\n",
    "                tot_var\n",
    "\"\"\"\n",
    "~~~"
   ]
  },
  {
   "cell_type": "code",
   "execution_count": 784,
   "metadata": {},
   "outputs": [],
   "source": [
    "all_var = stats.noise_metrics(avg_img, L=L, ttn_var=ttn_var)"
   ]
  },
  {
   "cell_type": "code",
   "execution_count": 785,
   "metadata": {},
   "outputs": [
    {
     "data": {
      "text/plain": [
       "{'tot_var': 13.515180850769653,\n",
       " 'col_var': 1.321000065573672,\n",
       " 'row_var': 8.635544849748323,\n",
       " 'pix_var': 3.594948547033858}"
      ]
     },
     "execution_count": 785,
     "metadata": {},
     "output_type": "execute_result"
    }
   ],
   "source": [
    "all_var"
   ]
  },
  {
   "cell_type": "markdown",
   "metadata": {},
   "source": [
    "#### Temporal Noise"
   ]
  },
  {
   "cell_type": "markdown",
   "metadata": {},
   "source": [
    "##### row_var_temp"
   ]
  },
  {
   "cell_type": "markdown",
   "metadata": {},
   "source": [
    "~~~ python\n",
    "\"\"\"\n",
    "compute exact solution for row temporal\n",
    "variance from image stack\n",
    "\n",
    "Keyword Arguments:\n",
    "    img_stack (np.array): stack of images\n",
    "    ddof (int, 0): degree of freedom for variance calc\n",
    "\n",
    "Returns:\n",
    "    var (float): row temporal noise variance\n",
    "\"\"\"\n",
    "~~~"
   ]
  },
  {
   "cell_type": "code",
   "execution_count": 47,
   "metadata": {},
   "outputs": [],
   "source": [
    "row_var_temp = stats.row_var_temp(imgs)"
   ]
  },
  {
   "cell_type": "code",
   "execution_count": 48,
   "metadata": {
    "scrolled": true
   },
   "outputs": [
    {
     "data": {
      "text/plain": [
       "'expected shape = (), actual = ()'"
      ]
     },
     "execution_count": 48,
     "metadata": {},
     "output_type": "execute_result"
    }
   ],
   "source": [
    "f'expected shape = {()}, actual = {row_var_temp.shape}'"
   ]
  },
  {
   "cell_type": "code",
   "execution_count": 49,
   "metadata": {},
   "outputs": [
    {
     "data": {
      "text/plain": [
       "'expected std = 12, actual std = 12.0'"
      ]
     },
     "execution_count": 49,
     "metadata": {},
     "output_type": "execute_result"
    }
   ],
   "source": [
    "f'expected std = {round(rtn,0)}, actual std = {round(np.sqrt(row_var_temp),0)}'"
   ]
  },
  {
   "cell_type": "markdown",
   "metadata": {},
   "source": [
    "##### col_var_temp"
   ]
  },
  {
   "cell_type": "markdown",
   "metadata": {},
   "source": [
    "~~~ python\n",
    "\"\"\"\n",
    "compute exact solution for column temporal\n",
    "variance from image stack\n",
    "\n",
    "Keyword Arguments:\n",
    "    img_stack (np.array): stack of images\n",
    "    ddof (int, 0): degree of freedom for variance calc\n",
    "\n",
    "Returns:\n",
    "    var (float): column temporal noise variance of img_stack\n",
    "\"\"\"\n",
    "~~~ "
   ]
  },
  {
   "cell_type": "code",
   "execution_count": 789,
   "metadata": {},
   "outputs": [],
   "source": [
    "col_var_temp = stats.col_var_temp(imgs)"
   ]
  },
  {
   "cell_type": "code",
   "execution_count": 790,
   "metadata": {
    "scrolled": true
   },
   "outputs": [
    {
     "data": {
      "text/plain": [
       "'expected shape = (), actual = ()'"
      ]
     },
     "execution_count": 790,
     "metadata": {},
     "output_type": "execute_result"
    }
   ],
   "source": [
    "f'expected shape = {()}, actual = {col_var_temp.shape}'"
   ]
  },
  {
   "cell_type": "code",
   "execution_count": 791,
   "metadata": {},
   "outputs": [
    {
     "data": {
      "text/plain": [
       "'expected std = 15, actual std = 15.0'"
      ]
     },
     "execution_count": 791,
     "metadata": {},
     "output_type": "execute_result"
    }
   ],
   "source": [
    "f'expected std = {ctn}, actual std = {round(np.mean(np.sqrt(col_var_temp)),0)}'"
   ]
  },
  {
   "cell_type": "markdown",
   "metadata": {},
   "source": [
    "##### pix_temp_var"
   ]
  },
  {
   "cell_type": "markdown",
   "metadata": {},
   "source": [
    "~~~ python\n",
    "\"\"\"\n",
    "compute exact solution for pixel temporal\n",
    "variance from image stack\n",
    "\n",
    "Keyword Arguments:\n",
    "    img_stack (np.array): stack of images\n",
    "    ddof (int, 0): degree of freedom for variance calc\n",
    "\n",
    "Returns:\n",
    "    var (float): pixel temporal noise variance\n",
    "\"\"\"\n",
    "~~~"
   ]
  },
  {
   "cell_type": "code",
   "execution_count": 792,
   "metadata": {},
   "outputs": [],
   "source": [
    "pix_var_temp = stats.pix_var_temp(imgs)"
   ]
  },
  {
   "cell_type": "code",
   "execution_count": 793,
   "metadata": {
    "scrolled": false
   },
   "outputs": [
    {
     "data": {
      "text/plain": [
       "'expected shape = (), actual = ()'"
      ]
     },
     "execution_count": 793,
     "metadata": {},
     "output_type": "execute_result"
    }
   ],
   "source": [
    "f'expected shape = {()}, actual = {pix_var_temp.shape}'"
   ]
  },
  {
   "cell_type": "code",
   "execution_count": 794,
   "metadata": {
    "scrolled": true
   },
   "outputs": [
    {
     "data": {
      "text/plain": [
       "'expected std = 20, actual std = 20.0'"
      ]
     },
     "execution_count": 794,
     "metadata": {},
     "output_type": "execute_result"
    }
   ],
   "source": [
    "f'expected std = {ptn}, actual std = {round(np.mean(np.sqrt(pix_var_temp)),0)}'"
   ]
  },
  {
   "cell_type": "markdown",
   "metadata": {},
   "source": [
    "##### total_temp_var"
   ]
  },
  {
   "cell_type": "markdown",
   "metadata": {},
   "source": [
    "~~~ python\n",
    "\"\"\"\n",
    "compute total temporal variance from a stack of images\n",
    "\n",
    "Keyword Arguments:\n",
    "    img_stack (np.array): stack of images\n",
    "\n",
    "    ddof (int, 0): degree of freedom for variance calc\n",
    "\n",
    "Returns:\n",
    "    var (float): total temporal variance of img\n",
    "\"\"\"\n",
    "~~~"
   ]
  },
  {
   "cell_type": "code",
   "execution_count": 795,
   "metadata": {},
   "outputs": [],
   "source": [
    "tot_temp_var = stats.total_var_temp(imgs)"
   ]
  },
  {
   "cell_type": "code",
   "execution_count": 796,
   "metadata": {
    "scrolled": true
   },
   "outputs": [
    {
     "data": {
      "text/plain": [
       "'expected shape = (), actual = ()'"
      ]
     },
     "execution_count": 796,
     "metadata": {},
     "output_type": "execute_result"
    }
   ],
   "source": [
    "f'expected shape = {()}, actual = {total_var.shape}'"
   ]
  },
  {
   "cell_type": "code",
   "execution_count": 797,
   "metadata": {},
   "outputs": [
    {
     "data": {
      "text/plain": [
       "'expected std = 28, actual std = 28.0'"
      ]
     },
     "execution_count": 797,
     "metadata": {},
     "output_type": "execute_result"
    }
   ],
   "source": [
    "f'expected std = {round(tot_t)}, actual std = {round(np.sqrt(tot_temp_var),0)}'"
   ]
  },
  {
   "cell_type": "markdown",
   "metadata": {},
   "source": [
    "##### tot_var_img_stack"
   ]
  },
  {
   "cell_type": "markdown",
   "metadata": {},
   "source": [
    "~~~ python\n",
    "\"\"\"\n",
    "take a stack of images and compute\n",
    "the per pixel variance (total temporal noise)\n",
    "\n",
    "Keyword Arguments:\n",
    "    img_stack (np.array): stack of images\n",
    "    ddof (int, 0): degree of freedom for variance calc\n",
    "\n",
    "Returns:\n",
    "    var_im -- 2D image of pix temporal noise values\n",
    "\"\"\"\n",
    "~~~"
   ]
  },
  {
   "cell_type": "code",
   "execution_count": 798,
   "metadata": {},
   "outputs": [],
   "source": [
    "var_img = stats.tot_var_img_stack(imgs)"
   ]
  },
  {
   "cell_type": "code",
   "execution_count": 799,
   "metadata": {
    "scrolled": true
   },
   "outputs": [
    {
     "data": {
      "text/plain": [
       "'expected shape = (100, 100), actual = (100, 100)'"
      ]
     },
     "execution_count": 799,
     "metadata": {},
     "output_type": "execute_result"
    }
   ],
   "source": [
    "f'expected shape = {(rows, cols)}, actual = {var_img.shape}'"
   ]
  },
  {
   "cell_type": "code",
   "execution_count": 800,
   "metadata": {},
   "outputs": [
    {
     "data": {
      "text/plain": [
       "'expected std = 28.0, actual std = 28.0'"
      ]
     },
     "execution_count": 800,
     "metadata": {},
     "output_type": "execute_result"
    }
   ],
   "source": [
    "f'expected std = {round(tot_t,0)}, actual std = {round(np.sqrt(np.mean(var_img)),0)}'"
   ]
  },
  {
   "cell_type": "markdown",
   "metadata": {},
   "source": [
    "##### All"
   ]
  },
  {
   "cell_type": "markdown",
   "metadata": {},
   "source": [
    "~~~ python\n",
    "\"\"\"\n",
    "compute temporal noise metrics from a stack of images\n",
    "\n",
    "Keyword Arguments:\n",
    "    img_stack (np.array): stack of images\n",
    "    ddof (int, 0): degree of freedom for variance calc\n",
    "\n",
    "Returns:\n",
    "    var (dict): row_var_temp\n",
    "                col_var_temp\n",
    "                pix_var_temp\n",
    "                tot_var_temp\n",
    "\"\"\"\n",
    "~~~"
   ]
  },
  {
   "cell_type": "code",
   "execution_count": 801,
   "metadata": {},
   "outputs": [],
   "source": [
    "all_temp_var = stats.noise_metrics_temp(imgs)"
   ]
  },
  {
   "cell_type": "code",
   "execution_count": 802,
   "metadata": {},
   "outputs": [
    {
     "data": {
      "text/plain": [
       "{'tot_var_temp': 769.2446867441964,\n",
       " 'col_var_temp': 227.26016707180506,\n",
       " 'row_var_temp': 155.9210973054019,\n",
       " 'pix_var_temp': 390.0028450442037}"
      ]
     },
     "execution_count": 802,
     "metadata": {},
     "output_type": "execute_result"
    }
   ],
   "source": [
    "all_temp_var"
   ]
  },
  {
   "cell_type": "markdown",
   "metadata": {},
   "source": [
    "#### Profiles"
   ]
  },
  {
   "cell_type": "markdown",
   "metadata": {},
   "source": [
    "~~~ python\n",
    "\"\"\"\n",
    "calculate profiles for an image\n",
    "\n",
    "Keyword Arguments:\n",
    "    img (np.array): image to calculate profiles from\n",
    "    horizontal (bool): if True horizontal profile is takem, else vertical\n",
    "\n",
    "Returns:\n",
    "    temp (dict): index: index of columns\n",
    "                 middle: center value of columns\n",
    "                 mean: mean value of columns\n",
    "                 max: max value of columns\n",
    "                 min: min value of columns\n",
    "\"\"\"\n",
    "~~~"
   ]
  },
  {
   "cell_type": "markdown",
   "metadata": {},
   "source": [
    "##### Horizontal"
   ]
  },
  {
   "cell_type": "code",
   "execution_count": 803,
   "metadata": {},
   "outputs": [],
   "source": [
    "hor_profile = stats.profile(avg_img, horizontal=True)"
   ]
  },
  {
   "cell_type": "code",
   "execution_count": 804,
   "metadata": {},
   "outputs": [
    {
     "data": {
      "text/html": [
       "<div>\n",
       "<style scoped>\n",
       "    .dataframe tbody tr th:only-of-type {\n",
       "        vertical-align: middle;\n",
       "    }\n",
       "\n",
       "    .dataframe tbody tr th {\n",
       "        vertical-align: top;\n",
       "    }\n",
       "\n",
       "    .dataframe thead th {\n",
       "        text-align: right;\n",
       "    }\n",
       "</style>\n",
       "<table border=\"1\" class=\"dataframe\">\n",
       "  <thead>\n",
       "    <tr style=\"text-align: right;\">\n",
       "      <th></th>\n",
       "      <th>Index Horizontal</th>\n",
       "      <th>Middle Horizontal</th>\n",
       "      <th>Mean Horizontal</th>\n",
       "      <th>Max Horizontal</th>\n",
       "      <th>Min Horizontal</th>\n",
       "    </tr>\n",
       "  </thead>\n",
       "  <tbody>\n",
       "    <tr>\n",
       "      <th>0</th>\n",
       "      <td>0</td>\n",
       "      <td>167.933440</td>\n",
       "      <td>167.812430</td>\n",
       "      <td>176.390217</td>\n",
       "      <td>160.965906</td>\n",
       "    </tr>\n",
       "    <tr>\n",
       "      <th>1</th>\n",
       "      <td>1</td>\n",
       "      <td>166.162889</td>\n",
       "      <td>166.995329</td>\n",
       "      <td>175.852278</td>\n",
       "      <td>157.333051</td>\n",
       "    </tr>\n",
       "    <tr>\n",
       "      <th>2</th>\n",
       "      <td>2</td>\n",
       "      <td>164.795901</td>\n",
       "      <td>167.455633</td>\n",
       "      <td>176.960481</td>\n",
       "      <td>158.285398</td>\n",
       "    </tr>\n",
       "    <tr>\n",
       "      <th>3</th>\n",
       "      <td>3</td>\n",
       "      <td>170.444356</td>\n",
       "      <td>168.757805</td>\n",
       "      <td>177.481978</td>\n",
       "      <td>160.240193</td>\n",
       "    </tr>\n",
       "    <tr>\n",
       "      <th>4</th>\n",
       "      <td>4</td>\n",
       "      <td>168.830044</td>\n",
       "      <td>167.877651</td>\n",
       "      <td>175.832234</td>\n",
       "      <td>157.722189</td>\n",
       "    </tr>\n",
       "  </tbody>\n",
       "</table>\n",
       "</div>"
      ],
      "text/plain": [
       "   Index Horizontal  Middle Horizontal  Mean Horizontal  Max Horizontal  \\\n",
       "0                 0         167.933440       167.812430      176.390217   \n",
       "1                 1         166.162889       166.995329      175.852278   \n",
       "2                 2         164.795901       167.455633      176.960481   \n",
       "3                 3         170.444356       168.757805      177.481978   \n",
       "4                 4         168.830044       167.877651      175.832234   \n",
       "\n",
       "   Min Horizontal  \n",
       "0      160.965906  \n",
       "1      157.333051  \n",
       "2      158.285398  \n",
       "3      160.240193  \n",
       "4      157.722189  "
      ]
     },
     "execution_count": 804,
     "metadata": {},
     "output_type": "execute_result"
    }
   ],
   "source": [
    "df = pd.DataFrame.from_dict(hor_profile)\n",
    "df.head()"
   ]
  },
  {
   "cell_type": "code",
   "execution_count": 805,
   "metadata": {},
   "outputs": [
    {
     "data": {
      "image/png": "[encoded data removed]",
      "text/plain": [
       "<Figure size 881.25x481 with 1 Axes>"
      ]
     },
     "metadata": {},
     "output_type": "display_data"
    }
   ],
   "source": [
    "fcp.plot(df=df, x='Index Horizontal', y=['Max Horizontal','Mean Horizontal','Middle Horizontal','Min Horizontal'],\n",
    "         ax_size=[600,400], grid_minor=True, markers=False, line_width=2, label_y='Profiles')"
   ]
  },
  {
   "cell_type": "markdown",
   "metadata": {},
   "source": [
    "##### Vertical"
   ]
  },
  {
   "cell_type": "code",
   "execution_count": 806,
   "metadata": {},
   "outputs": [],
   "source": [
    "vert_profile = stats.profile(avg_img, horizontal=False)"
   ]
  },
  {
   "cell_type": "code",
   "execution_count": 807,
   "metadata": {},
   "outputs": [
    {
     "data": {
      "text/html": [
       "<div>\n",
       "<style scoped>\n",
       "    .dataframe tbody tr th:only-of-type {\n",
       "        vertical-align: middle;\n",
       "    }\n",
       "\n",
       "    .dataframe tbody tr th {\n",
       "        vertical-align: top;\n",
       "    }\n",
       "\n",
       "    .dataframe thead th {\n",
       "        text-align: right;\n",
       "    }\n",
       "</style>\n",
       "<table border=\"1\" class=\"dataframe\">\n",
       "  <thead>\n",
       "    <tr style=\"text-align: right;\">\n",
       "      <th></th>\n",
       "      <th>Index Vertical</th>\n",
       "      <th>Middle Vertical</th>\n",
       "      <th>Mean Vertical</th>\n",
       "      <th>Max Vertical</th>\n",
       "      <th>Min Vertical</th>\n",
       "    </tr>\n",
       "  </thead>\n",
       "  <tbody>\n",
       "    <tr>\n",
       "      <th>0</th>\n",
       "      <td>0</td>\n",
       "      <td>171.630826</td>\n",
       "      <td>171.909629</td>\n",
       "      <td>180.172437</td>\n",
       "      <td>166.814402</td>\n",
       "    </tr>\n",
       "    <tr>\n",
       "      <th>1</th>\n",
       "      <td>1</td>\n",
       "      <td>167.144960</td>\n",
       "      <td>170.381019</td>\n",
       "      <td>177.189509</td>\n",
       "      <td>165.835651</td>\n",
       "    </tr>\n",
       "    <tr>\n",
       "      <th>2</th>\n",
       "      <td>2</td>\n",
       "      <td>160.988510</td>\n",
       "      <td>163.555819</td>\n",
       "      <td>168.848541</td>\n",
       "      <td>157.744343</td>\n",
       "    </tr>\n",
       "    <tr>\n",
       "      <th>3</th>\n",
       "      <td>3</td>\n",
       "      <td>167.245817</td>\n",
       "      <td>168.313952</td>\n",
       "      <td>176.796633</td>\n",
       "      <td>162.336367</td>\n",
       "    </tr>\n",
       "    <tr>\n",
       "      <th>4</th>\n",
       "      <td>4</td>\n",
       "      <td>169.948078</td>\n",
       "      <td>169.413727</td>\n",
       "      <td>175.885125</td>\n",
       "      <td>163.428748</td>\n",
       "    </tr>\n",
       "  </tbody>\n",
       "</table>\n",
       "</div>"
      ],
      "text/plain": [
       "   Index Vertical  Middle Vertical  Mean Vertical  Max Vertical  Min Vertical\n",
       "0               0       171.630826     171.909629    180.172437    166.814402\n",
       "1               1       167.144960     170.381019    177.189509    165.835651\n",
       "2               2       160.988510     163.555819    168.848541    157.744343\n",
       "3               3       167.245817     168.313952    176.796633    162.336367\n",
       "4               4       169.948078     169.413727    175.885125    163.428748"
      ]
     },
     "execution_count": 807,
     "metadata": {},
     "output_type": "execute_result"
    }
   ],
   "source": [
    "dfv = pd.DataFrame.from_dict(vert_profile)\n",
    "dfv.head()"
   ]
  },
  {
   "cell_type": "code",
   "execution_count": 808,
   "metadata": {},
   "outputs": [
    {
     "data": {
      "image/png": "[encoded data removed]",
      "text/plain": [
       "<Figure size 860.75x481 with 1 Axes>"
      ]
     },
     "metadata": {},
     "output_type": "display_data"
    }
   ],
   "source": [
    "fcp.plot(df=dfv, x='Index Vertical', y=['Max Vertical','Mean Vertical','Middle Vertical','Min Vertical'],\n",
    "         ax_size=[600,400], grid_minor=True, markers=False, line_width=2, label_y='Profiles')"
   ]
  },
  {
   "cell_type": "markdown",
   "metadata": {},
   "source": [
    "#### Agg Functions"
   ]
  },
  {
   "cell_type": "markdown",
   "metadata": {},
   "source": [
    "##### agg_results"
   ]
  },
  {
   "cell_type": "markdown",
   "metadata": {},
   "source": [
    "~~~ python\n",
    "\"\"\"\n",
    "get standard deviation for all fpn and temporal noise components\n",
    "\n",
    "Keyword Arguments:\n",
    "    img_stack (np.array): stack of images\n",
    "    ddof (int, 0): degree of freedom for variance calc\n",
    "    units (str, 'DN'): units of pixel values used for column names\n",
    "    rmv_ttn (bool, True): if True remove residual temporal noise\n",
    "\n",
    "Returns:\n",
    "    stats (df) dataframe of summary stats\n",
    "\"\"\"\n",
    "~~~"
   ]
  },
  {
   "cell_type": "code",
   "execution_count": 809,
   "metadata": {},
   "outputs": [],
   "source": [
    "agg_results = stats.agg_results(imgs)"
   ]
  },
  {
   "cell_type": "code",
   "execution_count": 810,
   "metadata": {},
   "outputs": [
    {
     "data": {
      "text/html": [
       "<div>\n",
       "<style scoped>\n",
       "    .dataframe tbody tr th:only-of-type {\n",
       "        vertical-align: middle;\n",
       "    }\n",
       "\n",
       "    .dataframe tbody tr th {\n",
       "        vertical-align: top;\n",
       "    }\n",
       "\n",
       "    .dataframe thead th {\n",
       "        text-align: right;\n",
       "    }\n",
       "</style>\n",
       "<table border=\"1\" class=\"dataframe\">\n",
       "  <thead>\n",
       "    <tr style=\"text-align: right;\">\n",
       "      <th></th>\n",
       "      <th>Mean [DN]</th>\n",
       "      <th>Total FPN [DN]</th>\n",
       "      <th>Pix FPN [DN]</th>\n",
       "      <th>Col FPN [DN]</th>\n",
       "      <th>Row FPN [DN]</th>\n",
       "      <th>Total Temp Noise [DN]</th>\n",
       "      <th>Pix Temp Noise [DN]</th>\n",
       "      <th>Col Temp Noise [DN]</th>\n",
       "      <th>Row Temp Noise [DN]</th>\n",
       "    </tr>\n",
       "  </thead>\n",
       "  <tbody>\n",
       "    <tr>\n",
       "      <th>0</th>\n",
       "      <td>168.185</td>\n",
       "      <td>3.676</td>\n",
       "      <td>1.896</td>\n",
       "      <td>1.149</td>\n",
       "      <td>2.939</td>\n",
       "      <td>27.735</td>\n",
       "      <td>19.748</td>\n",
       "      <td>15.075</td>\n",
       "      <td>12.487</td>\n",
       "    </tr>\n",
       "  </tbody>\n",
       "</table>\n",
       "</div>"
      ],
      "text/plain": [
       "   Mean [DN]  Total FPN [DN]  Pix FPN [DN]  Col FPN [DN]  Row FPN [DN]  \\\n",
       "0    168.185           3.676         1.896         1.149         2.939   \n",
       "\n",
       "   Total Temp Noise [DN]  Pix Temp Noise [DN]  Col Temp Noise [DN]  \\\n",
       "0                 27.735               19.748               15.075   \n",
       "\n",
       "   Row Temp Noise [DN]  \n",
       "0               12.487  "
      ]
     },
     "execution_count": 810,
     "metadata": {},
     "output_type": "execute_result"
    }
   ],
   "source": [
    "agg_results"
   ]
  },
  {
   "cell_type": "markdown",
   "metadata": {},
   "source": [
    "##### noise_metrics_all"
   ]
  },
  {
   "cell_type": "markdown",
   "metadata": {},
   "source": [
    "~~~ python\n",
    "\"\"\"\n",
    "compute spatial and temporal noise metrics from a stack\n",
    "of images\n",
    "\n",
    "Keyword Arguments:\n",
    "    img_stack (np.array): stack of images\n",
    "    ddof (int, 0): degree of freedom for variance calc\n",
    "    rmv_ttn (bool, True): if True remove residual temporal noise\n",
    "                          from spatial variance\n",
    "Returns:\n",
    "    all_var (dict): row_var\n",
    "                    col_var\n",
    "                    pix_var\n",
    "                    tot_var\n",
    "                    row_temp_var\n",
    "                    col_temp_var\n",
    "                    pix_temp_var\n",
    "                    tot_temp_var\n",
    "                    mean\n",
    "\"\"\"\n",
    "~~~"
   ]
  },
  {
   "cell_type": "code",
   "execution_count": 811,
   "metadata": {},
   "outputs": [
    {
     "data": {
      "text/plain": [
       "{'tot_var': 13.515950095456397,\n",
       " 'col_var': 1.3210000655736722,\n",
       " 'row_var': 8.635544849748321,\n",
       " 'pix_var': 3.5957256411561835,\n",
       " 'tot_var_temp': 769.2446867441964,\n",
       " 'col_var_temp': 227.26016707180506,\n",
       " 'row_var_temp': 155.9210973054019,\n",
       " 'pix_var_temp': 390.0028450442037,\n",
       " 'mean': 168.18450262011518}"
      ]
     },
     "execution_count": 811,
     "metadata": {},
     "output_type": "execute_result"
    }
   ],
   "source": [
    "all_v = stats.noise_metrics_all(imgs)\n",
    "all_v"
   ]
  },
  {
   "cell_type": "code",
   "execution_count": 812,
   "metadata": {},
   "outputs": [],
   "source": [
    "col_var_temp = np.mean(imgs, axis=1).var(ddof=1)**.5\n",
    "row_var_temp = np.mean(imgs, axis=2).var(ddof=1)**.5\n",
    "tot_var_temp = np.var(imgs, axis=0, ddof=1).mean()"
   ]
  },
  {
   "cell_type": "code",
   "execution_count": 813,
   "metadata": {},
   "outputs": [],
   "source": [
    "ims1 = stats.to_numpy(imgs).copy()"
   ]
  }
 ],
 "metadata": {
  "kernelspec": {
   "display_name": "Python 3 (ipykernel)",
   "language": "python",
   "name": "python3"
  },
  "language_info": {
   "codemirror_mode": {
    "name": "ipython",
    "version": 3
   },
   "file_extension": ".py",
   "mimetype": "text/x-python",
   "name": "python",
   "nbconvert_exporter": "python",
   "pygments_lexer": "ipython3",
   "version": "3.7.9"
  },
  "toc": {
   "base_numbering": 1,
   "nav_menu": {},
   "number_sections": true,
   "sideBar": true,
   "skip_h1_title": true,
   "title_cell": "Table of Contents",
   "title_sidebar": "Contents",
   "toc_cell": false,
   "toc_position": {
    "height": "calc(100% - 180px)",
    "left": "10px",
    "top": "150px",
    "width": "383.976px"
   },
   "toc_section_display": true,
   "toc_window_display": true
  },
  "varInspector": {
   "cols": {
    "lenName": 16,
    "lenType": 16,
    "lenVar": 40
   },
   "kernels_config": {
    "python": {
     "delete_cmd_postfix": "",
     "delete_cmd_prefix": "del ",
     "library": "var_list.py",
     "varRefreshCmd": "print(var_dic_list())"
    },
    "r": {
     "delete_cmd_postfix": ") ",
     "delete_cmd_prefix": "rm(",
     "library": "var_list.r",
     "varRefreshCmd": "cat(var_dic_list()) "
    }
   },
   "types_to_exclude": [
    "module",
    "function",
    "builtin_function_or_method",
    "instance",
    "_Feature"
   ],
   "window_display": false
  }
 },
 "nbformat": 4,
 "nbformat_minor": 4
}
