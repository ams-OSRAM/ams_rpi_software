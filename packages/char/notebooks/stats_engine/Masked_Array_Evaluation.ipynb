{
 "cells": [
  {
   "cell_type": "code",
   "execution_count": 33,
   "id": "ad46af8c",
   "metadata": {},
   "outputs": [
    {
     "name": "stdout",
     "output_type": "stream",
     "text": [
      "The autoreload extension is already loaded. To reload it, use:\n",
      "  %reload_ext autoreload\n"
     ]
    }
   ],
   "source": [
    "%load_ext autoreload\n",
    "%autoreload 2\n",
    "\n",
    "import sys\n",
    "import os\n",
    "import pandas as pd\n",
    "import numpy as np\n",
    "sys.path.insert(0, r'C:\\workspace\\characterization')\n",
    "from matplotlib import pyplot as plt\n",
    "import fivecentplots as fcp\n",
    "from characterization_ams.stats_engine import pixelwise_stats as ps\n",
    "from characterization_ams.stats_engine import stats\n",
    "from characterization_ams.standard_tests import ptc\n",
    "from characterization_ams.unittests import image_generator\n",
    "from characterization_ams.utilities import image\n",
    "import pdb\n",
    "import warnings\n",
    "warnings.filterwarnings(\"ignore\")"
   ]
  },
  {
   "cell_type": "code",
   "execution_count": 34,
   "id": "1297ab91",
   "metadata": {},
   "outputs": [],
   "source": [
    "gen_images = image_generator.gen_images\n",
    "rows=5000\n",
    "cols=5000\n",
    "\n",
    "# fpn\n",
    "rfpn=15\n",
    "pfpn=5\n",
    "cfpn=1\n",
    "tot_f = np.sqrt(rfpn**2 + pfpn**2 + cfpn**2)\n",
    "\n",
    "# temp noise\n",
    "ctn = 15\n",
    "rtn = 12\n",
    "ptn = 20\n",
    "tot_t = np.sqrt(ctn**2 + rtn**2 + ptn**2)\n",
    "n_images=5\n",
    "pedestal = 168\n",
    "imgs = gen_images(cfpn=cfpn,\n",
    "                  ptn=ptn,\n",
    "                  rtn=rtn,\n",
    "                  ctn=ctn,\n",
    "                  rfpn=rfpn,\n",
    "                  pfpn=pfpn,\n",
    "                  rows=rows,\n",
    "                  cols=cols,\n",
    "                  pedestal=pedestal,\n",
    "                  n_images=n_images)"
   ]
  },
  {
   "cell_type": "code",
   "execution_count": 35,
   "id": "c3dfd378",
   "metadata": {},
   "outputs": [],
   "source": [
    "imgs[0].shape\n",
    "imgs_ = np.array(imgs)"
   ]
  },
  {
   "cell_type": "markdown",
   "id": "767b5e4a",
   "metadata": {},
   "source": [
    "## Speed Test"
   ]
  },
  {
   "cell_type": "code",
   "execution_count": 36,
   "id": "18eb1dee",
   "metadata": {},
   "outputs": [],
   "source": [
    "img = imgs[0]"
   ]
  },
  {
   "cell_type": "markdown",
   "id": "4f23884d",
   "metadata": {},
   "source": [
    "### Spatial Variance"
   ]
  },
  {
   "cell_type": "markdown",
   "id": "70a6bfa5",
   "metadata": {},
   "source": [
    "#### Masked Array"
   ]
  },
  {
   "cell_type": "code",
   "execution_count": 37,
   "id": "1b0a8f50",
   "metadata": {},
   "outputs": [],
   "source": [
    "mask = np.zeros((img.shape[0], img.shape[1]))\n",
    "mask[1::4] = 1"
   ]
  },
  {
   "cell_type": "code",
   "execution_count": 38,
   "id": "576cdd19",
   "metadata": {},
   "outputs": [],
   "source": [
    "@measure\n",
    "def mavar(img, mask=np.ma.nomask):\n",
    "    img = np.ma.masked_array(img, mask=mask)\n",
    "    var = np.ma.var(img)\n",
    "    return var"
   ]
  },
  {
   "cell_type": "markdown",
   "id": "eef26657",
   "metadata": {},
   "source": [
    "##### No mask"
   ]
  },
  {
   "cell_type": "code",
   "execution_count": 39,
   "id": "bc12234f",
   "metadata": {},
   "outputs": [
    {
     "name": "stdout",
     "output_type": "stream",
     "text": [
      "Total execution time: 285 ms\n"
     ]
    },
    {
     "data": {
      "text/plain": [
       "1025.9228198879086"
      ]
     },
     "execution_count": 39,
     "metadata": {},
     "output_type": "execute_result"
    }
   ],
   "source": [
    "mavar(img, mask=np.ma.nomask)"
   ]
  },
  {
   "cell_type": "markdown",
   "id": "aa803cf7",
   "metadata": {},
   "source": [
    "##### Mask"
   ]
  },
  {
   "cell_type": "code",
   "execution_count": 40,
   "id": "41fa7ff1",
   "metadata": {},
   "outputs": [
    {
     "name": "stdout",
     "output_type": "stream",
     "text": [
      "Total execution time: 946 ms\n"
     ]
    },
    {
     "data": {
      "text/plain": [
       "1031.6418947044274"
      ]
     },
     "execution_count": 40,
     "metadata": {},
     "output_type": "execute_result"
    }
   ],
   "source": [
    "mavar(img, mask=mask)"
   ]
  },
  {
   "cell_type": "markdown",
   "id": "e2eb3673",
   "metadata": {},
   "source": [
    "#### Normal Array"
   ]
  },
  {
   "cell_type": "code",
   "execution_count": 41,
   "id": "e8db461f",
   "metadata": {},
   "outputs": [],
   "source": [
    "@measure\n",
    "def var(img):\n",
    "    var = np.var(img)\n",
    "    return var"
   ]
  },
  {
   "cell_type": "code",
   "execution_count": 42,
   "id": "d2f3f40a",
   "metadata": {},
   "outputs": [
    {
     "name": "stdout",
     "output_type": "stream",
     "text": [
      "Total execution time: 241 ms\n"
     ]
    },
    {
     "data": {
      "text/plain": [
       "1025.9228198879086"
      ]
     },
     "execution_count": 42,
     "metadata": {},
     "output_type": "execute_result"
    }
   ],
   "source": [
    "var(img)"
   ]
  },
  {
   "cell_type": "markdown",
   "id": "72aa3e80",
   "metadata": {},
   "source": [
    "## Temporal Noise"
   ]
  },
  {
   "cell_type": "markdown",
   "id": "8727551e",
   "metadata": {},
   "source": [
    "### Masked Array"
   ]
  },
  {
   "cell_type": "code",
   "execution_count": 43,
   "id": "68b8dc93",
   "metadata": {},
   "outputs": [],
   "source": [
    "@measure\n",
    "def temp_mavar(imgs, mask=np.ma.nomask):\n",
    "    imgs = np.ma.masked_array(imgs, mask=mask)\n",
    "    temp_var = np.ma.mean(np.ma.var(imgs, axis=0))\n",
    "    return temp_var"
   ]
  },
  {
   "cell_type": "markdown",
   "id": "11ec5253",
   "metadata": {},
   "source": [
    "#### No Mask"
   ]
  },
  {
   "cell_type": "code",
   "execution_count": 44,
   "id": "d8533ee7",
   "metadata": {},
   "outputs": [
    {
     "name": "stdout",
     "output_type": "stream",
     "text": [
      "Total execution time: 2252 ms\n"
     ]
    },
    {
     "data": {
      "text/plain": [
       "615.694975251597"
      ]
     },
     "execution_count": 44,
     "metadata": {},
     "output_type": "execute_result"
    }
   ],
   "source": [
    "temp_mavar(imgs_, mask=np.ma.nomask)"
   ]
  },
  {
   "cell_type": "markdown",
   "id": "983d211d",
   "metadata": {},
   "source": [
    "#### Mask"
   ]
  },
  {
   "cell_type": "code",
   "execution_count": 45,
   "id": "b02e546d",
   "metadata": {},
   "outputs": [],
   "source": [
    "mask = np.zeros((imgs_.shape[0], imgs_.shape[1],imgs_.shape[2]))\n",
    "mask[1::4] = 1"
   ]
  },
  {
   "cell_type": "code",
   "execution_count": 46,
   "id": "5e4def96",
   "metadata": {},
   "outputs": [
    {
     "name": "stdout",
     "output_type": "stream",
     "text": [
      "Total execution time: 7954 ms\n"
     ]
    },
    {
     "data": {
      "text/plain": [
       "579.5695464456087"
      ]
     },
     "execution_count": 46,
     "metadata": {},
     "output_type": "execute_result"
    }
   ],
   "source": [
    "temp_mavar(imgs_, mask=mask)"
   ]
  },
  {
   "cell_type": "markdown",
   "id": "019928e9",
   "metadata": {},
   "source": [
    "#### Normal Array"
   ]
  },
  {
   "cell_type": "code",
   "execution_count": 47,
   "id": "96046428",
   "metadata": {},
   "outputs": [],
   "source": [
    "@measure\n",
    "def temp_var(imgs):\n",
    "    var = np.var(imgs, axis=0).mean()\n",
    "    return var"
   ]
  },
  {
   "cell_type": "code",
   "execution_count": 48,
   "id": "ddb98983",
   "metadata": {},
   "outputs": [
    {
     "name": "stdout",
     "output_type": "stream",
     "text": [
      "Total execution time: 1435 ms\n"
     ]
    },
    {
     "data": {
      "text/plain": [
       "615.694975251597"
      ]
     },
     "execution_count": 48,
     "metadata": {},
     "output_type": "execute_result"
    }
   ],
   "source": [
    "temp_var(imgs_)"
   ]
  },
  {
   "cell_type": "markdown",
   "id": "517e584c",
   "metadata": {},
   "source": [
    "## helper Functions"
   ]
  },
  {
   "cell_type": "code",
   "execution_count": 49,
   "id": "a3fccd32",
   "metadata": {},
   "outputs": [],
   "source": [
    "from functools import wraps\n",
    "from time import time\n",
    "def measure(func):\n",
    "    @wraps(func)\n",
    "    def _time_it(*args, **kwargs):\n",
    "        start = int(round(time() * 1000))\n",
    "        try:\n",
    "            return func(*args, **kwargs)\n",
    "        finally:\n",
    "            end_ = int(round(time() * 1000)) - start\n",
    "            print(f\"Total execution time: {end_ if end_ > 0 else 0} ms\")\n",
    "    return _time_it\n"
   ]
  }
 ],
 "metadata": {
  "kernelspec": {
   "display_name": "Python 3 (ipykernel)",
   "language": "python",
   "name": "python3"
  },
  "language_info": {
   "codemirror_mode": {
    "name": "ipython",
    "version": 3
   },
   "file_extension": ".py",
   "mimetype": "text/x-python",
   "name": "python",
   "nbconvert_exporter": "python",
   "pygments_lexer": "ipython3",
   "version": "3.8.12"
  },
  "toc": {
   "base_numbering": 1,
   "nav_menu": {},
   "number_sections": true,
   "sideBar": true,
   "skip_h1_title": false,
   "title_cell": "Table of Contents",
   "title_sidebar": "Contents",
   "toc_cell": false,
   "toc_position": {},
   "toc_section_display": true,
   "toc_window_display": true
  }
 },
 "nbformat": 4,
 "nbformat_minor": 5
}
