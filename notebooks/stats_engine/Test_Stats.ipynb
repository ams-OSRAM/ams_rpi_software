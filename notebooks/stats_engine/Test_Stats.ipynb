{
 "cells": [
  {
   "cell_type": "markdown",
   "metadata": {},
   "source": [
    "# <center>Test Stats\n",
    "# <center>Prepared by Denver Lloyd\n",
    "# <center>8/10/2021"
   ]
  },
  {
   "cell_type": "code",
   "execution_count": 1,
   "metadata": {},
   "outputs": [],
   "source": [
    "%load_ext autoreload\n",
    "%autoreload 2\n",
    "\n",
    "import sys\n",
    "import os\n",
    "import pandas as pd\n",
    "import numpy as np\n",
    "from matplotlib import pyplot as plt\n",
    "import fivecentplots as fcp\n",
    "from characterization_ams.stats_engine import stats\n",
    "from characterization_ams.emva import emva\n",
    "from characterization_ams.unittests import image_generator\n",
    "from characterization_ams.utilities import image\n",
    "import pdb\n",
    "import warnings\n",
    "warnings.filterwarnings(\"ignore\")"
   ]
  },
  {
   "cell_type": "code",
   "execution_count": null,
   "metadata": {},
   "outputs": [],
   "source": [
    "class Sequence"
   ]
  },
  {
   "cell_type": "markdown",
   "metadata": {},
   "source": [
    "## Image Generator"
   ]
  },
  {
   "cell_type": "markdown",
   "metadata": {},
   "source": [
    "### Generate Image"
   ]
  },
  {
   "cell_type": "code",
   "execution_count": 2,
   "metadata": {},
   "outputs": [],
   "source": [
    "rows=100\n",
    "cols=100\n",
    "# fpn\n",
    "rfpn=15\n",
    "pfpn=5\n",
    "cfpn=1\n",
    "tot_f = np.sqrt(rfpn**2 + pfpn**2 + cfpn**2)\n",
    "# temp noise\n",
    "ctn = 15\n",
    "rtn = 12\n",
    "ptn = 20\n",
    "tot_t = np.sqrt(ctn**2 + rtn**2 + ptn**2)\n",
    "n_images=1000\n",
    "pedestal = 168\n",
    "imgs = image_generator.gen_images(cfpn=cfpn,\n",
    "                                  ptn=ptn,\n",
    "                                  rtn=rtn,\n",
    "                                  ctn=ctn,\n",
    "                                  rfpn=rfpn,\n",
    "                                  pfpn=pfpn,\n",
    "                                  rows=rows,\n",
    "                                  cols=cols,\n",
    "                                  pedestal=pedestal,\n",
    "                                  n_images=n_images)"
   ]
  },
  {
   "cell_type": "code",
   "execution_count": 3,
   "metadata": {},
   "outputs": [],
   "source": [
    "avg_img = stats.avg_offset(imgs)\n",
    "L = len(imgs)\n",
    "ttn_var = stats.total_var_temp(imgs)"
   ]
  },
  {
   "cell_type": "markdown",
   "metadata": {
    "heading_collapsed": true
   },
   "source": [
    "### Generate Image"
   ]
  },
  {
   "cell_type": "markdown",
   "metadata": {},
   "source": [
    "## Stats Engine"
   ]
  },
  {
   "cell_type": "markdown",
   "metadata": {},
   "source": [
    "### Image Functions"
   ]
  },
  {
   "cell_type": "markdown",
   "metadata": {},
   "source": [
    "#### Average"
   ]
  },
  {
   "cell_type": "markdown",
   "metadata": {},
   "source": [
    "##### avg_img"
   ]
  },
  {
   "cell_type": "markdown",
   "metadata": {},
   "source": [
    "~~~ python\n",
    "\"\"\"\n",
    "Take a stack of images and compute the per pixel average\n",
    "\n",
    "Keyword Arguments:\n",
    "    img_stack (np.array): stack of images\n",
    "\n",
    "Returns:\n",
    "    avg_img (np.array): 2D image of per pixel averages from img_stack\n",
    "\"\"\"\n",
    "~~~"
   ]
  },
  {
   "cell_type": "code",
   "execution_count": 18,
   "metadata": {},
   "outputs": [],
   "source": [
    "avg_img = stats.avg_img(imgs)\n",
    "\n",
    "# this is not 100% correct because temp and fpn stack calculated different currently \n",
    "L = len(imgs)\n",
    "ttn_var = stats.noise_metrics_temp(imgs)['tot_var_temp']"
   ]
  },
  {
   "cell_type": "code",
   "execution_count": 19,
   "metadata": {
    "scrolled": true
   },
   "outputs": [
    {
     "data": {
      "text/plain": [
       "'expected shape = (100, 100), actual = (100, 100)'"
      ]
     },
     "execution_count": 19,
     "metadata": {},
     "output_type": "execute_result"
    }
   ],
   "source": [
    "f'expected shape = {(rows, cols)}, actual = {avg_img.shape}'"
   ]
  },
  {
   "cell_type": "code",
   "execution_count": 20,
   "metadata": {},
   "outputs": [
    {
     "data": {
      "text/plain": [
       "'expected mean = 168, actual mean = 169.0'"
      ]
     },
     "execution_count": 20,
     "metadata": {},
     "output_type": "execute_result"
    }
   ],
   "source": [
    "f'expected mean = {round(pedestal,0)}, actual mean = {round(avg_img.mean(),0)}'"
   ]
  },
  {
   "cell_type": "markdown",
   "metadata": {},
   "source": [
    "##### avg_offset"
   ]
  },
  {
   "cell_type": "markdown",
   "metadata": {},
   "source": [
    "~~~ python\n",
    "\"\"\"\n",
    "compute the average of a frame, returns a scalar\n",
    "\n",
    "keyword arguments:\n",
    "    img (np.array): average image to compute mean on\n",
    "\n",
    "Returns:\n",
    "     mean (scalar)\n",
    "\"\"\"\n",
    "~~~"
   ]
  },
  {
   "cell_type": "code",
   "execution_count": 30,
   "metadata": {},
   "outputs": [],
   "source": [
    "f_avg = stats.avg_offset(avg_img)"
   ]
  },
  {
   "cell_type": "code",
   "execution_count": 31,
   "metadata": {
    "scrolled": true
   },
   "outputs": [
    {
     "data": {
      "text/plain": [
       "'expected shape = (), actual = ()'"
      ]
     },
     "execution_count": 31,
     "metadata": {},
     "output_type": "execute_result"
    }
   ],
   "source": [
    "f'expected shape = {()}, actual = {f_avg.shape}'"
   ]
  },
  {
   "cell_type": "code",
   "execution_count": 32,
   "metadata": {},
   "outputs": [
    {
     "data": {
      "text/plain": [
       "'expected mean = 168, actual mean = 169.0'"
      ]
     },
     "execution_count": 32,
     "metadata": {},
     "output_type": "execute_result"
    }
   ],
   "source": [
    "f'expected mean = {round(pedestal,0)}, actual mean = {round(f_avg,0)}'"
   ]
  },
  {
   "cell_type": "markdown",
   "metadata": {},
   "source": [
    "##### col_avg"
   ]
  },
  {
   "cell_type": "markdown",
   "metadata": {},
   "source": [
    "~~~ python\n",
    "\"\"\"\n",
    "get column average\n",
    "\n",
    "Keyword Arguments:\n",
    "    img (np.array): img to calcuate column average on\n",
    "\n",
    "Returns:\n",
    "    avg (np.array): 1D array of column average values\n",
    "\"\"\"\n",
    "~~~"
   ]
  },
  {
   "cell_type": "code",
   "execution_count": 83,
   "metadata": {},
   "outputs": [],
   "source": [
    "avg_imgc = stats.col_avg(avg_img)"
   ]
  },
  {
   "cell_type": "code",
   "execution_count": 84,
   "metadata": {
    "scrolled": true
   },
   "outputs": [
    {
     "data": {
      "text/plain": [
       "'expected shape = (100, 0), actual = (100,)'"
      ]
     },
     "execution_count": 84,
     "metadata": {},
     "output_type": "execute_result"
    }
   ],
   "source": [
    "f'expected shape = {(cols,0)}, actual = {avg_imgc.shape}'"
   ]
  },
  {
   "cell_type": "code",
   "execution_count": 85,
   "metadata": {},
   "outputs": [
    {
     "data": {
      "text/plain": [
       "'expected mean = 168, actual mean = 169.0'"
      ]
     },
     "execution_count": 85,
     "metadata": {},
     "output_type": "execute_result"
    }
   ],
   "source": [
    "f'expected mean = {round(pedestal,0)}, actual mean = {round(avg_img.mean(),0)}'"
   ]
  },
  {
   "cell_type": "markdown",
   "metadata": {},
   "source": [
    "##### row_avg"
   ]
  },
  {
   "cell_type": "markdown",
   "metadata": {},
   "source": [
    "~~~ python\n",
    "\"\"\"\n",
    "get row average\n",
    "\n",
    "Keyword Arguments:\n",
    "    img (np.array): img to calcuate row average on\n",
    "\n",
    "Returns:\n",
    "    avg (np.array): 1D array of row average values\n",
    "\"\"\"\n",
    "~~~"
   ]
  },
  {
   "cell_type": "code",
   "execution_count": 86,
   "metadata": {},
   "outputs": [],
   "source": [
    "avg_imgr = stats.row_avg(avg_img)"
   ]
  },
  {
   "cell_type": "code",
   "execution_count": 87,
   "metadata": {
    "scrolled": true
   },
   "outputs": [
    {
     "data": {
      "text/plain": [
       "'expected shape = (0, 100), actual = (100,)'"
      ]
     },
     "execution_count": 87,
     "metadata": {},
     "output_type": "execute_result"
    }
   ],
   "source": [
    "f'expected shape = {(0,rows)}, actual = {avg_imgr.shape}'"
   ]
  },
  {
   "cell_type": "code",
   "execution_count": 88,
   "metadata": {},
   "outputs": [
    {
     "data": {
      "text/plain": [
       "'expected mean = 168, actual mean = 169.0'"
      ]
     },
     "execution_count": 88,
     "metadata": {},
     "output_type": "execute_result"
    }
   ],
   "source": [
    "f'expected mean = {round(pedestal,0)}, actual mean = {round(avg_img.mean(),0)}'"
   ]
  },
  {
   "cell_type": "markdown",
   "metadata": {},
   "source": [
    "#### FPN"
   ]
  },
  {
   "cell_type": "markdown",
   "metadata": {},
   "source": [
    "##### total_var"
   ]
  },
  {
   "cell_type": "markdown",
   "metadata": {},
   "source": [
    "~~~ python\n",
    "\"\"\"\n",
    "compute total variance from image with\n",
    "residual temporal noise removed\n",
    "\n",
    "Keyword Arguments:\n",
    "    img (np.array): input image (tyically average)\n",
    "    L (int): number of images used for average\n",
    "    ttn_var (float): temporal noise from image stack used to get img\n",
    "    ddof (int, 0): degree of freedom for variance calc\n",
    "    rmv_ttn (bool, True): if True remove residual temporal noise\n",
    "\n",
    "Returns:\n",
    "    var (float): total variance of img\n",
    "\"\"\"\n",
    "~~~"
   ]
  },
  {
   "cell_type": "code",
   "execution_count": 89,
   "metadata": {},
   "outputs": [],
   "source": [
    "total_var = stats.total_var(avg_img, L=L, ttn_var=ttn_var)"
   ]
  },
  {
   "cell_type": "code",
   "execution_count": 90,
   "metadata": {
    "scrolled": true
   },
   "outputs": [
    {
     "data": {
      "text/plain": [
       "'expected shape = (), actual = ()'"
      ]
     },
     "execution_count": 90,
     "metadata": {},
     "output_type": "execute_result"
    }
   ],
   "source": [
    "f'expected shape = {()}, actual = {total_var.shape}'"
   ]
  },
  {
   "cell_type": "code",
   "execution_count": 91,
   "metadata": {},
   "outputs": [
    {
     "data": {
      "text/plain": [
       "'expected std = 16, actual std = 15.0'"
      ]
     },
     "execution_count": 91,
     "metadata": {},
     "output_type": "execute_result"
    }
   ],
   "source": [
    "f'expected std = {round(tot_f)}, actual std = {round(np.sqrt(total_var),0)}'"
   ]
  },
  {
   "cell_type": "markdown",
   "metadata": {},
   "source": [
    "##### row_var"
   ]
  },
  {
   "cell_type": "markdown",
   "metadata": {},
   "source": [
    "~~~ python\n",
    "\"\"\"\n",
    "compute exact solution of row variance from\n",
    "image with residual temporal noise removed,\n",
    "EMVA 4.0 definition\n",
    "\n",
    "Keyword Arguments:\n",
    "    img (np.array): input image (tyically average)\n",
    "    L (int): number of images used for average\n",
    "    ttn_var (float): temporal noise from average\n",
    "    ddof (int, 0): degree of freedom for variance calc\n",
    "    rmv_ttn(bool, True): if True residual temporal noise is removed\n",
    "\n",
    "Returns:\n",
    "    var (float): row variance of img\n",
    "\"\"\"\n",
    "~~~"
   ]
  },
  {
   "cell_type": "code",
   "execution_count": 92,
   "metadata": {},
   "outputs": [],
   "source": [
    "row_var = stats.row_var(avg_img, L=L, ttn_var=ttn_var)"
   ]
  },
  {
   "cell_type": "code",
   "execution_count": 93,
   "metadata": {
    "scrolled": true
   },
   "outputs": [
    {
     "data": {
      "text/plain": [
       "'expected shape = (), actual = ()'"
      ]
     },
     "execution_count": 93,
     "metadata": {},
     "output_type": "execute_result"
    }
   ],
   "source": [
    "f'expected shape = {()}, actual = {row_var.shape}'"
   ]
  },
  {
   "cell_type": "code",
   "execution_count": 94,
   "metadata": {},
   "outputs": [
    {
     "data": {
      "text/plain": [
       "'expected std = 15, actual std = 14.0'"
      ]
     },
     "execution_count": 94,
     "metadata": {},
     "output_type": "execute_result"
    }
   ],
   "source": [
    "f'expected std = {round(rfpn,0)}, actual std = {round(np.mean(np.sqrt(row_var)),0)}'"
   ]
  },
  {
   "cell_type": "markdown",
   "metadata": {},
   "source": [
    "##### col_var"
   ]
  },
  {
   "cell_type": "markdown",
   "metadata": {},
   "source": [
    "~~~ python \n",
    "\"\"\"\n",
    "compute exact solution of column variance from\n",
    "image with residual temporal noise removed,\n",
    "EMVA 4.0 definition\n",
    "\n",
    "Keyword Arguments:\n",
    "    img (np.array): input image (tyically average)\n",
    "    L (int): number of images used for average\n",
    "    ttn_var (float): temporal noise from average\n",
    "    ddof (int, 0): degree of freedom for variance calc\n",
    "    rmv_ttn(bool, True): if True residual temporal noise is removed\n",
    "\n",
    "Returns:\n",
    "    col_var (float): column variance of img\n",
    "\"\"\"\n",
    "~~~"
   ]
  },
  {
   "cell_type": "code",
   "execution_count": 95,
   "metadata": {},
   "outputs": [],
   "source": [
    "col_var = stats.col_var(avg_img, L=L, ttn_var=ttn_var)"
   ]
  },
  {
   "cell_type": "code",
   "execution_count": 96,
   "metadata": {
    "scrolled": true
   },
   "outputs": [
    {
     "data": {
      "text/plain": [
       "'expected shape = (), actual = ()'"
      ]
     },
     "execution_count": 96,
     "metadata": {},
     "output_type": "execute_result"
    }
   ],
   "source": [
    "f'expected shape = {()}, actual = {col_var.shape}'"
   ]
  },
  {
   "cell_type": "code",
   "execution_count": 97,
   "metadata": {},
   "outputs": [
    {
     "data": {
      "text/plain": [
       "'expected std = 1, actual std = 1.0'"
      ]
     },
     "execution_count": 97,
     "metadata": {},
     "output_type": "execute_result"
    }
   ],
   "source": [
    "f'expected std = {cfpn}, actual std = {round(np.mean(np.sqrt(col_var)),0)}'"
   ]
  },
  {
   "cell_type": "markdown",
   "metadata": {},
   "source": [
    "##### pix_var"
   ]
  },
  {
   "cell_type": "markdown",
   "metadata": {},
   "source": [
    "~~~ python\n",
    "\"\"\"\n",
    "compute exact solution of pixel variance from\n",
    "image with residual temporal noise removed,\n",
    "EMVA 4.0 definition\n",
    "\n",
    "Keyword Arguments:\n",
    "    img (np.array): input image (tyically average)\n",
    "    L (int): number of images used for average\n",
    "    ttn_var (float): temporal noise from average\n",
    "    ddof (int, 0): degree of freedom for variance calc\n",
    "    rmv_ttn (bool, True): if True residual temporal noise is removed\n",
    "\n",
    "Returns:\n",
    "    var (float): pix variance of img\n",
    "\"\"\"\n",
    "~~~"
   ]
  },
  {
   "cell_type": "code",
   "execution_count": 98,
   "metadata": {},
   "outputs": [],
   "source": [
    "pix_var = stats.pix_var(avg_img, L=L, ttn_var=ttn_var)"
   ]
  },
  {
   "cell_type": "code",
   "execution_count": 99,
   "metadata": {
    "scrolled": true
   },
   "outputs": [
    {
     "data": {
      "text/plain": [
       "'expected shape = (), actual = ()'"
      ]
     },
     "execution_count": 99,
     "metadata": {},
     "output_type": "execute_result"
    }
   ],
   "source": [
    "f'expected shape = {()}, actual = {pix_var.shape}'"
   ]
  },
  {
   "cell_type": "code",
   "execution_count": 100,
   "metadata": {
    "scrolled": true
   },
   "outputs": [
    {
     "data": {
      "text/plain": [
       "'expected std = 5, actual std = 5.0'"
      ]
     },
     "execution_count": 100,
     "metadata": {},
     "output_type": "execute_result"
    }
   ],
   "source": [
    "f'expected std = {pfpn}, actual std = {round(np.mean(np.sqrt(pix_var)),0)}'"
   ]
  },
  {
   "cell_type": "markdown",
   "metadata": {},
   "source": [
    "##### noise_metrics (all spatial noise metrics)"
   ]
  },
  {
   "cell_type": "markdown",
   "metadata": {},
   "source": [
    "~~~ python\n",
    "\"\"\"\n",
    "compute spatial noise metrics from an average\n",
    "image with residual temporal noise removed\n",
    "\n",
    "Keyword Arguments:\n",
    "    img (np.array): input image (tyically average)\n",
    "    L (int): number of images used for average\n",
    "    ttn_var (float): temporal noise from image stack used to get img\n",
    "    ddof (int, 0): degree of freedom for variance calc\n",
    "    rmv_ttn (bool, True): if True then remove residual temporal noise\n",
    "\n",
    "Returns:\n",
    "    var (dict): row_var\n",
    "                col_var\n",
    "                pix_var\n",
    "                tot_var\n",
    "\"\"\"\n",
    "~~~"
   ]
  },
  {
   "cell_type": "code",
   "execution_count": 101,
   "metadata": {},
   "outputs": [],
   "source": [
    "all_var = stats.noise_metrics(avg_img, L=L, ttn_var=ttn_var)"
   ]
  },
  {
   "cell_type": "code",
   "execution_count": 102,
   "metadata": {},
   "outputs": [
    {
     "data": {
      "text/plain": [
       "{'tot_var': 235.7588341841789,\n",
       " 'col_var': 1.4310741802142783,\n",
       " 'row_var': 210.18618135148546,\n",
       " 'pix_var': 24.387921291790175}"
      ]
     },
     "execution_count": 102,
     "metadata": {},
     "output_type": "execute_result"
    }
   ],
   "source": [
    "all_var"
   ]
  },
  {
   "cell_type": "markdown",
   "metadata": {},
   "source": [
    "#### Temporal Noise"
   ]
  },
  {
   "cell_type": "markdown",
   "metadata": {},
   "source": [
    "##### row_var_temp"
   ]
  },
  {
   "cell_type": "markdown",
   "metadata": {},
   "source": [
    "~~~ python\n",
    "\"\"\"\n",
    "compute exact solution for row temporal\n",
    "variance from image stack\n",
    "\n",
    "Keyword Arguments:\n",
    "    img_stack (np.array): stack of images\n",
    "    ddof (int, 0): degree of freedom for variance calc\n",
    "\n",
    "Returns:\n",
    "    var (float): row temporal noise variance\n",
    "\"\"\"\n",
    "~~~"
   ]
  },
  {
   "cell_type": "code",
   "execution_count": 14,
   "metadata": {},
   "outputs": [],
   "source": [
    "stats.row_var_temp?"
   ]
  },
  {
   "cell_type": "code",
   "execution_count": 11,
   "metadata": {},
   "outputs": [],
   "source": [
    "row_var_temp = stats.row_var_temp(imgs)"
   ]
  },
  {
   "cell_type": "code",
   "execution_count": 12,
   "metadata": {
    "scrolled": true
   },
   "outputs": [
    {
     "data": {
      "text/plain": [
       "'expected shape = (), actual = ()'"
      ]
     },
     "execution_count": 12,
     "metadata": {},
     "output_type": "execute_result"
    }
   ],
   "source": [
    "f'expected shape = {()}, actual = {row_var_temp.shape}'"
   ]
  },
  {
   "cell_type": "code",
   "execution_count": 13,
   "metadata": {},
   "outputs": [
    {
     "data": {
      "text/plain": [
       "'expected std = 12, actual std = 12.0'"
      ]
     },
     "execution_count": 13,
     "metadata": {},
     "output_type": "execute_result"
    }
   ],
   "source": [
    "f'expected std = {round(rtn,0)}, actual std = {round(np.sqrt(row_var_temp),0)}'"
   ]
  },
  {
   "cell_type": "markdown",
   "metadata": {},
   "source": [
    "##### col_var_temp"
   ]
  },
  {
   "cell_type": "markdown",
   "metadata": {},
   "source": [
    "~~~ python\n",
    "\"\"\"\n",
    "compute exact solution for column temporal\n",
    "variance from image stack\n",
    "\n",
    "Keyword Arguments:\n",
    "    img_stack (np.array): stack of images\n",
    "    ddof (int, 0): degree of freedom for variance calc\n",
    "\n",
    "Returns:\n",
    "    var (float): column temporal noise variance of img_stack\n",
    "\"\"\"\n",
    "~~~ "
   ]
  },
  {
   "cell_type": "code",
   "execution_count": 106,
   "metadata": {},
   "outputs": [],
   "source": [
    "col_var_temp = stats.col_var_temp(imgs)"
   ]
  },
  {
   "cell_type": "code",
   "execution_count": 107,
   "metadata": {
    "scrolled": true
   },
   "outputs": [
    {
     "data": {
      "text/plain": [
       "'expected shape = (), actual = ()'"
      ]
     },
     "execution_count": 107,
     "metadata": {},
     "output_type": "execute_result"
    }
   ],
   "source": [
    "f'expected shape = {()}, actual = {col_var_temp.shape}'"
   ]
  },
  {
   "cell_type": "code",
   "execution_count": 108,
   "metadata": {},
   "outputs": [
    {
     "data": {
      "text/plain": [
       "'expected std = 15, actual std = 15.0'"
      ]
     },
     "execution_count": 108,
     "metadata": {},
     "output_type": "execute_result"
    }
   ],
   "source": [
    "f'expected std = {ctn}, actual std = {round(np.mean(np.sqrt(col_var_temp)),0)}'"
   ]
  },
  {
   "cell_type": "markdown",
   "metadata": {},
   "source": [
    "##### pix_temp_var"
   ]
  },
  {
   "cell_type": "markdown",
   "metadata": {},
   "source": [
    "~~~ python\n",
    "\"\"\"\n",
    "compute exact solution for pixel temporal\n",
    "variance from image stack\n",
    "\n",
    "Keyword Arguments:\n",
    "    img_stack (np.array): stack of images\n",
    "    ddof (int, 0): degree of freedom for variance calc\n",
    "\n",
    "Returns:\n",
    "    var (float): pixel temporal noise variance\n",
    "\"\"\"\n",
    "~~~"
   ]
  },
  {
   "cell_type": "code",
   "execution_count": 109,
   "metadata": {},
   "outputs": [],
   "source": [
    "pix_var_temp = stats.pix_var_temp(imgs)"
   ]
  },
  {
   "cell_type": "code",
   "execution_count": 110,
   "metadata": {
    "scrolled": false
   },
   "outputs": [
    {
     "data": {
      "text/plain": [
       "'expected shape = (), actual = ()'"
      ]
     },
     "execution_count": 110,
     "metadata": {},
     "output_type": "execute_result"
    }
   ],
   "source": [
    "f'expected shape = {()}, actual = {pix_var_temp.shape}'"
   ]
  },
  {
   "cell_type": "code",
   "execution_count": 111,
   "metadata": {
    "scrolled": true
   },
   "outputs": [
    {
     "data": {
      "text/plain": [
       "'expected std = 20, actual std = 20.0'"
      ]
     },
     "execution_count": 111,
     "metadata": {},
     "output_type": "execute_result"
    }
   ],
   "source": [
    "f'expected std = {ptn}, actual std = {round(np.mean(np.sqrt(pix_var_temp)),0)}'"
   ]
  },
  {
   "cell_type": "markdown",
   "metadata": {},
   "source": [
    "##### total_temp_var"
   ]
  },
  {
   "cell_type": "markdown",
   "metadata": {},
   "source": [
    "~~~ python\n",
    "\"\"\"\n",
    "compute total temporal variance from a stack of images\n",
    "\n",
    "Keyword Arguments:\n",
    "    img_stack (np.array): stack of images\n",
    "\n",
    "    ddof (int, 0): degree of freedom for variance calc\n",
    "\n",
    "Returns:\n",
    "    var (float): total temporal variance of img\n",
    "\"\"\"\n",
    "~~~"
   ]
  },
  {
   "cell_type": "code",
   "execution_count": 112,
   "metadata": {},
   "outputs": [],
   "source": [
    "tot_temp_var = stats.total_var_temp(imgs)"
   ]
  },
  {
   "cell_type": "code",
   "execution_count": 113,
   "metadata": {
    "scrolled": true
   },
   "outputs": [
    {
     "data": {
      "text/plain": [
       "'expected shape = (), actual = ()'"
      ]
     },
     "execution_count": 113,
     "metadata": {},
     "output_type": "execute_result"
    }
   ],
   "source": [
    "f'expected shape = {()}, actual = {total_var.shape}'"
   ]
  },
  {
   "cell_type": "code",
   "execution_count": 114,
   "metadata": {},
   "outputs": [
    {
     "data": {
      "text/plain": [
       "'expected std = 28, actual std = 28.0'"
      ]
     },
     "execution_count": 114,
     "metadata": {},
     "output_type": "execute_result"
    }
   ],
   "source": [
    "f'expected std = {round(tot_t)}, actual std = {round(np.sqrt(tot_temp_var),0)}'"
   ]
  },
  {
   "cell_type": "markdown",
   "metadata": {},
   "source": [
    "##### tot_var_img_stack"
   ]
  },
  {
   "cell_type": "markdown",
   "metadata": {},
   "source": [
    "~~~ python\n",
    "\"\"\"\n",
    "take a stack of images and compute\n",
    "the per pixel variance (total temporal noise)\n",
    "\n",
    "Keyword Arguments:\n",
    "    img_stack (np.array): stack of images\n",
    "    ddof (int, 0): degree of freedom for variance calc\n",
    "\n",
    "Returns:\n",
    "    var_im -- 2D image of pix temporal noise values\n",
    "\"\"\"\n",
    "~~~"
   ]
  },
  {
   "cell_type": "code",
   "execution_count": 115,
   "metadata": {},
   "outputs": [],
   "source": [
    "var_img = stats.tot_var_img_stack(imgs)"
   ]
  },
  {
   "cell_type": "code",
   "execution_count": 116,
   "metadata": {
    "scrolled": true
   },
   "outputs": [
    {
     "data": {
      "text/plain": [
       "'expected shape = (100, 100), actual = (100, 100)'"
      ]
     },
     "execution_count": 116,
     "metadata": {},
     "output_type": "execute_result"
    }
   ],
   "source": [
    "f'expected shape = {(rows, cols)}, actual = {var_img.shape}'"
   ]
  },
  {
   "cell_type": "code",
   "execution_count": 117,
   "metadata": {},
   "outputs": [
    {
     "data": {
      "text/plain": [
       "'expected std = 28.0, actual std = 28.0'"
      ]
     },
     "execution_count": 117,
     "metadata": {},
     "output_type": "execute_result"
    }
   ],
   "source": [
    "f'expected std = {round(tot_t,0)}, actual std = {round(np.sqrt(np.mean(var_img)),0)}'"
   ]
  },
  {
   "cell_type": "markdown",
   "metadata": {},
   "source": [
    "##### All"
   ]
  },
  {
   "cell_type": "markdown",
   "metadata": {},
   "source": [
    "~~~ python\n",
    "\"\"\"\n",
    "compute temporal noise metrics from a stack of images\n",
    "\n",
    "Keyword Arguments:\n",
    "    img_stack (np.array): stack of images\n",
    "    ddof (int, 0): degree of freedom for variance calc\n",
    "\n",
    "Returns:\n",
    "    var (dict): row_var_temp\n",
    "                col_var_temp\n",
    "                pix_var_temp\n",
    "                tot_var_temp\n",
    "\"\"\"\n",
    "~~~"
   ]
  },
  {
   "cell_type": "code",
   "execution_count": 118,
   "metadata": {},
   "outputs": [],
   "source": [
    "all_temp_var = stats.noise_metrics_temp(imgs)"
   ]
  },
  {
   "cell_type": "code",
   "execution_count": 119,
   "metadata": {},
   "outputs": [
    {
     "data": {
      "text/plain": [
       "{'tot_var_temp': 768.9392049380656,\n",
       " 'col_var_temp': 226.09327767406074,\n",
       " 'row_var_temp': 146.38983583511236,\n",
       " 'pix_var_temp': 400.50156174959545}"
      ]
     },
     "execution_count": 119,
     "metadata": {},
     "output_type": "execute_result"
    }
   ],
   "source": [
    "all_temp_var"
   ]
  },
  {
   "cell_type": "markdown",
   "metadata": {},
   "source": [
    "#### Profiles"
   ]
  },
  {
   "cell_type": "markdown",
   "metadata": {},
   "source": [
    "~~~ python\n",
    "\"\"\"\n",
    "calculate profiles for an image\n",
    "\n",
    "Keyword Arguments:\n",
    "    img (np.array): image to calculate profiles from\n",
    "    horizontal (bool): if True horizontal profile is takem, else vertical\n",
    "\n",
    "Returns:\n",
    "    temp (dict): index: index of columns\n",
    "                 middle: center value of columns\n",
    "                 mean: mean value of columns\n",
    "                 max: max value of columns\n",
    "                 min: min value of columns\n",
    "\"\"\"\n",
    "~~~"
   ]
  },
  {
   "cell_type": "markdown",
   "metadata": {},
   "source": [
    "##### Horizontal"
   ]
  },
  {
   "cell_type": "code",
   "execution_count": 120,
   "metadata": {},
   "outputs": [],
   "source": [
    "stats.profile?"
   ]
  },
  {
   "cell_type": "code",
   "execution_count": 121,
   "metadata": {},
   "outputs": [],
   "source": [
    "hor_profile = stats.profile(avg_img, horizontal=True)"
   ]
  },
  {
   "cell_type": "code",
   "execution_count": 122,
   "metadata": {},
   "outputs": [
    {
     "data": {
      "text/html": [
       "<div>\n",
       "<style scoped>\n",
       "    .dataframe tbody tr th:only-of-type {\n",
       "        vertical-align: middle;\n",
       "    }\n",
       "\n",
       "    .dataframe tbody tr th {\n",
       "        vertical-align: top;\n",
       "    }\n",
       "\n",
       "    .dataframe thead th {\n",
       "        text-align: right;\n",
       "    }\n",
       "</style>\n",
       "<table border=\"1\" class=\"dataframe\">\n",
       "  <thead>\n",
       "    <tr style=\"text-align: right;\">\n",
       "      <th></th>\n",
       "      <th>index_horizontal</th>\n",
       "      <th>middle_horizontal</th>\n",
       "      <th>mean_horizontal</th>\n",
       "      <th>max_horizontal</th>\n",
       "      <th>min_horizontal</th>\n",
       "    </tr>\n",
       "  </thead>\n",
       "  <tbody>\n",
       "    <tr>\n",
       "      <th>0</th>\n",
       "      <td>0</td>\n",
       "      <td>167.973045</td>\n",
       "      <td>169.495128</td>\n",
       "      <td>207.166958</td>\n",
       "      <td>138.464722</td>\n",
       "    </tr>\n",
       "    <tr>\n",
       "      <th>1</th>\n",
       "      <td>1</td>\n",
       "      <td>164.890533</td>\n",
       "      <td>168.585007</td>\n",
       "      <td>208.222931</td>\n",
       "      <td>130.602700</td>\n",
       "    </tr>\n",
       "    <tr>\n",
       "      <th>2</th>\n",
       "      <td>2</td>\n",
       "      <td>161.581398</td>\n",
       "      <td>167.648894</td>\n",
       "      <td>208.665913</td>\n",
       "      <td>132.351523</td>\n",
       "    </tr>\n",
       "    <tr>\n",
       "      <th>3</th>\n",
       "      <td>3</td>\n",
       "      <td>171.613270</td>\n",
       "      <td>170.471521</td>\n",
       "      <td>209.306863</td>\n",
       "      <td>136.195938</td>\n",
       "    </tr>\n",
       "    <tr>\n",
       "      <th>4</th>\n",
       "      <td>4</td>\n",
       "      <td>168.882516</td>\n",
       "      <td>168.914375</td>\n",
       "      <td>205.053946</td>\n",
       "      <td>133.755753</td>\n",
       "    </tr>\n",
       "  </tbody>\n",
       "</table>\n",
       "</div>"
      ],
      "text/plain": [
       "   index_horizontal  middle_horizontal  mean_horizontal  max_horizontal  \\\n",
       "0                 0         167.973045       169.495128      207.166958   \n",
       "1                 1         164.890533       168.585007      208.222931   \n",
       "2                 2         161.581398       167.648894      208.665913   \n",
       "3                 3         171.613270       170.471521      209.306863   \n",
       "4                 4         168.882516       168.914375      205.053946   \n",
       "\n",
       "   min_horizontal  \n",
       "0      138.464722  \n",
       "1      130.602700  \n",
       "2      132.351523  \n",
       "3      136.195938  \n",
       "4      133.755753  "
      ]
     },
     "execution_count": 122,
     "metadata": {},
     "output_type": "execute_result"
    }
   ],
   "source": [
    "df = pd.DataFrame.from_dict(hor_profile)\n",
    "df.head()"
   ]
  },
  {
   "cell_type": "code",
   "execution_count": 123,
   "metadata": {},
   "outputs": [
    {
     "data": {
      "image/png": "[encoded data removed]",
      "text/plain": [
       "<Figure size 883.25x481 with 1 Axes>"
      ]
     },
     "metadata": {},
     "output_type": "display_data"
    }
   ],
   "source": [
    "fcp.plot(df=df, x='index_horizontal', y=['max_horizontal','mean_horizontal','middle_horizontal','min_horizontal'],\n",
    "         ax_size=[600,400], grid_minor=True, markers=False, line_width=2, label_y='Profiles')"
   ]
  },
  {
   "cell_type": "markdown",
   "metadata": {},
   "source": [
    "##### Vertical"
   ]
  },
  {
   "cell_type": "code",
   "execution_count": 125,
   "metadata": {},
   "outputs": [
    {
     "data": {
      "text/html": [
       "<div>\n",
       "<style scoped>\n",
       "    .dataframe tbody tr th:only-of-type {\n",
       "        vertical-align: middle;\n",
       "    }\n",
       "\n",
       "    .dataframe tbody tr th {\n",
       "        vertical-align: top;\n",
       "    }\n",
       "\n",
       "    .dataframe thead th {\n",
       "        text-align: right;\n",
       "    }\n",
       "</style>\n",
       "<table border=\"1\" class=\"dataframe\">\n",
       "  <thead>\n",
       "    <tr style=\"text-align: right;\">\n",
       "      <th></th>\n",
       "      <th>index_vertical</th>\n",
       "      <th>middle_vertical</th>\n",
       "      <th>mean_vertical</th>\n",
       "      <th>max_vertical</th>\n",
       "      <th>min_vertical</th>\n",
       "    </tr>\n",
       "  </thead>\n",
       "  <tbody>\n",
       "    <tr>\n",
       "      <th>0</th>\n",
       "      <td>0</td>\n",
       "      <td>185.475263</td>\n",
       "      <td>187.885485</td>\n",
       "      <td>203.697371</td>\n",
       "      <td>176.250493</td>\n",
       "    </tr>\n",
       "    <tr>\n",
       "      <th>1</th>\n",
       "      <td>1</td>\n",
       "      <td>170.671780</td>\n",
       "      <td>179.308645</td>\n",
       "      <td>193.168660</td>\n",
       "      <td>168.572352</td>\n",
       "    </tr>\n",
       "    <tr>\n",
       "      <th>2</th>\n",
       "      <td>2</td>\n",
       "      <td>136.598269</td>\n",
       "      <td>144.116578</td>\n",
       "      <td>154.204970</td>\n",
       "      <td>128.803650</td>\n",
       "    </tr>\n",
       "    <tr>\n",
       "      <th>3</th>\n",
       "      <td>3</td>\n",
       "      <td>166.464104</td>\n",
       "      <td>167.222700</td>\n",
       "      <td>183.380353</td>\n",
       "      <td>154.235420</td>\n",
       "    </tr>\n",
       "    <tr>\n",
       "      <th>4</th>\n",
       "      <td>4</td>\n",
       "      <td>175.781185</td>\n",
       "      <td>177.777046</td>\n",
       "      <td>190.096107</td>\n",
       "      <td>165.501712</td>\n",
       "    </tr>\n",
       "  </tbody>\n",
       "</table>\n",
       "</div>"
      ],
      "text/plain": [
       "   index_vertical  middle_vertical  mean_vertical  max_vertical  min_vertical\n",
       "0               0       185.475263     187.885485    203.697371    176.250493\n",
       "1               1       170.671780     179.308645    193.168660    168.572352\n",
       "2               2       136.598269     144.116578    154.204970    128.803650\n",
       "3               3       166.464104     167.222700    183.380353    154.235420\n",
       "4               4       175.781185     177.777046    190.096107    165.501712"
      ]
     },
     "execution_count": 125,
     "metadata": {},
     "output_type": "execute_result"
    }
   ],
   "source": [
    "dfv = pd.DataFrame.from_dict(vert_profile)\n",
    "dfv.head()"
   ]
  },
  {
   "cell_type": "code",
   "execution_count": 126,
   "metadata": {},
   "outputs": [
    {
     "data": {
      "image/png": "[encoded data removed]",
      "text/plain": [
       "<Figure size 863.75x481 with 1 Axes>"
      ]
     },
     "metadata": {},
     "output_type": "display_data"
    }
   ],
   "source": [
    "fcp.plot(df=dfv, x='index_vertical', y=['max_vertical','mean_vertical','middle_vertical','min_vertical'],\n",
    "         ax_size=[600,400], grid_minor=True, markers=False, line_width=2, label_y='Profiles')"
   ]
  },
  {
   "cell_type": "markdown",
   "metadata": {},
   "source": [
    "#### Agg Functions"
   ]
  },
  {
   "cell_type": "markdown",
   "metadata": {},
   "source": [
    "##### agg_results"
   ]
  },
  {
   "cell_type": "markdown",
   "metadata": {},
   "source": [
    "~~~ python\n",
    "    \"\"\"\n",
    "    get standard deviation and variancefor all\n",
    "    fpn and temporal noise components\n",
    "\n",
    "    Keyword Arguments:\n",
    "        img_stack (np.array): stack of images\n",
    "        ddof (int, 0) degree of freedom for variance calc\n",
    "        rename (bool, False): rename the column names for plotting\n",
    "\n",
    "    Returns:\n",
    "        stats (df) dataframe of summary stats\n",
    "    \"\"\"\n",
    "~~~"
   ]
  },
  {
   "cell_type": "code",
   "execution_count": 9,
   "metadata": {
    "scrolled": true
   },
   "outputs": [],
   "source": [
    "agg_results = stats.agg_results(imgs, rename=True, include_var=False)"
   ]
  },
  {
   "cell_type": "code",
   "execution_count": 10,
   "metadata": {},
   "outputs": [
    {
     "data": {
      "text/html": [
       "<div>\n",
       "<style scoped>\n",
       "    .dataframe tbody tr th:only-of-type {\n",
       "        vertical-align: middle;\n",
       "    }\n",
       "\n",
       "    .dataframe tbody tr th {\n",
       "        vertical-align: top;\n",
       "    }\n",
       "\n",
       "    .dataframe thead th {\n",
       "        text-align: right;\n",
       "    }\n",
       "</style>\n",
       "<table border=\"1\" class=\"dataframe\">\n",
       "  <thead>\n",
       "    <tr style=\"text-align: right;\">\n",
       "      <th></th>\n",
       "      <th>Total FPN [DN]</th>\n",
       "      <th>Pix FPN [DN]</th>\n",
       "      <th>Col FPN [DN]</th>\n",
       "      <th>Row FPN [DN]</th>\n",
       "      <th>Total Temp Noise [DN]</th>\n",
       "      <th>Pix Temp Noise [DN]</th>\n",
       "      <th>Col Temp Noise [DN]</th>\n",
       "      <th>Row Temp Noise [DN]</th>\n",
       "      <th>CFPN Ratio</th>\n",
       "      <th>RFPN Ratio</th>\n",
       "      <th>STN Ratio</th>\n",
       "      <th>Total FPN [%]</th>\n",
       "      <th>Pix FPN [%]</th>\n",
       "      <th>Col FPN [%]</th>\n",
       "      <th>Row FPN [%]</th>\n",
       "      <th>CTN Ratio</th>\n",
       "      <th>RTN Ratio</th>\n",
       "      <th>Mean Signal [DN]</th>\n",
       "    </tr>\n",
       "  </thead>\n",
       "  <tbody>\n",
       "    <tr>\n",
       "      <th>0</th>\n",
       "      <td>15.316</td>\n",
       "      <td>4.907</td>\n",
       "      <td>1.171</td>\n",
       "      <td>14.462</td>\n",
       "      <td>27.731</td>\n",
       "      <td>19.914</td>\n",
       "      <td>15.04</td>\n",
       "      <td>12.093</td>\n",
       "      <td>23.676</td>\n",
       "      <td>1.918</td>\n",
       "      <td>0.552</td>\n",
       "      <td>9.046</td>\n",
       "      <td>2.898</td>\n",
       "      <td>0.692</td>\n",
       "      <td>8.542</td>\n",
       "      <td>1.844</td>\n",
       "      <td>2.293</td>\n",
       "      <td>169.308</td>\n",
       "    </tr>\n",
       "  </tbody>\n",
       "</table>\n",
       "</div>"
      ],
      "text/plain": [
       "   Total FPN [DN]  Pix FPN [DN]  Col FPN [DN]  Row FPN [DN]  \\\n",
       "0          15.316         4.907         1.171        14.462   \n",
       "\n",
       "   Total Temp Noise [DN]  Pix Temp Noise [DN]  Col Temp Noise [DN]  \\\n",
       "0                 27.731               19.914                15.04   \n",
       "\n",
       "   Row Temp Noise [DN]  CFPN Ratio  RFPN Ratio  STN Ratio  Total FPN [%]  \\\n",
       "0               12.093      23.676       1.918      0.552          9.046   \n",
       "\n",
       "   Pix FPN [%]  Col FPN [%]  Row FPN [%]  CTN Ratio  RTN Ratio  \\\n",
       "0        2.898        0.692        8.542      1.844      2.293   \n",
       "\n",
       "   Mean Signal [DN]  \n",
       "0           169.308  "
      ]
     },
     "execution_count": 10,
     "metadata": {},
     "output_type": "execute_result"
    }
   ],
   "source": [
    "agg_results"
   ]
  },
  {
   "cell_type": "markdown",
   "metadata": {},
   "source": [
    "##### agg_results_spatial"
   ]
  },
  {
   "cell_type": "markdown",
   "metadata": {},
   "source": [
    "~~~ python\n",
    "    \"\"\"\n",
    "    get standard deviation and variancefor all\n",
    "    fpn and temporal noise components\n",
    "\n",
    "    Keyword Arguments:\n",
    "        img_stack (np.array): stack of images\n",
    "        ddof (int, 0) degree of freedom for variance calc\n",
    "        rename (bool, False): rename the column names for plotting\n",
    "        L (int, 1): size of image stack\n",
    "        ttn_var (float, 0): total temporal variance from image stack\n",
    "                            default is 0 so if not passed no residual\n",
    "                            temporal noise is removed\n",
    "\n",
    "    Returns:\n",
    "        stats (df) dataframe of summary stats\n",
    "    \"\"\"\n",
    "~~~"
   ]
  },
  {
   "cell_type": "code",
   "execution_count": 15,
   "metadata": {},
   "outputs": [],
   "source": [
    "img = stats.avg_img(imgs)\n",
    "agg_results = stats.agg_results_spatial(img, rename=True, include_var=False)"
   ]
  },
  {
   "cell_type": "code",
   "execution_count": 16,
   "metadata": {},
   "outputs": [
    {
     "data": {
      "text/html": [
       "<div>\n",
       "<style scoped>\n",
       "    .dataframe tbody tr th:only-of-type {\n",
       "        vertical-align: middle;\n",
       "    }\n",
       "\n",
       "    .dataframe tbody tr th {\n",
       "        vertical-align: top;\n",
       "    }\n",
       "\n",
       "    .dataframe thead th {\n",
       "        text-align: right;\n",
       "    }\n",
       "</style>\n",
       "<table border=\"1\" class=\"dataframe\">\n",
       "  <thead>\n",
       "    <tr style=\"text-align: right;\">\n",
       "      <th></th>\n",
       "      <th>Total FPN [DN]</th>\n",
       "      <th>Pix FPN [DN]</th>\n",
       "      <th>Col FPN [DN]</th>\n",
       "      <th>Row FPN [DN]</th>\n",
       "      <th>CFPN Ratio</th>\n",
       "      <th>RFPN Ratio</th>\n",
       "      <th>STN Ratio</th>\n",
       "      <th>Total FPN [%]</th>\n",
       "      <th>Pix FPN [%]</th>\n",
       "      <th>Col FPN [%]</th>\n",
       "      <th>Row FPN [%]</th>\n",
       "      <th>CTN Ratio</th>\n",
       "      <th>RTN Ratio</th>\n",
       "      <th>Mean Signal [DN]</th>\n",
       "    </tr>\n",
       "  </thead>\n",
       "  <tbody>\n",
       "    <tr>\n",
       "      <th>0</th>\n",
       "      <td>15.341</td>\n",
       "      <td>4.985</td>\n",
       "      <td>1.171</td>\n",
       "      <td>14.462</td>\n",
       "      <td>NaN</td>\n",
       "      <td>NaN</td>\n",
       "      <td>NaN</td>\n",
       "      <td>9.061</td>\n",
       "      <td>2.944</td>\n",
       "      <td>0.692</td>\n",
       "      <td>8.542</td>\n",
       "      <td>NaN</td>\n",
       "      <td>NaN</td>\n",
       "      <td>169.308</td>\n",
       "    </tr>\n",
       "  </tbody>\n",
       "</table>\n",
       "</div>"
      ],
      "text/plain": [
       "   Total FPN [DN]  Pix FPN [DN]  Col FPN [DN]  Row FPN [DN]  CFPN Ratio  \\\n",
       "0          15.341         4.985         1.171        14.462         NaN   \n",
       "\n",
       "   RFPN Ratio  STN Ratio  Total FPN [%]  Pix FPN [%]  Col FPN [%]  \\\n",
       "0         NaN        NaN          9.061        2.944        0.692   \n",
       "\n",
       "   Row FPN [%]  CTN Ratio  RTN Ratio  Mean Signal [DN]  \n",
       "0        8.542        NaN        NaN           169.308  "
      ]
     },
     "execution_count": 16,
     "metadata": {},
     "output_type": "execute_result"
    }
   ],
   "source": [
    "agg_results"
   ]
  },
  {
   "cell_type": "markdown",
   "metadata": {},
   "source": [
    "##### noise_metrics_all"
   ]
  },
  {
   "cell_type": "markdown",
   "metadata": {},
   "source": [
    "~~~ python\n",
    "\"\"\"\n",
    "compute spatial and temporal noise metrics from a stack\n",
    "of images\n",
    "\n",
    "Keyword Arguments:\n",
    "    img_stack (np.array): stack of images\n",
    "    ddof (int, 0): degree of freedom for variance calc\n",
    "    rmv_ttn (bool, True): if True remove residual temporal noise\n",
    "                          from spatial variance\n",
    "Returns:\n",
    "    all_var (dict): row_var\n",
    "                    col_var\n",
    "                    pix_var\n",
    "                    tot_var\n",
    "                    row_temp_var\n",
    "                    col_temp_var\n",
    "                    pix_temp_var\n",
    "                    tot_temp_var\n",
    "                    mean\n",
    "\"\"\"\n",
    "~~~"
   ]
  },
  {
   "cell_type": "code",
   "execution_count": 129,
   "metadata": {},
   "outputs": [
    {
     "data": {
      "text/plain": [
       "{'tot_var': 235.75960312338387,\n",
       " 'col_var': 1.4310741802142781,\n",
       " 'row_var': 210.18618135148546,\n",
       " 'pix_var': 24.388698077313553,\n",
       " 'tot_var_temp': 768.9392049380656,\n",
       " 'col_var_temp': 226.09327767406074,\n",
       " 'row_var_temp': 146.38983583511236,\n",
       " 'pix_var_temp': 400.50156174959545,\n",
       " 'mean': 169.28458341062117}"
      ]
     },
     "execution_count": 129,
     "metadata": {},
     "output_type": "execute_result"
    }
   ],
   "source": [
    "all_v = stats.noise_metrics_all(imgs)\n",
    "all_v"
   ]
  },
  {
   "cell_type": "code",
   "execution_count": 130,
   "metadata": {},
   "outputs": [],
   "source": [
    "col_var_temp = np.mean(imgs, axis=1).var(ddof=1)**.5\n",
    "row_var_temp = np.mean(imgs, axis=2).var(ddof=1)**.5\n",
    "tot_var_temp = np.var(imgs, axis=0, ddof=1).mean()"
   ]
  }
 ],
 "metadata": {
  "kernelspec": {
   "display_name": "Python 3 (ipykernel)",
   "language": "python",
   "name": "python3"
  },
  "language_info": {
   "codemirror_mode": {
    "name": "ipython",
    "version": 3
   },
   "file_extension": ".py",
   "mimetype": "text/x-python",
   "name": "python",
   "nbconvert_exporter": "python",
   "pygments_lexer": "ipython3",
   "version": "3.9.7"
  },
  "toc": {
   "base_numbering": 1,
   "nav_menu": {},
   "number_sections": true,
   "sideBar": true,
   "skip_h1_title": true,
   "title_cell": "Table of Contents",
   "title_sidebar": "Contents",
   "toc_cell": false,
   "toc_position": {
    "height": "calc(100% - 180px)",
    "left": "10px",
    "top": "150px",
    "width": "271.975px"
   },
   "toc_section_display": true,
   "toc_window_display": true
  },
  "varInspector": {
   "cols": {
    "lenName": 16,
    "lenType": 16,
    "lenVar": 40
   },
   "kernels_config": {
    "python": {
     "delete_cmd_postfix": "",
     "delete_cmd_prefix": "del ",
     "library": "var_list.py",
     "varRefreshCmd": "print(var_dic_list())"
    },
    "r": {
     "delete_cmd_postfix": ") ",
     "delete_cmd_prefix": "rm(",
     "library": "var_list.r",
     "varRefreshCmd": "cat(var_dic_list()) "
    }
   },
   "types_to_exclude": [
    "module",
    "function",
    "builtin_function_or_method",
    "instance",
    "_Feature"
   ],
   "window_display": false
  }
 },
 "nbformat": 4,
 "nbformat_minor": 4
}
