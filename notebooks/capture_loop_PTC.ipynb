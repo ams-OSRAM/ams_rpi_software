{
 "cells": [
  {
   "cell_type": "markdown",
   "id": "17aafd0c-e495-436d-8a97-71242fc122fa",
   "metadata": {},
   "source": [
    "# script to capture images in a loop. "
   ]
  },
  {
   "cell_type": "markdown",
   "id": "5574f565-6cfa-4046-9e32-6bfce1b4b4ec",
   "metadata": {},
   "source": [
    "## make sure, in the web interface, you close the camera. Run the cells one by one."
   ]
  },
  {
   "cell_type": "code",
   "execution_count": 8,
   "id": "7881a049-cb66-4232-8266-085169962079",
   "metadata": {},
   "outputs": [],
   "source": [
    "#some imports\n",
    "import time\n",
    "from PIL import Image\n",
    "import numpy as np\n",
    "import pandas as pd\n",
    "import pathlib\n",
    "from picamera2 import Picamera2, Preview\n",
    "import pprint\n",
    "from ipywidgets import interact, interactive\n",
    "from IPython.display import display"
   ]
  },
  {
   "cell_type": "code",
   "execution_count": 9,
   "id": "889b8a70-ecc4-4782-a919-5ecfeeb9d53c",
   "metadata": {},
   "outputs": [],
   "source": [
    "amount = 10 #numbers of pictures to capture per setting\n",
    "gains = [1]\n",
    "exposures_us = [100,200,300] #np.arange(1000, 10000, 500, dtype=int) #start, stop, step - this must be an array type. can also be, [100,200,300,400] etc..\n",
    "min_exposure = 100\n",
    "#select mode a few cells below.\n",
    "TIFF = True\n",
    "UPLOAD_FOLDER = pathlib.Path(\"./images\")\n",
    "UPLOAD_FOLDER.mkdir(parents=False, exist_ok=True)\n",
    "\n",
    "temp_save_dir = UPLOAD_FOLDER\n",
    "final_save_dir = UPLOAD_FOLDER"
   ]
  },
  {
   "cell_type": "code",
   "execution_count": 10,
   "id": "85501654-9ae6-441d-aab2-ae6b2cac3c91",
   "metadata": {},
   "outputs": [
    {
     "name": "stderr",
     "output_type": "stream",
     "text": [
      "[0:26:11.089333359] [1317] \u001b[1;32m INFO \u001b[1;37mCamera \u001b[1;34mcamera_manager.cpp:299 \u001b[0mlibcamera v0.0.4+22-923f5d70-dirty (2023-10-21T22:05:29+02:00)\n",
      "[0:26:11.092754146] [8672] \u001b[1;33m WARN \u001b[1;37mCameraSensorProperties \u001b[1;34mcamera_sensor_properties.cpp:333 \u001b[0mNo static properties available for 'mira016'\n",
      "[0:26:11.092795646] [8672] \u001b[1;33m WARN \u001b[1;37mCameraSensorProperties \u001b[1;34mcamera_sensor_properties.cpp:335 \u001b[0mPlease consider updating the camera sensor properties database\n",
      "[0:26:11.100725155] [8672] \u001b[1;33m WARN \u001b[1;37mRPI \u001b[1;34mraspberrypi.cpp:1357 \u001b[0mMismatch between Unicam and CamHelper for embedded data usage!\n",
      "[0:26:11.101684295] [8672] \u001b[1;32m INFO \u001b[1;37mRPI \u001b[1;34mraspberrypi.cpp:1476 \u001b[0mRegistered camera /base/soc/i2c0mux/i2c@1/mira016@36 to Unicam device /dev/media4 and ISP device /dev/media2\n"
     ]
    },
    {
     "data": {
      "text/plain": [
       "[{'Model': 'mira016',\n",
       "  'Location': 2,\n",
       "  'Rotation': 0,\n",
       "  'Id': '/base/soc/i2c0mux/i2c@1/mira016@36'}]"
      ]
     },
     "execution_count": 10,
     "metadata": {},
     "output_type": "execute_result"
    }
   ],
   "source": [
    "#view camera model\n",
    "Picamera2.global_camera_info()  #before init ;\n"
   ]
  },
  {
   "cell_type": "code",
   "execution_count": 11,
   "id": "b3bacf73-8528-4c22-bb00-f8f0dd4d6baf",
   "metadata": {},
   "outputs": [
    {
     "name": "stderr",
     "output_type": "stream",
     "text": [
      "[0:26:11.759609184] [1317] \u001b[1;32m INFO \u001b[1;37mCamera \u001b[1;34mcamera_manager.cpp:299 \u001b[0mlibcamera v0.0.4+22-923f5d70-dirty (2023-10-21T22:05:29+02:00)\n",
      "[0:26:11.763477133] [8680] \u001b[1;33m WARN \u001b[1;37mCameraSensorProperties \u001b[1;34mcamera_sensor_properties.cpp:333 \u001b[0mNo static properties available for 'mira016'\n",
      "[0:26:11.763531503] [8680] \u001b[1;33m WARN \u001b[1;37mCameraSensorProperties \u001b[1;34mcamera_sensor_properties.cpp:335 \u001b[0mPlease consider updating the camera sensor properties database\n",
      "[0:26:11.772533059] [8680] \u001b[1;33m WARN \u001b[1;37mRPI \u001b[1;34mraspberrypi.cpp:1357 \u001b[0mMismatch between Unicam and CamHelper for embedded data usage!\n",
      "[0:26:11.773723605] [8680] \u001b[1;32m INFO \u001b[1;37mRPI \u001b[1;34mraspberrypi.cpp:1476 \u001b[0mRegistered camera /base/soc/i2c0mux/i2c@1/mira016@36 to Unicam device /dev/media4 and ISP device /dev/media2\n",
      "[0:26:11.785307992] [1317] \u001b[1;32m INFO \u001b[1;37mCamera \u001b[1;34mcamera.cpp:1028 \u001b[0mconfiguring streams: (0) 640x480-XBGR8888 (1) 400x400-SGRBG10_CSI2P\n",
      "[0:26:11.785708303] [8680] \u001b[1;32m INFO \u001b[1;37mRPI \u001b[1;34mraspberrypi.cpp:851 \u001b[0mSensor: /base/soc/i2c0mux/i2c@1/mira016@36 - Selected sensor format: 400x400-SGRBG10_1X10 - Selected unicam format: 400x400-pgAA\n",
      "[0:26:11.809904698] [1317] \u001b[1;32m INFO \u001b[1;37mCamera \u001b[1;34mcamera.cpp:1028 \u001b[0mconfiguring streams: (0) 640x480-XBGR8888 (1) 400x400-SGRBG12_CSI2P\n",
      "[0:26:11.810423749] [8680] \u001b[1;32m INFO \u001b[1;37mRPI \u001b[1;34mraspberrypi.cpp:851 \u001b[0mSensor: /base/soc/i2c0mux/i2c@1/mira016@36 - Selected sensor format: 400x400-SGRBG12_1X12 - Selected unicam format: 400x400-pgCC\n",
      "[0:26:11.825022000] [1317] \u001b[1;32m INFO \u001b[1;37mCamera \u001b[1;34mcamera.cpp:1028 \u001b[0mconfiguring streams: (0) 640x480-XBGR8888 (1) 400x400-SGRBG8\n",
      "[0:26:11.825482533] [8680] \u001b[1;32m INFO \u001b[1;37mRPI \u001b[1;34mraspberrypi.cpp:851 \u001b[0mSensor: /base/soc/i2c0mux/i2c@1/mira016@36 - Selected sensor format: 400x400-SGRBG8_1X8 - Selected unicam format: 400x400-GRBG\n"
     ]
    },
    {
     "name": "stdout",
     "output_type": "stream",
     "text": [
      "[{'bit_depth': 10,\n",
      "  'crop_limits': (0, 0, 400, 400),\n",
      "  'exposure_limits': (74, 1600421, None),\n",
      "  'format': SGRBG10_CSI2P,\n",
      "  'fps': 100.0,\n",
      "  'size': (400, 400),\n",
      "  'unpacked': 'SGRBG10'},\n",
      " {'bit_depth': 12,\n",
      "  'crop_limits': (0, 0, 400, 400),\n",
      "  'exposure_limits': (74, 1600421, None),\n",
      "  'format': SGRBG12_CSI2P,\n",
      "  'fps': 100.0,\n",
      "  'size': (400, 400),\n",
      "  'unpacked': 'SGRBG12'},\n",
      " {'bit_depth': 8,\n",
      "  'crop_limits': (0, 0, 400, 400),\n",
      "  'exposure_limits': (74, 1600421, None),\n",
      "  'format': SGRBG8,\n",
      "  'fps': 100.0,\n",
      "  'size': (400, 400),\n",
      "  'unpacked': 'SGRBG8'}]\n"
     ]
    }
   ],
   "source": [
    "#print all sensor modes\n",
    "with Picamera2() as picam2:\n",
    "    modes = picam2.sensor_modes\n",
    "    pprint.pprint(picam2.sensor_modes)"
   ]
  },
  {
   "cell_type": "markdown",
   "id": "2b815c65-4914-4855-9ab7-bd986fceba43",
   "metadata": {},
   "source": [
    "# select mode here in the dropdown"
   ]
  },
  {
   "cell_type": "code",
   "execution_count": 12,
   "id": "d98ba404-00b1-4e51-b642-8554af775079",
   "metadata": {
    "scrolled": true
   },
   "outputs": [
    {
     "data": {
      "application/vnd.jupyter.widget-view+json": {
       "model_id": "35e84af4068c4d6f9eed1abd7d1c6d78",
       "version_major": 2,
       "version_minor": 0
      },
      "text/plain": [
       "interactive(children=(Dropdown(description='mode', options=({'format': SGRBG10_CSI2P, 'unpacked': 'SGRBG10', '…"
      ]
     },
     "metadata": {},
     "output_type": "display_data"
    }
   ],
   "source": [
    "def f(mode):\n",
    "    display(mode)\n",
    "    return mode\n",
    "w = interactive(f, mode=modes)\n",
    "display(w)\n"
   ]
  },
  {
   "cell_type": "markdown",
   "id": "edf972c2-10b6-494d-89b9-80f94185c68c",
   "metadata": {},
   "source": [
    "# TURN OFF THE LIGHT"
   ]
  },
  {
   "cell_type": "code",
   "execution_count": 13,
   "id": "089a21d0-31b7-4f30-9ebd-7aa711fbc3d4",
   "metadata": {},
   "outputs": [
    {
     "name": "stdout",
     "output_type": "stream",
     "text": [
      "you have chosen mode {'format': SGRBG10_CSI2P, 'unpacked': 'SGRBG10', 'bit_depth': 10, 'size': (400, 400), 'fps': 100.0, 'crop_limits': (0, 0, 400, 400), 'exposure_limits': (74, 1600421, None)}\n"
     ]
    },
    {
     "name": "stderr",
     "output_type": "stream",
     "text": [
      "[0:26:15.413739151] [1317] \u001b[1;32m INFO \u001b[1;37mCamera \u001b[1;34mcamera_manager.cpp:299 \u001b[0mlibcamera v0.0.4+22-923f5d70-dirty (2023-10-21T22:05:29+02:00)\n",
      "[0:26:15.418114634] [8699] \u001b[1;33m WARN \u001b[1;37mCameraSensorProperties \u001b[1;34mcamera_sensor_properties.cpp:333 \u001b[0mNo static properties available for 'mira016'\n",
      "[0:26:15.418179411] [8699] \u001b[1;33m WARN \u001b[1;37mCameraSensorProperties \u001b[1;34mcamera_sensor_properties.cpp:335 \u001b[0mPlease consider updating the camera sensor properties database\n",
      "[0:26:15.426844415] [8699] \u001b[1;33m WARN \u001b[1;37mRPI \u001b[1;34mraspberrypi.cpp:1357 \u001b[0mMismatch between Unicam and CamHelper for embedded data usage!\n",
      "[0:26:15.428083701] [8699] \u001b[1;32m INFO \u001b[1;37mRPI \u001b[1;34mraspberrypi.cpp:1476 \u001b[0mRegistered camera /base/soc/i2c0mux/i2c@1/mira016@36 to Unicam device /dev/media4 and ISP device /dev/media2\n",
      "[0:26:15.439671199] [1317] \u001b[1;32m INFO \u001b[1;37mCamera \u001b[1;34mcamera.cpp:1028 \u001b[0mconfiguring streams: (0) 400x400-XBGR8888 (1) 400x400-SGRBG10\n",
      "[0:26:15.440321934] [8699] \u001b[1;32m INFO \u001b[1;37mRPI \u001b[1;34mraspberrypi.cpp:851 \u001b[0mSensor: /base/soc/i2c0mux/i2c@1/mira016@36 - Selected sensor format: 400x400-SGRBG10_1X10 - Selected unicam format: 400x400-BA10\n"
     ]
    },
    {
     "ename": "NameError",
     "evalue": "name 'gain' is not defined",
     "output_type": "error",
     "traceback": [
      "\u001b[0;31m---------------------------------------------------------------------------\u001b[0m",
      "\u001b[0;31mNameError\u001b[0m                                 Traceback (most recent call last)",
      "Cell \u001b[0;32mIn[13], line 18\u001b[0m\n\u001b[1;32m     16\u001b[0m \u001b[38;5;28;01mfor\u001b[39;00m analog_gain \u001b[38;5;129;01min\u001b[39;00m gains:\n\u001b[1;32m     17\u001b[0m     \u001b[38;5;28;01mfor\u001b[39;00m exposure \u001b[38;5;129;01min\u001b[39;00m [min_exposure]:\n\u001b[0;32m---> 18\u001b[0m         \u001b[38;5;28mprint\u001b[39m(\u001b[38;5;124mf\u001b[39m\u001b[38;5;124m'\u001b[39m\u001b[38;5;124mDARK IMAGE - exposure in loop is \u001b[39m\u001b[38;5;132;01m{\u001b[39;00mexposure\u001b[38;5;132;01m}\u001b[39;00m\u001b[38;5;124m, gain in loop is \u001b[39m\u001b[38;5;132;01m{\u001b[39;00mgain\u001b[38;5;132;01m}\u001b[39;00m\u001b[38;5;124m'\u001b[39m)\n\u001b[1;32m     20\u001b[0m         picam2\u001b[38;5;241m.\u001b[39mset_controls({\u001b[38;5;124m\"\u001b[39m\u001b[38;5;124mExposureTime\u001b[39m\u001b[38;5;124m\"\u001b[39m: exposure , \u001b[38;5;124m\"\u001b[39m\u001b[38;5;124mAnalogueGain\u001b[39m\u001b[38;5;124m\"\u001b[39m: analog_gain})\n\u001b[1;32m     22\u001b[0m         time\u001b[38;5;241m.\u001b[39msleep(\u001b[38;5;241m2\u001b[39m)\n",
      "\u001b[0;31mNameError\u001b[0m: name 'gain' is not defined"
     ]
    }
   ],
   "source": [
    "#DARK CONDITIONS\n",
    "selected_mode = (w.result)\n",
    "bit_mode = selected_mode[\"bit_depth\"]\n",
    "im_data = pd.DataFrame()\n",
    "print(f'you have chosen mode {selected_mode}')\n",
    "\n",
    "with Picamera2() as picam2:\n",
    "    preview_config = picam2.create_preview_configuration(main={\"size\": selected_mode[\"size\"]},\n",
    "        raw={\"format\": selected_mode[\"unpacked\"],\n",
    "            \"size\": selected_mode[\"size\"],\n",
    "        })\n",
    "    picam2.configure(preview_config)\n",
    "\n",
    "    picam2.start()\n",
    "\n",
    "    for analog_gain in gains:\n",
    "        for exposure in [min_exposure]:\n",
    "        \n",
    "            picam2.set_controls({\"ExposureTime\": exposure , \"AnalogueGain\": analog_gain})\n",
    "            \n",
    "            time.sleep(2)\n",
    "            #raw = picam2.capture_buffer()\n",
    "            #np.from_buffer\n",
    "            \n",
    "            size = selected_mode[\"size\"]\n",
    "        \n",
    "            width = size[0]\n",
    "            height = size[1]\n",
    "            im_stack = []\n",
    "            for i in range(amount):\n",
    "                if bit_mode == 8:\n",
    "                    image = picam2.capture_array(\"raw\").view(np.uint8)\n",
    "                else:\n",
    "                    image = picam2.capture_array(\"raw\").view(np.uint16)\n",
    "                im_stack.append(image[0:height, 0:width])\n",
    "                if TIFF:\n",
    "                    # save images    \n",
    "                    pilim = Image.fromarray(image)\n",
    "                    filename = str(f\"{UPLOAD_FOLDER}/img_exposure{exposure}_gain{analog_gain}_DARK_{i}.tiff\")\n",
    "                    pilim.save(filename)\n",
    "                \n",
    "            # get & save images\n",
    "            name = f'bm={bit_mode}_ag={analog_gain}_fc={amount}_exp={round(exposure, 1)}_dark.npz'\n",
    "            temp_im_dir = UPLOAD_FOLDER\n",
    "            temp_im_path = pathlib.Path(temp_im_dir / name)\n",
    "            np.savez(str(temp_im_path), im_stack)\n",
    "\n",
    "            # add to image data\n",
    "            temp = {'Analog Gain': [analog_gain],\n",
    "                    'Bit Mode': [bit_mode],\n",
    "                    'Exposure [ms]': [exposure],\n",
    "                    'Frame Count': [amount],\n",
    "                    'Illumination': [False],\n",
    "                    'Exposure [uW/cm^2*s]': [0],\n",
    "                    'Image Path_npz': [str(pathlib.Path(temp_im_dir / name))]}\n",
    "            \n",
    "            temp = pd.DataFrame.from_dict(temp)\n",
    "\n",
    "            # concat raw to im_data\n",
    "            im_data = pd.concat([im_data, temp], ignore_index=True).reset_index(drop=True)\n",
    "    "
   ]
  },
  {
   "cell_type": "markdown",
   "id": "ab684523-ad13-457d-ac5f-fe0749ac1323",
   "metadata": {},
   "source": [
    "# TURN ON THE LIGHT"
   ]
  },
  {
   "cell_type": "code",
   "execution_count": 14,
   "id": "2df3ee5b-f468-4297-821f-65a8e8346cc1",
   "metadata": {},
   "outputs": [
    {
     "name": "stderr",
     "output_type": "stream",
     "text": [
      "[0:26:47.288227112] [1317] \u001b[1;32m INFO \u001b[1;37mCamera \u001b[1;34mcamera_manager.cpp:299 \u001b[0mlibcamera v0.0.4+22-923f5d70-dirty (2023-10-21T22:05:29+02:00)\n",
      "[0:26:47.292594595] [8801] \u001b[1;33m WARN \u001b[1;37mCameraSensorProperties \u001b[1;34mcamera_sensor_properties.cpp:333 \u001b[0mNo static properties available for 'mira016'\n",
      "[0:26:47.292654835] [8801] \u001b[1;33m WARN \u001b[1;37mCameraSensorProperties \u001b[1;34mcamera_sensor_properties.cpp:335 \u001b[0mPlease consider updating the camera sensor properties database\n",
      "[0:26:47.301080045] [8801] \u001b[1;33m WARN \u001b[1;37mRPI \u001b[1;34mraspberrypi.cpp:1357 \u001b[0mMismatch between Unicam and CamHelper for embedded data usage!\n",
      "[0:26:47.302248758] [8801] \u001b[1;32m INFO \u001b[1;37mRPI \u001b[1;34mraspberrypi.cpp:1476 \u001b[0mRegistered camera /base/soc/i2c0mux/i2c@1/mira016@36 to Unicam device /dev/media4 and ISP device /dev/media2\n",
      "[0:26:47.309776234] [1317] \u001b[1;32m INFO \u001b[1;37mCamera \u001b[1;34mcamera.cpp:1028 \u001b[0mconfiguring streams: (0) 400x400-XBGR8888 (1) 400x400-SGRBG10\n",
      "[0:26:47.310178546] [8801] \u001b[1;32m INFO \u001b[1;37mRPI \u001b[1;34mraspberrypi.cpp:851 \u001b[0mSensor: /base/soc/i2c0mux/i2c@1/mira016@36 - Selected sensor format: 400x400-SGRBG10_1X10 - Selected unicam format: 400x400-BA10\n"
     ]
    },
    {
     "ename": "NameError",
     "evalue": "name 'imgs' is not defined",
     "output_type": "error",
     "traceback": [
      "\u001b[0;31m---------------------------------------------------------------------------\u001b[0m",
      "\u001b[0;31mNameError\u001b[0m                                 Traceback (most recent call last)",
      "Cell \u001b[0;32mIn[14], line 62\u001b[0m\n\u001b[1;32m     55\u001b[0m         im_data\u001b[38;5;241m.\u001b[39mto_csv(im_data_path, index\u001b[38;5;241m=\u001b[39m\u001b[38;5;28;01mFalse\u001b[39;00m)\n\u001b[1;32m     61\u001b[0m \u001b[38;5;28;01mimport\u001b[39;00m \u001b[38;5;21;01mmatplotlib\u001b[39;00m\u001b[38;5;21;01m.\u001b[39;00m\u001b[38;5;21;01mpyplot\u001b[39;00m \u001b[38;5;28;01mas\u001b[39;00m \u001b[38;5;21;01mplt\u001b[39;00m\n\u001b[0;32m---> 62\u001b[0m plt\u001b[38;5;241m.\u001b[39mimshow(\u001b[43mimgs\u001b[49m[\u001b[38;5;241m0\u001b[39m],cmap\u001b[38;5;241m=\u001b[39m\u001b[38;5;124m'\u001b[39m\u001b[38;5;124mgray\u001b[39m\u001b[38;5;124m'\u001b[39m)\n\u001b[1;32m     63\u001b[0m plt\u001b[38;5;241m.\u001b[39mshow()\n",
      "\u001b[0;31mNameError\u001b[0m: name 'imgs' is not defined"
     ]
    }
   ],
   "source": [
    "#ILLUMINATED CONDITIONS\n",
    "with Picamera2() as picam2:\n",
    "    preview_config = picam2.create_preview_configuration(main={\"size\": selected_mode[\"size\"]},\n",
    "        raw={\"format\": selected_mode[\"unpacked\"],\n",
    "            \"size\": selected_mode[\"size\"],\n",
    "        })\n",
    "    picam2.configure(preview_config)\n",
    "\n",
    "    picam2.start()   \n",
    "    for analog_gain in gains:\n",
    "        for exposure in exposures_us:        \n",
    "            picam2.set_controls({\"ExposureTime\": exposure , \"AnalogueGain\": analog_gain})\n",
    "            \n",
    "            time.sleep(2)\n",
    "            #raw = picam2.capture_buffer()\n",
    "            #np.from_buffer\n",
    "            \n",
    "            size = selected_mode[\"size\"]\n",
    "        \n",
    "            width = size[0]\n",
    "            height = size[1]\n",
    "            im_stack = []\n",
    "            for i in range(amount):\n",
    "                if bit_mode == 8:\n",
    "                    image = picam2.capture_array(\"raw\").view(np.uint8)\n",
    "                else:\n",
    "                    image = picam2.capture_array(\"raw\").view(np.uint16)\n",
    "                im_stack.append(image[0:height, 0:width])\n",
    "                if TIFF:\n",
    "                    # save images    \n",
    "                    pilim = Image.fromarray(image)\n",
    "                    filename = str(f\"{UPLOAD_FOLDER}/imgraw{i}_exposure{exposure}_gain{analog_gain}.tiff\")\n",
    "                    pilim.save(filename)\n",
    "                \n",
    "            # get & save images\n",
    "            name = f'bm={bit_mode}_ag={analog_gain}_fc={amount}_exp={round(exposure, 1)}.npz'\n",
    "            temp_im_dir = UPLOAD_FOLDER\n",
    "            temp_im_path = pathlib.Path(temp_im_dir / name)\n",
    "            np.savez(str(temp_im_path), im_stack)\n",
    "\n",
    "            # add to image data\n",
    "            temp = {'Analog Gain': [analog_gain],\n",
    "                    'Bit Mode': [bit_mode],\n",
    "                    'Exposure [ms]': [exposure],\n",
    "                    'Frame Count': [amount],\n",
    "                    'Illumination': [True],\n",
    "                    'Exposure [uW/cm^2*s]': [0],\n",
    "                    'Image Path_npz': [str(pathlib.Path(temp_im_dir / name))]}\n",
    "            \n",
    "            temp = pd.DataFrame.from_dict(temp)\n",
    "\n",
    "            # concat raw to im_data\n",
    "            im_data = pd.concat([im_data, temp], ignore_index=True).reset_index(drop=True)\n",
    "            im_data_path = pathlib.Path(temp_save_dir / r'image_data.csv')\n",
    "            im_data.to_csv(im_data_path, index=False)\n",
    "\n",
    "\n",
    "\n",
    "    \n",
    "            \n",
    "    import matplotlib.pyplot as plt\n",
    "    plt.imshow(imgs[0],cmap='gray')\n",
    "    plt.show()"
   ]
  },
  {
   "cell_type": "code",
   "execution_count": null,
   "id": "3406ae00-8aaf-4c7b-8cf4-73ece5d17641",
   "metadata": {},
   "outputs": [],
   "source": []
  },
  {
   "cell_type": "code",
   "execution_count": null,
   "id": "604a00fe-9fa6-42f1-b76c-4a1d60c916cb",
   "metadata": {},
   "outputs": [],
   "source": []
  },
  {
   "cell_type": "code",
   "execution_count": null,
   "id": "0a3ca520-2077-4cdb-894d-4d0fb235ba57",
   "metadata": {},
   "outputs": [],
   "source": []
  },
  {
   "cell_type": "code",
   "execution_count": null,
   "id": "2a36105e-3246-4dfe-a6de-7527dc869543",
   "metadata": {},
   "outputs": [],
   "source": []
  }
 ],
 "metadata": {
  "kernelspec": {
   "display_name": "Python 3 (ipykernel)",
   "language": "python",
   "name": "python3"
  },
  "language_info": {
   "codemirror_mode": {
    "name": "ipython",
    "version": 3
   },
   "file_extension": ".py",
   "mimetype": "text/x-python",
   "name": "python",
   "nbconvert_exporter": "python",
   "pygments_lexer": "ipython3",
   "version": "3.9.2"
  }
 },
 "nbformat": 4,
 "nbformat_minor": 5
}
