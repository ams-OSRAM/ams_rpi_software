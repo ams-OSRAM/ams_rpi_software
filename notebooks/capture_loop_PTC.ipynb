{
 "cells": [
  {
   "cell_type": "markdown",
   "id": "17aafd0c-e495-436d-8a97-71242fc122fa",
   "metadata": {},
   "source": [
    "# script to capture images in a loop. "
   ]
  },
  {
   "cell_type": "markdown",
   "id": "5574f565-6cfa-4046-9e32-6bfce1b4b4ec",
   "metadata": {},
   "source": [
    "## make sure, in the web interface, you close the camera. Run the cells one by one."
   ]
  },
  {
   "cell_type": "code",
   "execution_count": 101,
   "id": "7881a049-cb66-4232-8266-085169962079",
   "metadata": {},
   "outputs": [],
   "source": [
    "#some imports\n",
    "import time\n",
    "from PIL import Image\n",
    "import numpy as np\n",
    "import pandas as pd\n",
    "import pathlib\n",
    "from picamera2 import Picamera2, Preview\n",
    "import pprint\n",
    "from ipywidgets import interact, interactive\n",
    "from IPython.display import display"
   ]
  },
  {
   "cell_type": "code",
   "execution_count": 102,
   "id": "889b8a70-ecc4-4782-a919-5ecfeeb9d53c",
   "metadata": {},
   "outputs": [],
   "source": [
    "amount = 10 #numbers of pictures to capture per setting\n",
    "gains = [1]\n",
    "exposures_us = [100,200,300] #np.arange(1000, 10000, 500, dtype=int) #start, stop, step - this must be an array type. can also be, [100,200,300,400] etc..\n",
    "min_exposure = 100\n",
    "#select mode a few cells below.\n",
    "TIFF = True\n",
    "UPLOAD_FOLDER = pathlib.Path(\"./images\")\n",
    "UPLOAD_FOLDER.mkdir(parents=False, exist_ok=True)\n",
    "\n",
    "temp_save_dir = UPLOAD_FOLDER\n",
    "final_save_dir = UPLOAD_FOLDER"
   ]
  },
  {
   "cell_type": "code",
   "execution_count": 103,
   "id": "85501654-9ae6-441d-aab2-ae6b2cac3c91",
   "metadata": {},
   "outputs": [
    {
     "name": "stderr",
     "output_type": "stream",
     "text": [
      "[2:52:00.078747143] [12651] \u001b[1;32m INFO \u001b[1;37mCamera \u001b[1;34mcamera_manager.cpp:299 \u001b[0mlibcamera v0.0.4+22-923f5d70-dirty (2023-10-21T22:05:29+02:00)\n",
      "[2:52:00.086685388] [13986] \u001b[1;33m WARN \u001b[1;37mCameraSensorProperties \u001b[1;34mcamera_sensor_properties.cpp:333 \u001b[0mNo static properties available for 'mira016'\n",
      "[2:52:00.086763239] [13986] \u001b[1;33m WARN \u001b[1;37mCameraSensorProperties \u001b[1;34mcamera_sensor_properties.cpp:335 \u001b[0mPlease consider updating the camera sensor properties database\n",
      "[2:52:00.106013133] [13986] \u001b[1;33m WARN \u001b[1;37mRPI \u001b[1;34mraspberrypi.cpp:1357 \u001b[0mMismatch between Unicam and CamHelper for embedded data usage!\n",
      "[2:52:00.108378570] [13986] \u001b[1;32m INFO \u001b[1;37mRPI \u001b[1;34mraspberrypi.cpp:1476 \u001b[0mRegistered camera /base/soc/i2c0mux/i2c@1/mira016@36 to Unicam device /dev/media4 and ISP device /dev/media2\n"
     ]
    },
    {
     "data": {
      "text/plain": [
       "[{'Model': 'mira016',\n",
       "  'Location': 2,\n",
       "  'Rotation': 0,\n",
       "  'Id': '/base/soc/i2c0mux/i2c@1/mira016@36'}]"
      ]
     },
     "execution_count": 103,
     "metadata": {},
     "output_type": "execute_result"
    }
   ],
   "source": [
    "#view camera model\n",
    "Picamera2.global_camera_info()  #before init ;\n"
   ]
  },
  {
   "cell_type": "code",
   "execution_count": 104,
   "id": "b3bacf73-8528-4c22-bb00-f8f0dd4d6baf",
   "metadata": {},
   "outputs": [
    {
     "name": "stderr",
     "output_type": "stream",
     "text": [
      "[2:52:03.956652007] [12651] \u001b[1;32m INFO \u001b[1;37mCamera \u001b[1;34mcamera_manager.cpp:299 \u001b[0mlibcamera v0.0.4+22-923f5d70-dirty (2023-10-21T22:05:29+02:00)\n",
      "[2:52:03.960205911] [13991] \u001b[1;33m WARN \u001b[1;37mCameraSensorProperties \u001b[1;34mcamera_sensor_properties.cpp:333 \u001b[0mNo static properties available for 'mira016'\n",
      "[2:52:03.960251559] [13991] \u001b[1;33m WARN \u001b[1;37mCameraSensorProperties \u001b[1;34mcamera_sensor_properties.cpp:335 \u001b[0mPlease consider updating the camera sensor properties database\n",
      "[2:52:03.968320431] [13991] \u001b[1;33m WARN \u001b[1;37mRPI \u001b[1;34mraspberrypi.cpp:1357 \u001b[0mMismatch between Unicam and CamHelper for embedded data usage!\n",
      "[2:52:03.969302309] [13991] \u001b[1;32m INFO \u001b[1;37mRPI \u001b[1;34mraspberrypi.cpp:1476 \u001b[0mRegistered camera /base/soc/i2c0mux/i2c@1/mira016@36 to Unicam device /dev/media4 and ISP device /dev/media2\n",
      "[2:52:03.978881998] [12651] \u001b[1;32m INFO \u001b[1;37mCamera \u001b[1;34mcamera.cpp:1028 \u001b[0mconfiguring streams: (0) 640x480-XBGR8888 (1) 400x400-SGRBG10_CSI2P\n",
      "[2:52:03.979226901] [13991] \u001b[1;32m INFO \u001b[1;37mRPI \u001b[1;34mraspberrypi.cpp:851 \u001b[0mSensor: /base/soc/i2c0mux/i2c@1/mira016@36 - Selected sensor format: 400x400-SGRBG10_1X10 - Selected unicam format: 400x400-pgAA\n",
      "[2:52:03.991188971] [12651] \u001b[1;32m INFO \u001b[1;37mCamera \u001b[1;34mcamera.cpp:1028 \u001b[0mconfiguring streams: (0) 640x480-XBGR8888 (1) 400x400-SGRBG12_CSI2P\n",
      "[2:52:03.991533763] [13991] \u001b[1;32m INFO \u001b[1;37mRPI \u001b[1;34mraspberrypi.cpp:851 \u001b[0mSensor: /base/soc/i2c0mux/i2c@1/mira016@36 - Selected sensor format: 400x400-SGRBG12_1X12 - Selected unicam format: 400x400-pgCC\n",
      "[2:52:04.002612139] [12651] \u001b[1;32m INFO \u001b[1;37mCamera \u001b[1;34mcamera.cpp:1028 \u001b[0mconfiguring streams: (0) 640x480-XBGR8888 (1) 400x400-SGRBG8\n",
      "[2:52:04.002936950] [13991] \u001b[1;32m INFO \u001b[1;37mRPI \u001b[1;34mraspberrypi.cpp:851 \u001b[0mSensor: /base/soc/i2c0mux/i2c@1/mira016@36 - Selected sensor format: 400x400-SGRBG8_1X8 - Selected unicam format: 400x400-GRBG\n"
     ]
    },
    {
     "name": "stdout",
     "output_type": "stream",
     "text": [
      "[{'bit_depth': 10,\n",
      "  'crop_limits': (0, 0, 400, 400),\n",
      "  'exposure_limits': (74, 1600421, None),\n",
      "  'format': SGRBG10_CSI2P,\n",
      "  'fps': 100.0,\n",
      "  'size': (400, 400),\n",
      "  'unpacked': 'SGRBG10'},\n",
      " {'bit_depth': 12,\n",
      "  'crop_limits': (0, 0, 400, 400),\n",
      "  'exposure_limits': (74, 1600421, None),\n",
      "  'format': SGRBG12_CSI2P,\n",
      "  'fps': 100.0,\n",
      "  'size': (400, 400),\n",
      "  'unpacked': 'SGRBG12'},\n",
      " {'bit_depth': 8,\n",
      "  'crop_limits': (0, 0, 400, 400),\n",
      "  'exposure_limits': (74, 1600421, None),\n",
      "  'format': SGRBG8,\n",
      "  'fps': 100.0,\n",
      "  'size': (400, 400),\n",
      "  'unpacked': 'SGRBG8'}]\n"
     ]
    }
   ],
   "source": [
    "#print all sensor modes\n",
    "with Picamera2() as picam2:\n",
    "    modes = picam2.sensor_modes\n",
    "    pprint.pprint(picam2.sensor_modes)"
   ]
  },
  {
   "cell_type": "markdown",
   "id": "2b815c65-4914-4855-9ab7-bd986fceba43",
   "metadata": {},
   "source": [
    "## select mode here"
   ]
  },
  {
   "cell_type": "code",
   "execution_count": 106,
   "id": "d98ba404-00b1-4e51-b642-8554af775079",
   "metadata": {
    "scrolled": true
   },
   "outputs": [
    {
     "data": {
      "application/vnd.jupyter.widget-view+json": {
       "model_id": "9ab97f4ce1f94cef85f7151b4d80fdb4",
       "version_major": 2,
       "version_minor": 0
      },
      "text/plain": [
       "interactive(children=(Dropdown(description='mode', options=({'format': SGRBG10_CSI2P, 'unpacked': 'SGRBG10', '…"
      ]
     },
     "metadata": {},
     "output_type": "display_data"
    }
   ],
   "source": [
    "def f(mode):\n",
    "    display(mode)\n",
    "    return mode\n",
    "w = interactive(f, mode=modes)\n",
    "display(w)\n"
   ]
  },
  {
   "cell_type": "markdown",
   "id": "edf972c2-10b6-494d-89b9-80f94185c68c",
   "metadata": {},
   "source": [
    "# TURN OFF THE LIGHT"
   ]
  },
  {
   "cell_type": "code",
   "execution_count": 107,
   "id": "089a21d0-31b7-4f30-9ebd-7aa711fbc3d4",
   "metadata": {},
   "outputs": [
    {
     "name": "stdout",
     "output_type": "stream",
     "text": [
      "you have chosen mode {'format': SGRBG10_CSI2P, 'unpacked': 'SGRBG10', 'bit_depth': 10, 'size': (400, 400), 'fps': 100.0, 'crop_limits': (0, 0, 400, 400), 'exposure_limits': (74, 1600421, None)}\n"
     ]
    },
    {
     "name": "stderr",
     "output_type": "stream",
     "text": [
      "[2:52:28.172188646] [12651] \u001b[1;32m INFO \u001b[1;37mCamera \u001b[1;34mcamera_manager.cpp:299 \u001b[0mlibcamera v0.0.4+22-923f5d70-dirty (2023-10-21T22:05:29+02:00)\n",
      "[2:52:28.179258604] [13997] \u001b[1;33m WARN \u001b[1;37mCameraSensorProperties \u001b[1;34mcamera_sensor_properties.cpp:333 \u001b[0mNo static properties available for 'mira016'\n",
      "[2:52:28.179329473] [13997] \u001b[1;33m WARN \u001b[1;37mCameraSensorProperties \u001b[1;34mcamera_sensor_properties.cpp:335 \u001b[0mPlease consider updating the camera sensor properties database\n",
      "[2:52:28.195603421] [13997] \u001b[1;33m WARN \u001b[1;37mRPI \u001b[1;34mraspberrypi.cpp:1357 \u001b[0mMismatch between Unicam and CamHelper for embedded data usage!\n",
      "[2:52:28.197577973] [13997] \u001b[1;32m INFO \u001b[1;37mRPI \u001b[1;34mraspberrypi.cpp:1476 \u001b[0mRegistered camera /base/soc/i2c0mux/i2c@1/mira016@36 to Unicam device /dev/media4 and ISP device /dev/media2\n",
      "[2:52:28.208668811] [12651] \u001b[1;32m INFO \u001b[1;37mCamera \u001b[1;34mcamera.cpp:1028 \u001b[0mconfiguring streams: (0) 400x400-XBGR8888 (1) 400x400-SGRBG10\n",
      "[2:52:28.209258379] [13997] \u001b[1;32m INFO \u001b[1;37mRPI \u001b[1;34mraspberrypi.cpp:851 \u001b[0mSensor: /base/soc/i2c0mux/i2c@1/mira016@36 - Selected sensor format: 400x400-SGRBG10_1X10 - Selected unicam format: 400x400-BA10\n"
     ]
    },
    {
     "name": "stdout",
     "output_type": "stream",
     "text": [
      "DARK IMAGE - exposure in loop is 100, gain in loop is 1\n"
     ]
    }
   ],
   "source": [
    "#DARK CONDITIONS\n",
    "selected_mode = (w.result)\n",
    "bit_mode = selected_mode[\"bit_depth\"]\n",
    "im_data = pd.DataFrame()\n",
    "print(f'you have chosen mode {selected_mode}')\n",
    "\n",
    "with Picamera2() as picam2:\n",
    "    preview_config = picam2.create_preview_configuration(main={\"size\": selected_mode[\"size\"]},\n",
    "        raw={\"format\": selected_mode[\"unpacked\"],\n",
    "            \"size\": selected_mode[\"size\"],\n",
    "        })\n",
    "    picam2.configure(preview_config)\n",
    "\n",
    "    picam2.start()\n",
    "\n",
    "    for analog_gain in gains:\n",
    "        for exposure in [min_exposure]:\n",
    "            print(f'DARK IMAGE - exposure in loop is {exposure}, gain in loop is {gain}')\n",
    "        \n",
    "            picam2.set_controls({\"ExposureTime\": exposure , \"AnalogueGain\": analog_gain})\n",
    "            \n",
    "            time.sleep(2)\n",
    "            #raw = picam2.capture_buffer()\n",
    "            #np.from_buffer\n",
    "            \n",
    "            size = selected_mode[\"size\"]\n",
    "        \n",
    "            width = size[0]\n",
    "            height = size[1]\n",
    "            im_stack = []\n",
    "            for i in range(amount):\n",
    "                if bit_mode == 8:\n",
    "                    image = picam2.capture_array(\"raw\").view(np.uint8)\n",
    "                else:\n",
    "                    image = picam2.capture_array(\"raw\").view(np.uint16)\n",
    "                im_stack.append(image[0:height, 0:width])\n",
    "                if TIFF:\n",
    "                    # save images    \n",
    "                    pilim = Image.fromarray(image)\n",
    "                    filename = str(f\"{UPLOAD_FOLDER}/img_exposure{exposure}_gain{analog_gain}_DARK_{i}.tiff\")\n",
    "                    pilim.save(filename)\n",
    "                \n",
    "            # get & save images\n",
    "            name = f'bm={bit_mode}_ag={analog_gain}_fc={amount}_exp={round(exposure, 1)}_dark.npz'\n",
    "            temp_im_dir = UPLOAD_FOLDER\n",
    "            temp_im_path = pathlib.Path(temp_im_dir / name)\n",
    "            np.savez(str(temp_im_path), im_stack)\n",
    "\n",
    "            # add to image data\n",
    "            temp = {'Analog Gain': [analog_gain],\n",
    "                    'Bit Mode': [bit_mode],\n",
    "                    'Exposure [ms]': [exposure],\n",
    "                    'Frame Count': [amount],\n",
    "                    'Power [uW/cm^2]': ['dark'],\n",
    "                    'Exposure [uW/cm^2*s]': [0],\n",
    "                    'Image Path_npz': [str(pathlib.Path(temp_im_dir / name))]}\n",
    "            \n",
    "            temp = pd.DataFrame.from_dict(temp)\n",
    "\n",
    "            # concat raw to im_data\n",
    "            im_data = pd.concat([im_data, temp], ignore_index=True).reset_index(drop=True)\n",
    "    "
   ]
  },
  {
   "cell_type": "markdown",
   "id": "ab684523-ad13-457d-ac5f-fe0749ac1323",
   "metadata": {},
   "source": [
    "# TURN ON THE LIGHT"
   ]
  },
  {
   "cell_type": "code",
   "execution_count": 108,
   "id": "2df3ee5b-f468-4297-821f-65a8e8346cc1",
   "metadata": {},
   "outputs": [
    {
     "name": "stderr",
     "output_type": "stream",
     "text": [
      "[2:52:33.012320911] [12651] \u001b[1;32m INFO \u001b[1;37mCamera \u001b[1;34mcamera_manager.cpp:299 \u001b[0mlibcamera v0.0.4+22-923f5d70-dirty (2023-10-21T22:05:29+02:00)\n",
      "[2:52:33.015844613] [14004] \u001b[1;33m WARN \u001b[1;37mCameraSensorProperties \u001b[1;34mcamera_sensor_properties.cpp:333 \u001b[0mNo static properties available for 'mira016'\n",
      "[2:52:33.015880279] [14004] \u001b[1;33m WARN \u001b[1;37mCameraSensorProperties \u001b[1;34mcamera_sensor_properties.cpp:335 \u001b[0mPlease consider updating the camera sensor properties database\n",
      "[2:52:33.023800616] [14004] \u001b[1;33m WARN \u001b[1;37mRPI \u001b[1;34mraspberrypi.cpp:1357 \u001b[0mMismatch between Unicam and CamHelper for embedded data usage!\n",
      "[2:52:33.024864512] [14004] \u001b[1;32m INFO \u001b[1;37mRPI \u001b[1;34mraspberrypi.cpp:1476 \u001b[0mRegistered camera /base/soc/i2c0mux/i2c@1/mira016@36 to Unicam device /dev/media4 and ISP device /dev/media2\n",
      "[2:52:33.031341680] [12651] \u001b[1;32m INFO \u001b[1;37mCamera \u001b[1;34mcamera.cpp:1028 \u001b[0mconfiguring streams: (0) 400x400-XBGR8888 (1) 400x400-SGRBG10\n",
      "[2:52:33.031699028] [14004] \u001b[1;32m INFO \u001b[1;37mRPI \u001b[1;34mraspberrypi.cpp:851 \u001b[0mSensor: /base/soc/i2c0mux/i2c@1/mira016@36 - Selected sensor format: 400x400-SGRBG10_1X10 - Selected unicam format: 400x400-BA10\n"
     ]
    },
    {
     "name": "stdout",
     "output_type": "stream",
     "text": [
      "exposure in loop is 100, gain in loop is 1\n",
      "exposure in loop is 200, gain in loop is 1\n",
      "exposure in loop is 300, gain in loop is 1\n"
     ]
    },
    {
     "data": {
      "image/png": "[encoded data removed]",
      "text/plain": [
       "<Figure size 640x480 with 1 Axes>"
      ]
     },
     "metadata": {},
     "output_type": "display_data"
    }
   ],
   "source": [
    "#ILLUMINATED CONDITIONS\n",
    "with Picamera2() as picam2:\n",
    "    preview_config = picam2.create_preview_configuration(main={\"size\": selected_mode[\"size\"]},\n",
    "        raw={\"format\": selected_mode[\"unpacked\"],\n",
    "            \"size\": selected_mode[\"size\"],\n",
    "        })\n",
    "    picam2.configure(preview_config)\n",
    "\n",
    "    picam2.start()   \n",
    "    for analog_gain in gains:\n",
    "        for exposure in exposures_us:\n",
    "            print(f'exposure in loop is {exposure}, gain in loop is {gain}')\n",
    "        \n",
    "            picam2.set_controls({\"ExposureTime\": exposure , \"AnalogueGain\": analog_gain})\n",
    "            \n",
    "            time.sleep(2)\n",
    "            #raw = picam2.capture_buffer()\n",
    "            #np.from_buffer\n",
    "            \n",
    "            size = selected_mode[\"size\"]\n",
    "        \n",
    "            width = size[0]\n",
    "            height = size[1]\n",
    "            im_stack = []\n",
    "            for i in range(amount):\n",
    "                if bit_mode == 8:\n",
    "                    image = picam2.capture_array(\"raw\").view(np.uint8)\n",
    "                else:\n",
    "                    image = picam2.capture_array(\"raw\").view(np.uint16)\n",
    "                im_stack.append(image[0:height, 0:width])\n",
    "                if TIFF:\n",
    "                    # save images    \n",
    "                    pilim = Image.fromarray(image)\n",
    "                    filename = str(f\"{UPLOAD_FOLDER}/imgraw{i}_exposure{exposure}_gain{analog_gain}.tiff\")\n",
    "                    pilim.save(filename)\n",
    "                \n",
    "            # get & save images\n",
    "            name = f'bm={bit_mode}_ag={analog_gain}_fc={amount}_exp={round(exposure, 1)}.npz'\n",
    "            temp_im_dir = UPLOAD_FOLDER\n",
    "            temp_im_path = pathlib.Path(temp_im_dir / name)\n",
    "            np.savez(str(temp_im_path), im_stack)\n",
    "\n",
    "            # add to image data\n",
    "            temp = {'Analog Gain': [analog_gain],\n",
    "                    'Bit Mode': [bit_mode],\n",
    "                    'Exposure [ms]': [exposure],\n",
    "                    'Frame Count': [amount],\n",
    "                    'Power [uW/cm^2]': ['illuminated'],\n",
    "                    'Exposure [uW/cm^2*s]': [0],\n",
    "                    'Image Path_npz': [str(pathlib.Path(temp_im_dir / name))]}\n",
    "            \n",
    "            temp = pd.DataFrame.from_dict(temp)\n",
    "\n",
    "            # concat raw to im_data\n",
    "            im_data = pd.concat([im_data, temp], ignore_index=True).reset_index(drop=True)\n",
    "            im_data_path = pathlib.Path(temp_save_dir / r'image_data.csv')\n",
    "            im_data.to_csv(im_data_path, index=False)\n",
    "\n",
    "\n",
    "\n",
    "    \n",
    "            \n",
    "    import matplotlib.pyplot as plt\n",
    "    plt.imshow(imgs[0],cmap='gray')\n",
    "    plt.show()"
   ]
  },
  {
   "cell_type": "code",
   "execution_count": null,
   "id": "3406ae00-8aaf-4c7b-8cf4-73ece5d17641",
   "metadata": {},
   "outputs": [],
   "source": []
  }
 ],
 "metadata": {
  "kernelspec": {
   "display_name": "Python 3 (ipykernel)",
   "language": "python",
   "name": "python3"
  },
  "language_info": {
   "codemirror_mode": {
    "name": "ipython",
    "version": 3
   },
   "file_extension": ".py",
   "mimetype": "text/x-python",
   "name": "python",
   "nbconvert_exporter": "python",
   "pygments_lexer": "ipython3",
   "version": "3.9.2"
  }
 },
 "nbformat": 4,
 "nbformat_minor": 5
}
