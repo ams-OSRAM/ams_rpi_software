{
 "cells": [
  {
   "cell_type": "code",
   "execution_count": 1,
   "id": "015a81f5-33a8-4c81-a576-8631dc2ee4d4",
   "metadata": {},
   "outputs": [],
   "source": [
    "#gpio example\n",
    "import pigpio"
   ]
  },
  {
   "cell_type": "code",
   "execution_count": 2,
   "id": "51282241-2b65-4918-8cd0-5dfa1eb724fa",
   "metadata": {},
   "outputs": [
    {
     "ename": "KeyboardInterrupt",
     "evalue": "",
     "output_type": "error",
     "traceback": [
      "\u001b[0;31m---------------------------------------------------------------------------\u001b[0m",
      "\u001b[0;31mKeyboardInterrupt\u001b[0m                         Traceback (most recent call last)",
      "Cell \u001b[0;32mIn[2], line 1\u001b[0m\n\u001b[0;32m----> 1\u001b[0m pi1 \u001b[38;5;241m=\u001b[39m \u001b[43mpigpio\u001b[49m\u001b[38;5;241;43m.\u001b[39;49m\u001b[43mpi\u001b[49m\u001b[43m(\u001b[49m\u001b[43m)\u001b[49m       \u001b[38;5;66;03m# pi1 accesses the local Pi's GPIO\u001b[39;00m\n",
      "File \u001b[0;32m/usr/lib/python3/dist-packages/pigpio.py:5229\u001b[0m, in \u001b[0;36mpi.__init__\u001b[0;34m(self, host, port, show_errors)\u001b[0m\n\u001b[1;32m   5226\u001b[0m    \u001b[38;5;66;03m# Disable the Nagle algorithm.\u001b[39;00m\n\u001b[1;32m   5227\u001b[0m    \u001b[38;5;28mself\u001b[39m\u001b[38;5;241m.\u001b[39msl\u001b[38;5;241m.\u001b[39ms\u001b[38;5;241m.\u001b[39msetsockopt(socket\u001b[38;5;241m.\u001b[39mIPPROTO_TCP, socket\u001b[38;5;241m.\u001b[39mTCP_NODELAY, \u001b[38;5;241m1\u001b[39m)\n\u001b[0;32m-> 5229\u001b[0m    \u001b[38;5;28mself\u001b[39m\u001b[38;5;241m.\u001b[39m_notify \u001b[38;5;241m=\u001b[39m \u001b[43m_callback_thread\u001b[49m\u001b[43m(\u001b[49m\u001b[38;5;28;43mself\u001b[39;49m\u001b[38;5;241;43m.\u001b[39;49m\u001b[43msl\u001b[49m\u001b[43m,\u001b[49m\u001b[43m \u001b[49m\u001b[43mhost\u001b[49m\u001b[43m,\u001b[49m\u001b[43m \u001b[49m\u001b[43mport\u001b[49m\u001b[43m)\u001b[49m\n\u001b[1;32m   5231\u001b[0m \u001b[38;5;28;01mexcept\u001b[39;00m socket\u001b[38;5;241m.\u001b[39merror:\n\u001b[1;32m   5232\u001b[0m    exception \u001b[38;5;241m=\u001b[39m \u001b[38;5;241m1\u001b[39m\n",
      "File \u001b[0;32m/usr/lib/python3/dist-packages/pigpio.py:1134\u001b[0m, in \u001b[0;36m_callback_thread.__init__\u001b[0;34m(self, control, host, port)\u001b[0m\n\u001b[1;32m   1132\u001b[0m \u001b[38;5;28mself\u001b[39m\u001b[38;5;241m.\u001b[39mevents \u001b[38;5;241m=\u001b[39m []\n\u001b[1;32m   1133\u001b[0m \u001b[38;5;28mself\u001b[39m\u001b[38;5;241m.\u001b[39msl\u001b[38;5;241m.\u001b[39ms \u001b[38;5;241m=\u001b[39m socket\u001b[38;5;241m.\u001b[39mcreate_connection((host, port), \u001b[38;5;28;01mNone\u001b[39;00m)\n\u001b[0;32m-> 1134\u001b[0m \u001b[38;5;28mself\u001b[39m\u001b[38;5;241m.\u001b[39mlastLevel \u001b[38;5;241m=\u001b[39m \u001b[43m_pigpio_command\u001b[49m\u001b[43m(\u001b[49m\u001b[38;5;28;43mself\u001b[39;49m\u001b[38;5;241;43m.\u001b[39;49m\u001b[43msl\u001b[49m\u001b[43m,\u001b[49m\u001b[43m  \u001b[49m\u001b[43m_PI_CMD_BR1\u001b[49m\u001b[43m,\u001b[49m\u001b[43m \u001b[49m\u001b[38;5;241;43m0\u001b[39;49m\u001b[43m,\u001b[49m\u001b[43m \u001b[49m\u001b[38;5;241;43m0\u001b[39;49m\u001b[43m)\u001b[49m\n\u001b[1;32m   1135\u001b[0m \u001b[38;5;28mself\u001b[39m\u001b[38;5;241m.\u001b[39mhandle \u001b[38;5;241m=\u001b[39m _u2i(_pigpio_command(\u001b[38;5;28mself\u001b[39m\u001b[38;5;241m.\u001b[39msl, _PI_CMD_NOIB, \u001b[38;5;241m0\u001b[39m, \u001b[38;5;241m0\u001b[39m))\n\u001b[1;32m   1136\u001b[0m \u001b[38;5;28mself\u001b[39m\u001b[38;5;241m.\u001b[39mgo \u001b[38;5;241m=\u001b[39m \u001b[38;5;28;01mTrue\u001b[39;00m\n",
      "File \u001b[0;32m/usr/lib/python3/dist-packages/pigpio.py:1026\u001b[0m, in \u001b[0;36m_pigpio_command\u001b[0;34m(sl, cmd, p1, p2)\u001b[0m\n\u001b[1;32m   1024\u001b[0m \u001b[38;5;28;01mwith\u001b[39;00m sl\u001b[38;5;241m.\u001b[39ml:\n\u001b[1;32m   1025\u001b[0m    sl\u001b[38;5;241m.\u001b[39ms\u001b[38;5;241m.\u001b[39msend(struct\u001b[38;5;241m.\u001b[39mpack(\u001b[38;5;124m'\u001b[39m\u001b[38;5;124mIIII\u001b[39m\u001b[38;5;124m'\u001b[39m, cmd, p1, p2, \u001b[38;5;241m0\u001b[39m))\n\u001b[0;32m-> 1026\u001b[0m    dummy, res \u001b[38;5;241m=\u001b[39m struct\u001b[38;5;241m.\u001b[39munpack(\u001b[38;5;124m'\u001b[39m\u001b[38;5;124m12sI\u001b[39m\u001b[38;5;124m'\u001b[39m, \u001b[43msl\u001b[49m\u001b[38;5;241;43m.\u001b[39;49m\u001b[43ms\u001b[49m\u001b[38;5;241;43m.\u001b[39;49m\u001b[43mrecv\u001b[49m\u001b[43m(\u001b[49m\u001b[43m_SOCK_CMD_LEN\u001b[49m\u001b[43m)\u001b[49m)\n\u001b[1;32m   1027\u001b[0m \u001b[38;5;28;01mreturn\u001b[39;00m res\n",
      "\u001b[0;31mKeyboardInterrupt\u001b[0m: "
     ]
    }
   ],
   "source": [
    "pi1 = pigpio.pi()       # pi1 accesses the local Pi's GPIO"
   ]
  },
  {
   "cell_type": "code",
   "execution_count": null,
   "id": "07bd79d9-508a-4f35-96d7-3cfce6d152dd",
   "metadata": {},
   "outputs": [],
   "source": [
    "pi3.read(4)     # get level of dick's GPIO 4"
   ]
  },
  {
   "cell_type": "code",
   "execution_count": null,
   "id": "e403bfd8-9376-4c8e-be0a-4d153101356a",
   "metadata": {},
   "outputs": [],
   "source": []
  }
 ],
 "metadata": {
  "kernelspec": {
   "display_name": "Python 3 (ipykernel)",
   "language": "python",
   "name": "python3"
  },
  "language_info": {
   "codemirror_mode": {
    "name": "ipython",
    "version": 3
   },
   "file_extension": ".py",
   "mimetype": "text/x-python",
   "name": "python",
   "nbconvert_exporter": "python",
   "pygments_lexer": "ipython3",
   "version": "3.9.2"
  }
 },
 "nbformat": 4,
 "nbformat_minor": 5
}
