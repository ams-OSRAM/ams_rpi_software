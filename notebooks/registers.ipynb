{
 "cells": [
  {
   "cell_type": "markdown",
   "id": "eff581e8-7126-4e27-8aaf-c8db085f5cc7",
   "metadata": {},
   "source": [
    "example notebook to read/write some registers from a sensor. Make sure the sensor is turned on and the correct sensor is selected below.. (open the web viewer for example)"
   ]
  },
  {
   "cell_type": "code",
   "execution_count": 13,
   "id": "e69f72db-20cc-4860-90eb-9e6d62af7ae9",
   "metadata": {},
   "outputs": [],
   "source": [
    "import cv2\n",
    "import numpy as np\n",
    "import sys\n",
    "import os\n",
    "import time\n",
    "\n",
    "\n",
    "sys.path.append(\"../common\")\n",
    "from driver_access import v4l2Ctrl\n",
    "from config_parser import ConfigParser"
   ]
  },
  {
   "cell_type": "code",
   "execution_count": 14,
   "id": "c9b00cfd-2cf4-4931-8141-f1d2bf75717f",
   "metadata": {},
   "outputs": [],
   "source": [
    "i2c = v4l2Ctrl(sensor=\"mira016\", printFunc=print)\n"
   ]
  },
  {
   "cell_type": "code",
   "execution_count": 16,
   "id": "82103a60-d8de-4307-98be-9bf970583e60",
   "metadata": {},
   "outputs": [
    {
     "name": "stdout",
     "output_type": "stream",
     "text": [
      "exposure value in hex: 0x0 0x0 0x0 0x5d\n",
      "exposure val in decimal: 93\n"
     ]
    }
   ],
   "source": [
    "exp_val = i2c.rwReg(addr=0xE000, value=0x1, rw=1, flag=0) #bank sel 1\n",
    "\n",
    "exp_val_1 = i2c.rwReg(addr=0x000E, value=0x0, rw=0, flag=0)\n",
    "exp_val_2 = i2c.rwReg(addr=0x000F, value=0x0, rw=0, flag=0)\n",
    "exp_val_3 = i2c.rwReg(addr=0x0010, value=0x0, rw=0, flag=0)\n",
    "exp_val_4 = i2c.rwReg(addr=0x0011, value=0x0, rw=0, flag=0)\n",
    "\n",
    "print(f'exposure value in hex: {hex(exp_val_1)} {hex(exp_val_2)} {hex(exp_val_3)} {hex(exp_val_4)}')\n",
    "print(f'exposure val in decimal: {256**3 *(exp_val_1) + 256**2 * (exp_val_2) + 256* (exp_val_3) + (exp_val_4)}')"
   ]
  },
  {
   "cell_type": "code",
   "execution_count": null,
   "id": "fcf443df-c836-4e45-a669-523a4836c3f4",
   "metadata": {},
   "outputs": [],
   "source": []
  },
  {
   "cell_type": "code",
   "execution_count": null,
   "id": "d409802f-ef88-4c3e-aad7-6a0bab63ea3c",
   "metadata": {},
   "outputs": [],
   "source": []
  },
  {
   "cell_type": "code",
   "execution_count": null,
   "id": "25f6f9e7-2ab1-4163-90d3-298b332aac7f",
   "metadata": {},
   "outputs": [],
   "source": []
  }
 ],
 "metadata": {
  "kernelspec": {
   "display_name": "Python 3 (ipykernel)",
   "language": "python",
   "name": "python3"
  },
  "language_info": {
   "codemirror_mode": {
    "name": "ipython",
    "version": 3
   },
   "file_extension": ".py",
   "mimetype": "text/x-python",
   "name": "python",
   "nbconvert_exporter": "python",
   "pygments_lexer": "ipython3",
   "version": "3.9.2"
  }
 },
 "nbformat": 4,
 "nbformat_minor": 5
}
