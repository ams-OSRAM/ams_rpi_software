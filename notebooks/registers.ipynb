{
 "cells": [
  {
   "cell_type": "markdown",
   "id": "eff581e8-7126-4e27-8aaf-c8db085f5cc7",
   "metadata": {},
   "source": [
    "example notebook to read/write some registers from a sensor. Make sure the sensor is turned on and the correct sensor is selected below.. (open the web viewer for example)\n",
    "\n",
    "LOCAL USAGE ONLY!!! (not working remote)"
   ]
  },
  {
   "cell_type": "code",
   "execution_count": 3,
   "id": "f728bbb9-c9c5-46d8-9b78-00baafc41386",
   "metadata": {},
   "outputs": [],
   "source": [
    "import cv2\n",
    "import numpy as np\n",
    "import sys\n",
    "import os\n",
    "import time\n",
    "sys.path.append(\"../common\")\n",
    "from driver_access import v4l2Ctrl\n",
    "from config_parser import ConfigParser\n",
    "\n",
    "i2c = v4l2Ctrl(sensor=\"mira016\", printFunc=print)\n"
   ]
  },
  {
   "cell_type": "code",
   "execution_count": 13,
   "id": "82103a60-d8de-4307-98be-9bf970583e60",
   "metadata": {},
   "outputs": [
    {
     "name": "stdout",
     "output_type": "stream",
     "text": [
      "rwreg started - 57344 1 1\n",
      "rwreg started - 14 0 0\n",
      "rwreg started - 15 0 0\n",
      "rwreg started - 16 0 0\n",
      "rwreg started - 17 0 0\n",
      "exposure value in hex: 0x0 0x0 0x3 0xdf\n",
      "exposure val in decimal: 991\n"
     ]
    }
   ],
   "source": [
    "exp_val = i2c.rwReg(addr=0xE000, value=0x1, rw=1, flag=0) # WRITE bank sel 1\n",
    "\n",
    "exp_val_1 = i2c.rwReg(addr=0x000E, value=0x0, rw=0, flag=0) # READ registers \n",
    "exp_val_2 = i2c.rwReg(addr=0x000F, value=0x0, rw=0, flag=0)\n",
    "exp_val_3 = i2c.rwReg(addr=0x0010, value=0x0, rw=0, flag=0)\n",
    "exp_val_4 = i2c.rwReg(addr=0x0011, value=0x0, rw=0, flag=0)\n",
    "\n",
    "print(f'exposure value in hex: {hex(exp_val_1)} {hex(exp_val_2)} {hex(exp_val_3)} {hex(exp_val_4)}')\n",
    "print(f'exposure val in decimal: {256**3 *(exp_val_1) + 256**2 * (exp_val_2) + 256* (exp_val_3) + (exp_val_4)}')"
   ]
  },
  {
   "cell_type": "code",
   "execution_count": 6,
   "id": "fcf443df-c836-4e45-a669-523a4836c3f4",
   "metadata": {},
   "outputs": [
    {
     "name": "stdout",
     "output_type": "stream",
     "text": [
      "exposure value in hex: 0x4 0xe8 \n",
      "exposure val in decimal: 1256\n"
     ]
    }
   ],
   "source": [
    "# measure temperature (uncalibrated)\n",
    "exp_val = i2c.rwReg(addr=0xE000, value=0x0, rw=1, flag=0) # WRITE bank sel 1\n",
    "exp_val = i2c.rwReg(addr=0x1FA, value=0x0, rw=1, flag=0) # WRITE bank sel 1\n",
    "exp_val = i2c.rwReg(addr=0xE007, value=0x1, rw=1, flag=0) # WRITE bank sel 1\n",
    "\n",
    "exp_val = i2c.rwReg(addr=0x000E, value=0x1, rw=1, flag=0) # WRITE bank sel 1\n",
    "exp_val = i2c.rwReg(addr=0x000E, value=0x0, rw=1, flag=0) # WRITE bank sel 1\n",
    "exp_val = i2c.rwReg(addr=0x074, value=0x1, rw=1, flag=0) # WRITE bank sel 1\n",
    "\n",
    "val_1 = i2c.rwReg(addr=0x072, value=0x1, rw=0, flag=0) # WRITE bank sel 1\n",
    "val_2 = i2c.rwReg(addr=0x073, value=0x1, rw=0, flag=0) # WRITE bank sel 1\n",
    "\n",
    "exp_val = i2c.rwReg(addr=0x074, value=0x0, rw=1, flag=0) # WRITE bank sel 1\n",
    "exp_val = i2c.rwReg(addr=0xE007, value=0x0, rw=1, flag=0) # WRITE bank sel 1\n",
    "exp_val = i2c.rwReg(addr=0x1FA, value=0x1, rw=1, flag=0) # WRITE bank sel 1\n",
    "\n",
    "\n",
    "print(f'exposure value in hex: {hex(val_1)} {hex(val_2)} ')\n",
    "print(f'exposure val in decimal: {256 * (val_1) + (val_2)}')"
   ]
  },
  {
   "cell_type": "code",
   "execution_count": 6,
   "id": "6fafd0fb-eebf-4729-93c6-60d7e1d28936",
   "metadata": {},
   "outputs": [
    {
     "name": "stdout",
     "output_type": "stream",
     "text": [
      "rwreg started - 57344 0 1\n",
      "rwreg write startedddd - 0 57344 0\n",
      "rwreg started - 92 0 1\n",
      "rwreg write startedddd - 0 92 0\n",
      "rwreg started - 93 96 1\n",
      "rwreg write startedddd - 0 93 96\n"
     ]
    }
   ],
   "source": [
    "#draco black level\n",
    "exp_val = i2c.rwReg(addr=0xE000, value=0x0, rw=1, flag=0) # WRITE bank sel 0\n",
    "#exp_val = i2c.rwReg(addr=0x193, value=0x4, rw=1, flag=0) # WRITE bank sel 0\n",
    "#exp_val = i2c.rwReg(addr=0x194, value=0x16, rw=1, flag=0) # WRITE bank sel 1\n",
    "\n",
    "exp_val_3 = i2c.rwReg(addr=92, value=0, rw=1, flag=0) # offset clipping registers \n",
    "exp_val_4 = i2c.rwReg(addr=93, value=96, rw=1, flag=0)"
   ]
  },
  {
   "cell_type": "code",
   "execution_count": 7,
   "id": "31c63720-c34e-4ccb-8959-a722db063236",
   "metadata": {},
   "outputs": [
    {
     "name": "stdout",
     "output_type": "stream",
     "text": [
      "rwreg started - 57344 0 1\n",
      "rwreg write startedddd - 0 57344 0\n",
      "rwreg started - 403 68 0\n",
      "rwreg read startedddd - 1 403 8\n",
      "rwreg started - 404 22 0\n",
      "rwreg read startedddd - 1 404 3\n",
      "offsetclip value in hex:  0x8 0x3\n",
      "offsetclip val in decimal: 2051\n",
      "rwreg started - 92 0 0\n",
      "rwreg read startedddd - 1 92 0\n",
      "rwreg started - 93 0 0\n",
      "rwreg read startedddd - 1 93 96\n",
      "offsetclip value in hex:  0x0 0x60\n",
      "offsetclip val in decimal: 96\n"
     ]
    }
   ],
   "source": [
    "exp_val = i2c.rwReg(addr=0xE000, value=0x0, rw=1, flag=0) # WRITE bank sel 0\n",
    "\n",
    "exp_val_3 = i2c.rwReg(addr=0x193, value=0x44, rw=0, flag=0) # offset clipping registers \n",
    "exp_val_4 = i2c.rwReg(addr=0x194, value=0x16, rw=0, flag=0)\n",
    "\n",
    "print(f'offsetclip value in hex:  {hex(exp_val_3)} {hex(exp_val_4)}')\n",
    "print(f'offsetclip val in decimal: { 256* (exp_val_3) + (exp_val_4)}')\n",
    "\n",
    "exp_val_3 = i2c.rwReg(addr=92, value=0, rw=0, flag=0) # offset clipping registers \n",
    "exp_val_4 = i2c.rwReg(addr=93, value=0, rw=0, flag=0)\n",
    "\n",
    "print(f'offsetclip value in hex:  {hex(exp_val_3)} {hex(exp_val_4)}')\n",
    "print(f'offsetclip val in decimal: { 256* (exp_val_3) + (exp_val_4)}')"
   ]
  },
  {
   "cell_type": "code",
   "execution_count": 52,
   "id": "25f6f9e7-2ab1-4163-90d3-298b332aac7f",
   "metadata": {},
   "outputs": [
    {
     "data": {
      "text/plain": [
       "2051"
      ]
     },
     "execution_count": 52,
     "metadata": {},
     "output_type": "execute_result"
    }
   ],
   "source": [
    "0x803\n"
   ]
  }
 ],
 "metadata": {
  "kernelspec": {
   "display_name": "Python 3 (ipykernel)",
   "language": "python",
   "name": "python3"
  },
  "language_info": {
   "codemirror_mode": {
    "name": "ipython",
    "version": 3
   },
   "file_extension": ".py",
   "mimetype": "text/x-python",
   "name": "python",
   "nbconvert_exporter": "python",
   "pygments_lexer": "ipython3",
   "version": "3.9.2"
  }
 },
 "nbformat": 4,
 "nbformat_minor": 5
}
