{
 "cells": [
  {
   "cell_type": "markdown",
   "id": "eff581e8-7126-4e27-8aaf-c8db085f5cc7",
   "metadata": {},
   "source": [
    "example notebook to read/write some registers from a sensor. Make sure the sensor is turned on and the correct sensor is selected below.. (open the web viewer for example)\n",
    "\n",
    "LOCAL USAGE ONLY!!! (not working remote)"
   ]
  },
  {
   "cell_type": "code",
   "execution_count": 1,
   "id": "f728bbb9-c9c5-46d8-9b78-00baafc41386",
   "metadata": {},
   "outputs": [],
   "source": [
    "import cv2\n",
    "import numpy as np\n",
    "import sys\n",
    "import os\n",
    "import time\n",
    "sys.path.append(\"../common\")\n",
    "from driver_access import v4l2Ctrl\n",
    "from config_parser import ConfigParser\n",
    "\n",
    "i2c = v4l2Ctrl(sensor=\"mira050\", printFunc=print)\n"
   ]
  },
  {
   "cell_type": "code",
   "execution_count": 2,
   "id": "82103a60-d8de-4307-98be-9bf970583e60",
   "metadata": {},
   "outputs": [
    {
     "name": "stdout",
     "output_type": "stream",
     "text": [
      "exposure value in hex: 0x0 0x1 0x45 0x80\n",
      "exposure val in decimal: 83328\n"
     ]
    }
   ],
   "source": [
    "exp_val = i2c.rwReg(addr=0xE000, value=0x1, rw=1, flag=0) # WRITE bank sel 1\n",
    "\n",
    "exp_val_1 = i2c.rwReg(addr=0x000E, value=0x0, rw=0, flag=0) # READ registers \n",
    "exp_val_2 = i2c.rwReg(addr=0x000F, value=0x0, rw=0, flag=0)\n",
    "exp_val_3 = i2c.rwReg(addr=0x0010, value=0x0, rw=0, flag=0)\n",
    "exp_val_4 = i2c.rwReg(addr=0x0011, value=0x0, rw=0, flag=0)\n",
    "\n",
    "print(f'exposure value in hex: {hex(exp_val_1)} {hex(exp_val_2)} {hex(exp_val_3)} {hex(exp_val_4)}')\n",
    "print(f'exposure val in decimal: {256**3 *(exp_val_1) + 256**2 * (exp_val_2) + 256* (exp_val_3) + (exp_val_4)}')"
   ]
  },
  {
   "cell_type": "code",
   "execution_count": 6,
   "id": "fcf443df-c836-4e45-a669-523a4836c3f4",
   "metadata": {},
   "outputs": [
    {
     "name": "stdout",
     "output_type": "stream",
     "text": [
      "exposure value in hex: 0x4 0xe8 \n",
      "exposure val in decimal: 1256\n"
     ]
    }
   ],
   "source": [
    "# measure temperature (uncalibrated)\n",
    "exp_val = i2c.rwReg(addr=0xE000, value=0x0, rw=1, flag=0) # WRITE bank sel 1\n",
    "exp_val = i2c.rwReg(addr=0x1FA, value=0x0, rw=1, flag=0) # WRITE bank sel 1\n",
    "exp_val = i2c.rwReg(addr=0xE007, value=0x1, rw=1, flag=0) # WRITE bank sel 1\n",
    "\n",
    "exp_val = i2c.rwReg(addr=0x000E, value=0x1, rw=1, flag=0) # WRITE bank sel 1\n",
    "exp_val = i2c.rwReg(addr=0x000E, value=0x0, rw=1, flag=0) # WRITE bank sel 1\n",
    "exp_val = i2c.rwReg(addr=0x074, value=0x1, rw=1, flag=0) # WRITE bank sel 1\n",
    "\n",
    "val_1 = i2c.rwReg(addr=0x072, value=0x1, rw=0, flag=0) # WRITE bank sel 1\n",
    "val_2 = i2c.rwReg(addr=0x073, value=0x1, rw=0, flag=0) # WRITE bank sel 1\n",
    "\n",
    "exp_val = i2c.rwReg(addr=0x074, value=0x0, rw=1, flag=0) # WRITE bank sel 1\n",
    "exp_val = i2c.rwReg(addr=0xE007, value=0x0, rw=1, flag=0) # WRITE bank sel 1\n",
    "exp_val = i2c.rwReg(addr=0x1FA, value=0x1, rw=1, flag=0) # WRITE bank sel 1\n",
    "\n",
    "\n",
    "print(f'exposure value in hex: {hex(val_1)} {hex(val_2)} ')\n",
    "print(f'exposure val in decimal: {256 * (val_1) + (val_2)}')"
   ]
  },
  {
   "cell_type": "code",
   "execution_count": 18,
   "id": "6fafd0fb-eebf-4729-93c6-60d7e1d28936",
   "metadata": {},
   "outputs": [],
   "source": [
    "#draco black level\n",
    "exp_val = i2c.rwReg(addr=0xE000, value=0x0, rw=1, flag=0) # WRITE bank sel 0\n",
    "xp_val = i2c.rwReg(addr=0x193, value=0x9, rw=1, flag=0) # WRITE bank sel 0\n",
    "epp_val = i2c.rwReg(addr=0x194, value=0x5f, rw=1, flag=0) # WRITE bank sel 1\n",
    "xp_val = i2c.rwReg(addr=0x32, value=0xB, rw=1, flag=0) # WRITE bank sel 0\n",
    "epp_val = i2c.rwReg(addr=0x33, value=0x7B, rw=1, flag=0) # WRITE bank sel 1\n",
    "# exp_val_3 = i2c.rwReg(addr=92, value=5, rw=1, flag=0) # offset clipping registers \n",
    "# exp_val_4 = i2c.rwReg(addr=93, value=96, rw=1, flag=0)"
   ]
  },
  {
   "cell_type": "code",
   "execution_count": 85,
   "id": "31c63720-c34e-4ccb-8959-a722db063236",
   "metadata": {},
   "outputs": [
    {
     "name": "stdout",
     "output_type": "stream",
     "text": [
      "offsetclip value in hex:  0x7 0x0\n",
      "offsetclip val in decimal: 1792\n",
      "offsetclip value in hex:  0x0 0x0\n",
      "offsetclip val in decimal: 0\n"
     ]
    }
   ],
   "source": [
    "exp_val = i2c.rwReg(addr=0xE000, value=0x0, rw=1, flag=0) # WRITE bank sel 0\n",
    "\n",
    "exp_val_3 = i2c.rwReg(addr=0x193, value=0x44, rw=0, flag=0) # offset clipping registers \n",
    "exp_val_4 = i2c.rwReg(addr=0x194, value=0x16, rw=0, flag=0)\n",
    "\n",
    "print(f'offsetclip value in hex:  {hex(exp_val_3)} {hex(exp_val_4)}')\n",
    "print(f'offsetclip val in decimal: { 256* (exp_val_3) + (exp_val_4)}')\n",
    "\n",
    "exp_val_3 = i2c.rwReg(addr=92, value=0, rw=0, flag=0) # offset clipping registers \n",
    "exp_val_4 = i2c.rwReg(addr=93, value=0, rw=0, flag=0)\n",
    "\n",
    "print(f'offsetclip value in hex:  {hex(exp_val_3)} {hex(exp_val_4)}')\n",
    "print(f'offsetclip val in decimal: { 256* (exp_val_3) + (exp_val_4)}')"
   ]
  },
  {
   "cell_type": "code",
   "execution_count": 131,
   "id": "25f6f9e7-2ab1-4163-90d3-298b332aac7f",
   "metadata": {},
   "outputs": [
    {
     "name": "stdout",
     "output_type": "stream",
     "text": [
      "offsetclip value in hex:  0x6 0x0\n",
      "offsetclip val in decimal: 1536\n"
     ]
    }
   ],
   "source": [
    "exp_val = i2c.rwReg(addr=0xE000, value=0x0, rw=1, flag=0) # WRITE bank sel 0\n",
    "\n",
    "exp_val_3 = i2c.rwReg(addr=0x193, value=0x6, rw=1, flag=0) # offset clipping registers \n",
    "exp_val_4 = i2c.rwReg(addr=0x194, value=0x00, rw=1, flag=0)\n",
    "\n",
    "print(f'offsetclip value in hex:  {hex(exp_val_3)} {hex(exp_val_4)}')\n",
    "print(f'offsetclip val in decimal: { 256* (exp_val_3) + (exp_val_4)}')"
   ]
  },
  {
   "cell_type": "code",
   "execution_count": 164,
   "id": "61659a47-0d89-48c4-8827-0c92eee7320a",
   "metadata": {},
   "outputs": [
    {
     "name": "stdout",
     "output_type": "stream",
     "text": [
      "vdac5 value in hex:  0x8c \n",
      "vdac5 value in hex:  0x64 \n",
      "bspcomp value in hex:  0x1 \n"
     ]
    }
   ],
   "source": [
    "exp_val = i2c.rwReg(addr=0xE000, value=0x0, rw=1, flag=0) # WRITE bank sel 0\n",
    "\n",
    "exp_val_3 = i2c.rwReg(addr=0x1C0, value=0, rw=0, flag=0) # offset clipping registers \n",
    "\n",
    "print(f'vdac5 value in hex:  {hex(exp_val_3)} ')\n",
    "\n",
    "exp_val = i2c.rwReg(addr=0x1C0, value=100, rw=1, flag=0) # WRITE bank sel 0\n",
    "print(f'vdac5 value in hex:  {hex(exp_val)} ')\n",
    "\n",
    "exp_val_3 = i2c.rwReg(addr=0x1B5, value=1, rw=1, flag=0) # offset clipping registers \n",
    "\n",
    "print(f'bspcomp value in hex:  {hex(exp_val_3)} ')"
   ]
  }
 ],
 "metadata": {
  "kernelspec": {
   "display_name": "Python 3 (ipykernel)",
   "language": "python",
   "name": "python3"
  },
  "language_info": {
   "codemirror_mode": {
    "name": "ipython",
    "version": 3
   },
   "file_extension": ".py",
   "mimetype": "text/x-python",
   "name": "python",
   "nbconvert_exporter": "python",
   "pygments_lexer": "ipython3",
   "version": "3.9.2"
  }
 },
 "nbformat": 4,
 "nbformat_minor": 5
}
