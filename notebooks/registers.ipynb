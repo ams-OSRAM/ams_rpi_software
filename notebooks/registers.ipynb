{
 "cells": [
  {
   "cell_type": "markdown",
   "id": "eff581e8-7126-4e27-8aaf-c8db085f5cc7",
   "metadata": {},
   "source": [
    "example notebook to read/write some registers from a sensor. Make sure the sensor is turned on and the correct sensor is selected below.. (open the web viewer for example)\n",
    "\n",
    "LOCAL USAGE ONLY!!! (not working remote)"
   ]
  },
  {
   "cell_type": "code",
   "execution_count": 1,
   "id": "f728bbb9-c9c5-46d8-9b78-00baafc41386",
   "metadata": {},
   "outputs": [],
   "source": [
    "import cv2\n",
    "import numpy as np\n",
    "import sys\n",
    "import os\n",
    "import time\n",
    "sys.path.append(\"../common\")\n",
    "from driver_access import v4l2Ctrl\n",
    "from config_parser import ConfigParser\n",
    "\n",
    "i2c = v4l2Ctrl(sensor=\"mira050\", printFunc=print)\n"
   ]
  },
  {
   "cell_type": "code",
   "execution_count": 4,
   "id": "82103a60-d8de-4307-98be-9bf970583e60",
   "metadata": {},
   "outputs": [
    {
     "name": "stdout",
     "output_type": "stream",
     "text": [
      "exposure value in hex: 0x0 0x0 0x75 0x30\n",
      "exposure val in decimal: 30000\n"
     ]
    }
   ],
   "source": [
    "exp_val = i2c.rwReg(addr=0xE000, value=0x1, rw=1, flag=0) # WRITE bank sel 1\n",
    "\n",
    "exp_val_1 = i2c.rwReg(addr=0x000E, value=0x0, rw=0, flag=0) # READ registers \n",
    "exp_val_2 = i2c.rwReg(addr=0x000F, value=0x0, rw=0, flag=0)\n",
    "exp_val_3 = i2c.rwReg(addr=0x0010, value=0x0, rw=0, flag=0)\n",
    "exp_val_4 = i2c.rwReg(addr=0x0011, value=0x0, rw=0, flag=0)\n",
    "\n",
    "print(f'exposure value in hex: {hex(exp_val_1)} {hex(exp_val_2)} {hex(exp_val_3)} {hex(exp_val_4)}')\n",
    "print(f'exposure val in decimal: {256**3 *(exp_val_1) + 256**2 * (exp_val_2) + 256* (exp_val_3) + (exp_val_4)}')"
   ]
  },
  {
   "cell_type": "code",
   "execution_count": null,
   "id": "0690ab85-c470-420d-ba68-1bedd1822188",
   "metadata": {},
   "outputs": [],
   "source": [
    "for i in range(0,30):\n",
    "    exp_val = i2c.rwReg(addr=0xE000, value=0x0, rw=1, flag=0) # WRITE bank sel 1\n",
    "    exp_val_2 = i2c.rwReg(addr=0x66, value=0x0, rw=1, flag=0)\n",
    "    exp_val_3 = i2c.rwReg(addr=0x0067, value=i, rw=1, flag=0)\n",
    "    exp_val_4 = i2c.rwReg(addr=0x0064, value=0x1, rw=1, flag=0)\n",
    "    exp_val_4 = i2c.rwReg(addr=0x0064, value=0x0, rw=1, flag=0)\n",
    "    busy = i2c.rwReg(addr=0x0065, value=0x5, rw=0, flag=0)\n",
    "    ret1 = i2c.rwReg(addr=0x006C, value=0x5, rw=0, flag=0)\n",
    "    ret2 = i2c.rwReg(addr=0x006D, value=0x5, rw=0, flag=0)\n",
    "    ret3 = i2c.rwReg(addr=0x006E, value=0x5, rw=0, flag=0)\n",
    "    ret4 = i2c.rwReg(addr=0x006F, value=0x5, rw=0, flag=0)\n",
    "\n",
    "    print(f'OTP {hex(i)} : {hex(ret1)} {hex(ret2)} {hex(ret3)} {hex(ret4)} {hex(busy)}')\n"
   ]
  },
  {
   "cell_type": "code",
   "execution_count": null,
   "id": "74464235-3bf9-4f13-bb8a-53374e9b9645",
   "metadata": {},
   "outputs": [],
   "source": []
  },
  {
   "cell_type": "code",
   "execution_count": 4,
   "id": "fcf443df-c836-4e45-a669-523a4836c3f4",
   "metadata": {},
   "outputs": [
    {
     "name": "stdout",
     "output_type": "stream",
     "text": [
      "exposure value in hex: 0x4 0xe6 \n",
      "exposure val in decimal: 1254\n"
     ]
    }
   ],
   "source": [
    "# measure temperature (uncalibrated)\n",
    "exp_val = i2c.rwReg(addr=0xE000, value=0x0, rw=1, flag=0) # WRITE bank sel 1\n",
    "exp_val = i2c.rwReg(addr=0x1FA, value=0x0, rw=1, flag=0) # WRITE bank sel 1\n",
    "exp_val = i2c.rwReg(addr=0xE007, value=0x1, rw=1, flag=0) # WRITE bank sel 1\n",
    "\n",
    "exp_val = i2c.rwReg(addr=0x000E, value=0x1, rw=1, flag=0) # WRITE bank sel 1\n",
    "exp_val = i2c.rwReg(addr=0x000E, value=0x0, rw=1, flag=0) # WRITE bank sel 1\n",
    "exp_val = i2c.rwReg(addr=0x074, value=0x1, rw=1, flag=0) # WRITE bank sel 1\n",
    "\n",
    "val_1 = i2c.rwReg(addr=0x072, value=0x1, rw=0, flag=0) # WRITE bank sel 1\n",
    "val_2 = i2c.rwReg(addr=0x073, value=0x1, rw=0, flag=0) # WRITE bank sel 1\n",
    "\n",
    "exp_val = i2c.rwReg(addr=0x074, value=0x0, rw=1, flag=0) # WRITE bank sel 1\n",
    "exp_val = i2c.rwReg(addr=0xE007, value=0x0, rw=1, flag=0) # WRITE bank sel 1\n",
    "exp_val = i2c.rwReg(addr=0x1FA, value=0x1, rw=1, flag=0) # WRITE bank sel 1\n",
    "\n",
    "\n",
    "print(f'exposure value in hex: {hex(val_1)} {hex(val_2)} ')\n",
    "print(f'exposure val in decimal: {256 * (val_1) + (val_2)}')"
   ]
  },
  {
   "cell_type": "code",
   "execution_count": 51,
   "id": "6fafd0fb-eebf-4729-93c6-60d7e1d28936",
   "metadata": {},
   "outputs": [],
   "source": [
    "#draco black level\n",
    "exp_val = i2c.rwReg(addr=0xE000, value=0x0, rw=1, flag=0) # WRITE bank sel 0\n",
    "xp_val = i2c.rwReg(addr=0x193, value=0x13, rw=1, flag=0) # WRITE bank sel 0\n",
    "epp_val = i2c.rwReg(addr=0x194, value=0x00, rw=1, flag=0) # WRITE bank sel 1\n",
    "# xp_val = i2c.rwReg(addr=0x32, value=0xB, rw=1, flag=0) # WRITE bank sel 0\n",
    "# epp_val = i2c.rwReg(addr=0x33, value=0x7B, rw=1, flag=0) # WRITE bank sel 1\n",
    "# exp_val_3 = i2c.rwReg(addr=92, value=5, rw=1, flag=0) # offset clipping registers \n",
    "# exp_val_4 = i2c.rwReg(addr=93, value=96, rw=1, flag=0)"
   ]
  },
  {
   "cell_type": "code",
   "execution_count": 17,
   "id": "31c63720-c34e-4ccb-8959-a722db063236",
   "metadata": {},
   "outputs": [
    {
     "name": "stdout",
     "output_type": "stream",
     "text": [
      "offsetclip value in hex:  0x6 0x9e\n",
      "offsetclip val in decimal: 1694\n"
     ]
    }
   ],
   "source": [
    "exp_val = i2c.rwReg(addr=0xE000, value=0x0, rw=1, flag=0) # WRITE bank sel 0\n",
    "\n",
    "exp_val_3 = i2c.rwReg(addr=0x193, value=0x2, rw=0, flag=0) # offset clipping registers \n",
    "exp_val_4 = i2c.rwReg(addr=0x194, value=0x0, rw=0, flag=0)\n",
    "\n",
    "print(f'offsetclip value in hex:  {hex(exp_val_3)} {hex(exp_val_4)}')\n",
    "print(f'offsetclip val in decimal: { 256* (exp_val_3) + (exp_val_4)}')\n",
    "\n",
    "# exp_val_3 = i2c.rwReg(addr=92, value=0, rw=0, flag=0) # offset clipping registers \n",
    "# exp_val_4 = i2c.rwReg(addr=93, value=0, rw=0, flag=0)\n",
    "\n",
    "# print(f'offsetclip value in hex:  {hex(exp_val_3)} {hex(exp_val_4)}')\n",
    "# print(f'offsetclip val in decimal: { 256* (exp_val_3) + (exp_val_4)}')"
   ]
  },
  {
   "cell_type": "code",
   "execution_count": 28,
   "id": "25f6f9e7-2ab1-4163-90d3-298b332aac7f",
   "metadata": {},
   "outputs": [
    {
     "name": "stdout",
     "output_type": "stream",
     "text": [
      "offsetclip value in hex:  0x5 0x35\n",
      "offsetclip val in decimal: 1333\n"
     ]
    }
   ],
   "source": [
    "exp_val = i2c.rwReg(addr=0xE000, value=0x0, rw=1, flag=0) # WRITE bank sel 0\n",
    "exp_val_3 = i2c.rwReg(addr=0x193, value=0x5, rw=1, flag=0) # offset clipping registers \n",
    "exp_val_4 = i2c.rwReg(addr=0x194, value=0x35, rw=1, flag=0)\n",
    "    \n",
    "print(f'offsetclip value in hex:  {hex(exp_val_3)} {hex(exp_val_4)}')\n",
    "print(f'offsetclip val in decimal: { 256* (exp_val_3) + (exp_val_4)}')"
   ]
  },
  {
   "cell_type": "code",
   "execution_count": 9,
   "id": "27bf0a02-e9ad-45ec-95a2-3018c10f1153",
   "metadata": {},
   "outputs": [
    {
     "ename": "SyntaxError",
     "evalue": "unexpected EOF while parsing (1484422322.py, line 10)",
     "output_type": "error",
     "traceback": [
      "\u001b[0;36m  Cell \u001b[0;32mIn[9], line 10\u001b[0;36m\u001b[0m\n\u001b[0;31m    exp_val_3 = i2c.rwReg(addr=0x1B5, value=1,\u001b[0m\n\u001b[0m                                              ^\u001b[0m\n\u001b[0;31mSyntaxError\u001b[0m\u001b[0;31m:\u001b[0m unexpected EOF while parsing\n"
     ]
    }
   ],
   "source": [
    "exp_val = i2c.rwReg(addr=0xE000, value=0x0, rw=1, flag=0) # WRITE bank sel 0\n",
    "\n",
    "exp_val_3 = i2c.rwReg(addr=0x1C0, value=0, rw=0, flag=0) # offset clipping registers \n",
    "\n",
    "print(f'vdac5 value in hex:  {hex(exp_val_3)} ')\n",
    "\n",
    "exp_val = i2c.rwReg(addr=0x1C0, value=100, rw=1, flag=0) # WRITE bank sel 0\n",
    "print(f'vdac5 value in hex:  {hex(exp_val)} ')\n",
    "\n",
    "exp_val_3 = i2c.rwReg(addr=0x1B5, value=1,"
   ]
  },
  {
   "cell_type": "code",
   "execution_count": 5,
   "id": "962a0ccd-1f3e-4205-b614-9c796e365cd6",
   "metadata": {},
   "outputs": [
    {
     "data": {
      "text/plain": [
       "0"
      ]
     },
     "execution_count": 5,
     "metadata": {},
     "output_type": "execute_result"
    },
    {
     "name": "stdout",
     "output_type": "stream",
     "text": [
      "VIDIOC_S_EXT_CTRLS: failed: Invalid argument\n"
     ]
    },
    {
     "name": "stderr",
     "output_type": "stream",
     "text": [
      "mira_reg_w: Invalid argument\n"
     ]
    },
    {
     "name": "stdout",
     "output_type": "stream",
     "text": [
      "VIDIOC_S_EXT_CTRLS: failed: Invalid argument\n"
     ]
    },
    {
     "name": "stderr",
     "output_type": "stream",
     "text": [
      "mira_reg_w: Invalid argument\n"
     ]
    }
   ],
   "source": [
    "# i2c.rwReg(addr=0x200, value=0x2, rw=1, flag=0) # WRITE bank sel 0\n",
    "# i2c.rwReg(addr=0x201, value=0x3, rw=1, flag=0) # WRITE bank sel 0\n",
    "# i2c.rwReg(addr=0x202, value=0x3, rw=1, flag=0) # WRITE bank sel 0\n",
    "# i2c.rwReg(addr=0x203, value=0x2, rw=1, flag=0) # WRITE bank sel 0\n",
    "# i2c.rwReg(addr=0x1e2, value=0x2, rw=0, flag=0) # WRITE bank sel 0\n",
    "# i2c.rwReg(addr=0x65, value=0x1, rw=0, flag=0) # WRITE bank sel 0\n",
    "# i2c.rwReg(addr=0x65, value=0x1, rw=0, flag=0) # WRITE bank sel 0\n",
    "# i2c.rwReg(addr=0x6, value=0x40, rw=0, flag=0) # WRITE bank sel 0\n",
    "# i2c.rwReg(addr=0x6, value=0x32, rw=0, flag=0) # WRITE bank sel 0\n",
    "# i2c.rwReg(addr=0x65, value=0x0, rw=0, flag=0) # WRITE bank sel 0\n",
    "i2c.rwReg(addr=0x0, value=0, rw=1, flag=0) # WRITE bank sel 0\n",
    "\n",
    "i2c.rwReg(addr=0x01fb, value=0, rw=1, flag=0) # WRITE bank sel 0\n",
    "\n",
    "\n",
    "\t# //IDAC_SET_1\n",
    "\t# { 0x0200, 0x00 },\n",
    "\t# //IDAC_SET_2\n",
    "\t# { 0x0201, 0x03 },\n",
    "\t# //IDAC_SET_3\n",
    "\t# { 0x0202, 0x03 },"
   ]
  },
  {
   "cell_type": "code",
   "execution_count": 2,
   "id": "4f810658-82b1-4299-b815-ef1b1310556c",
   "metadata": {},
   "outputs": [
    {
     "name": "stderr",
     "output_type": "stream",
     "text": [
      "mira_reg_w: Invalid argument\n"
     ]
    },
    {
     "name": "stdout",
     "output_type": "stream",
     "text": [
      "VIDIOC_S_EXT_CTRLS: failed: Invalid argument\n"
     ]
    }
   ],
   "source": [
    "#//{ 0x0201, 0x02 },\n",
    "exp_val = i2c.rwReg(addr=0xE000, value=0x0, rw=1, flag=0) # WRITE bank sel 0\n"
   ]
  },
  {
   "cell_type": "code",
   "execution_count": 93,
   "id": "aa20dd20-cc17-4a2c-9f5a-2b87ca26460e",
   "metadata": {},
   "outputs": [
    {
     "name": "stdout",
     "output_type": "stream",
     "text": [
      "1\n"
     ]
    }
   ],
   "source": [
    "exp_val = i2c.rwReg(addr=0x00, value=0x0, rw=1, flag=0) # WRITE bank sel 0\n",
    "# exp_val = i2c.rwReg(addr=0x02, value=0x0, rw=1, flag=0) # WRITE bank sel 0\n",
    "exp_val = i2c.rwReg(addr=0x038, value=0x2, rw=1, flag=0) # WRITE bank sel 0\n",
    "\n",
    "exp_val = i2c.rwReg(addr=0x05a, value=0x01, rw=1, flag=0) # WRITE bank sel 0 DPC\n",
    "exp_val = i2c.rwReg(addr=0x05b, value=0xF, rw=1, flag=0) # WRITE bank sel 0\n",
    "exp_val = i2c.rwReg(addr=0x05c, value=0x1, rw=1, flag=0) # WRITE bank sel 0\n",
    "exp_val = i2c.rwReg(addr=0x05d, value=0xF, rw=1, flag=0) # WRITE bank sel 0\n",
    "exp_val = i2c.rwReg(addr=0x05e, value=0x1, rw=1, flag=0) # WRITE bank sel 0\n",
    "print(exp_val)"
   ]
  },
  {
   "cell_type": "code",
   "execution_count": null,
   "id": "40c205fe-964c-4544-a454-687a8614b0c6",
   "metadata": {},
   "outputs": [],
   "source": []
  }
 ],
 "metadata": {
  "kernelspec": {
   "display_name": "Python 3 (ipykernel)",
   "language": "python",
   "name": "python3"
  },
  "language_info": {
   "codemirror_mode": {
    "name": "ipython",
    "version": 3
   },
   "file_extension": ".py",
   "mimetype": "text/x-python",
   "name": "python",
   "nbconvert_exporter": "python",
   "pygments_lexer": "ipython3",
   "version": "3.9.2"
  }
 },
 "nbformat": 4,
 "nbformat_minor": 5
}
