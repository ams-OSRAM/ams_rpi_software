{
 "cells": [
  {
   "cell_type": "code",
   "execution_count": 6,
   "id": "539e37d2-4949-40ba-96b9-061c1fb74d17",
   "metadata": {},
   "outputs": [],
   "source": [
    "import cv2\n",
    "import numpy as np\n",
    "from typing import Optional, Tuple\n",
    "import sys\n",
    "import os\n",
    "import pprint\n",
    "import argparse\n",
    "import time\n",
    "import logging\n",
    "import subprocess\n",
    "# from picamera2 import Picamera2, Preview\n",
    "sys.path.append(\"../common\")\n",
    "#from picam2cv2 import CameraStreamInput\n",
    "from driver_access import v4l2Ctrl\n",
    "from config_parser import ConfigParser"
   ]
  },
  {
   "cell_type": "code",
   "execution_count": 7,
   "id": "483a09af-c9d0-432d-b985-3672ebdbcdfa",
   "metadata": {},
   "outputs": [
    {
     "name": "stdout",
     "output_type": "stream",
     "text": [
      "VIDIOC_S_EXT_CTRLS: failed: Invalid argument\n",
      "VIDIOC_S_EXT_CTRLS: failed: Invalid argument\n",
      "VIDIOC_S_EXT_CTRLS: failed: Invalid argument\n"
     ]
    },
    {
     "name": "stderr",
     "output_type": "stream",
     "text": [
      "mira_reg_w: Invalid argument\n",
      "mira_reg_w: Invalid argument\n",
      "mira_reg_w: Invalid argument\n"
     ]
    },
    {
     "name": "stdout",
     "output_type": "stream",
     "text": [
      "VIDIOC_S_EXT_CTRLS: failed: Invalid argument\n"
     ]
    },
    {
     "name": "stderr",
     "output_type": "stream",
     "text": [
      "mira_reg_w: Invalid argument\n"
     ]
    }
   ],
   "source": [
    "i2c = v4l2Ctrl(sensor=\"mira016\", printFunc=print)\n",
    "#exposure\n",
    "exp_val = i2c.rwReg(addr=0xE004, value=0, rw=1, flag=0)\n",
    "exp_val = i2c.rwReg(addr=0xE000, value=1, rw=1, flag=0)\n",
    "exp_val = i2c.rwReg(addr=0x00010, value=4, rw=1, flag=0)\n",
    "exp_val = i2c.rwReg(addr=0x00011, value=4, rw=1, flag=0)\n"
   ]
  },
  {
   "cell_type": "markdown",
   "id": "3ab2062d-2679-4e4a-af14-4116d1fa616e",
   "metadata": {},
   "source": [
    "##### radu line\n",
    "exp_val = i2c.rwReg(addr=0xE004, value=0, rw=1, flag=0)\n",
    "exp_val = i2c.rwReg(addr=0xE000, value=0, rw=1, flag=0)\n",
    "exp_val = i2c.rwReg(addr=0x00E8, value=5, rw=0, flag=0) #3\n",
    "print(exp_val)\n",
    "exp_val = i2c.rwReg(addr=0x00E8, value=5, rw=1, flag=0)\n"
   ]
  },
  {
   "cell_type": "code",
   "execution_count": 50,
   "id": "e2dae912-b1ae-43c3-84e9-3f82834f6962",
   "metadata": {},
   "outputs": [],
   "source": [
    "#radu\n",
    "exp_val = i2c.rwReg(addr=0xE004, value=0, rw=1, flag=0)\n",
    "exp_val = i2c.rwReg(addr=0xE000, value=0, rw=1, flag=0)\n",
    "exp_val = i2c.rwReg(addr=0x00E8, value=3, rw=1, flag=0)\n"
   ]
  },
  {
   "cell_type": "code",
   "execution_count": null,
   "id": "e8a8bc9b-f664-4270-8965-b54b70981840",
   "metadata": {},
   "outputs": [],
   "source": []
  }
 ],
 "metadata": {
  "kernelspec": {
   "display_name": "Python 3 (ipykernel)",
   "language": "python",
   "name": "python3"
  },
  "language_info": {
   "codemirror_mode": {
    "name": "ipython",
    "version": 3
   },
   "file_extension": ".py",
   "mimetype": "text/x-python",
   "name": "python",
   "nbconvert_exporter": "python",
   "pygments_lexer": "ipython3",
   "version": "3.9.2"
  }
 },
 "nbformat": 4,
 "nbformat_minor": 5
}
