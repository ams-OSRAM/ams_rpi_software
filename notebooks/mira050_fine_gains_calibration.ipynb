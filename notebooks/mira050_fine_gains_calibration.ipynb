{
 "cells": [
  {
   "cell_type": "markdown",
   "id": "d37644d3-542e-4f51-b490-fa6edebc6980",
   "metadata": {},
   "source": [
    "## FINE GAIN CALIBRATION NOTEBOOK. not meant for customer evaluation"
   ]
  },
  {
   "cell_type": "code",
   "execution_count": 1,
   "id": "cc8bdeb6-27d9-49f7-a895-639ac1bf8ec1",
   "metadata": {},
   "outputs": [],
   "source": [
    "#some imports\n",
    "import time\n",
    "from PIL import Image\n",
    "import numpy as np\n",
    "import pandas as pd\n",
    "import pathlib\n",
    "from picamera2 import Picamera2, Preview\n",
    "import pprint\n",
    "from ipywidgets import interact, interactive\n",
    "from IPython.display import display\n",
    "import matplotlib.pyplot as plt\n",
    "import sys\n",
    "sys.path.append(\"../common\")\n",
    "from driver_access import v4l2Ctrl\n",
    "from config_parser import ConfigParser\n",
    "from typing import NamedTuple\n",
    "i2c = v4l2Ctrl(sensor=\"mira050\", printFunc=print)"
   ]
  },
  {
   "cell_type": "code",
   "execution_count": 2,
   "id": "8aef542d-e1a6-41fc-bc87-74802d98a66e",
   "metadata": {},
   "outputs": [],
   "source": [
    "amount = 30 #numbers of pictures to capture per setting\n",
    "gains = [16]\n",
    "# gains = np.arange(1,16,0.5)\n",
    "exposures_us = [400] #np.arange(1000, 10000, 500, dtype=int) #start, stop, step - this must be an array type. can also be, [100,200,300,400] etc..\n",
    "min_exposure = 200\n",
    "bit_mode = 8\n",
    "\n",
    "#select mode a few cells below.\n",
    "TIFF = True\n",
    "UPLOAD_FOLDER = pathlib.Path(\"./images\")\n",
    "UPLOAD_FOLDER.mkdir(parents=False, exist_ok=True)\n",
    "\n",
    "temp_save_dir = UPLOAD_FOLDER\n",
    "final_save_dir = UPLOAD_FOLDER"
   ]
  },
  {
   "cell_type": "code",
   "execution_count": 3,
   "id": "9be7ace9-0ceb-41b7-83d6-4b7ae99090e4",
   "metadata": {},
   "outputs": [
    {
     "name": "stderr",
     "output_type": "stream",
     "text": [
      "[21:17:06.748086021] [20634] \u001b[1;32m INFO \u001b[1;37mCamera \u001b[1;34mcamera_manager.cpp:299 \u001b[0mlibcamera v0.0.4+22-923f5d70-dirty (2024-04-03T16:36:17+02:00)\n",
      "[21:17:06.762980377] [20652] \u001b[1;33m WARN \u001b[1;37mRPI \u001b[1;34mraspberrypi.cpp:1357 \u001b[0mMismatch between Unicam and CamHelper for embedded data usage!\n",
      "[21:17:06.764046237] [20652] \u001b[1;32m INFO \u001b[1;37mRPI \u001b[1;34mraspberrypi.cpp:1476 \u001b[0mRegistered camera /base/soc/i2c0mux/i2c@1/mira050@36 to Unicam device /dev/media4 and ISP device /dev/media2\n",
      "[21:17:06.769673442] [20634] \u001b[1;32m INFO \u001b[1;37mCamera \u001b[1;34mcamera_manager.cpp:299 \u001b[0mlibcamera v0.0.4+22-923f5d70-dirty (2024-04-03T16:36:17+02:00)\n",
      "[21:17:06.781940842] [20655] \u001b[1;33m WARN \u001b[1;37mRPI \u001b[1;34mraspberrypi.cpp:1357 \u001b[0mMismatch between Unicam and CamHelper for embedded data usage!\n",
      "[21:17:06.782921110] [20655] \u001b[1;32m INFO \u001b[1;37mRPI \u001b[1;34mraspberrypi.cpp:1476 \u001b[0mRegistered camera /base/soc/i2c0mux/i2c@1/mira050@36 to Unicam device /dev/media4 and ISP device /dev/media2\n",
      "[21:17:06.789173402] [20634] \u001b[1;32m INFO \u001b[1;37mCamera \u001b[1;34mcamera.cpp:1028 \u001b[0mconfiguring streams: (0) 640x480-XBGR8888 (1) 576x768-SGRBG10_CSI2P\n",
      "[21:17:06.789543768] [20655] \u001b[1;32m INFO \u001b[1;37mRPI \u001b[1;34mraspberrypi.cpp:851 \u001b[0mSensor: /base/soc/i2c0mux/i2c@1/mira050@36 - Selected sensor format: 576x768-SGRBG10_1X10 - Selected unicam format: 576x768-pgAA\n",
      "[21:17:06.809919294] [20634] \u001b[1;32m INFO \u001b[1;37mCamera \u001b[1;34mcamera.cpp:1028 \u001b[0mconfiguring streams: (0) 640x480-XBGR8888 (1) 576x768-SGRBG12_CSI2P\n",
      "[21:17:06.810341734] [20655] \u001b[1;32m INFO \u001b[1;37mRPI \u001b[1;34mraspberrypi.cpp:851 \u001b[0mSensor: /base/soc/i2c0mux/i2c@1/mira050@36 - Selected sensor format: 576x768-SGRBG12_1X12 - Selected unicam format: 576x768-pgCC\n",
      "[21:17:06.823344905] [20634] \u001b[1;32m INFO \u001b[1;37mCamera \u001b[1;34mcamera.cpp:1028 \u001b[0mconfiguring streams: (0) 640x480-XBGR8888 (1) 576x768-SGRBG8\n",
      "[21:17:06.823740308] [20655] \u001b[1;32m INFO \u001b[1;37mRPI \u001b[1;34mraspberrypi.cpp:851 \u001b[0mSensor: /base/soc/i2c0mux/i2c@1/mira050@36 - Selected sensor format: 576x768-SGRBG8_1X8 - Selected unicam format: 576x768-GRBG\n"
     ]
    },
    {
     "name": "stdout",
     "output_type": "stream",
     "text": [
      "[{'Id': '/base/soc/i2c0mux/i2c@1/mira050@36',\n",
      "  'Location': 2,\n",
      "  'Model': 'mira050',\n",
      "  'Rotation': 0}]\n",
      "[{'bit_depth': 10,\n",
      "  'crop_limits': (0, 0, 576, 768),\n",
      "  'exposure_limits': (58, 1000764, None),\n",
      "  'format': SGRBG10_CSI2P,\n",
      "  'fps': 120.08,\n",
      "  'size': (576, 768),\n",
      "  'unpacked': 'SGRBG10'},\n",
      " {'bit_depth': 12,\n",
      "  'crop_limits': (0, 0, 576, 768),\n",
      "  'exposure_limits': (58, 1000764, None),\n",
      "  'format': SGRBG12_CSI2P,\n",
      "  'fps': 60.0,\n",
      "  'size': (576, 768),\n",
      "  'unpacked': 'SGRBG12'},\n",
      " {'bit_depth': 8,\n",
      "  'crop_limits': (0, 0, 576, 768),\n",
      "  'exposure_limits': (58, 1000764, None),\n",
      "  'format': SGRBG8,\n",
      "  'fps': 120.08,\n",
      "  'size': (576, 768),\n",
      "  'unpacked': 'SGRBG8'}]\n"
     ]
    }
   ],
   "source": [
    "#view camera model\n",
    "pprint.pprint(Picamera2.global_camera_info())  #before init ;\n",
    "#print all sensor modes\n",
    "with Picamera2() as picam2:\n",
    "    modes = picam2.sensor_modes\n",
    "    pprint.pprint(picam2.sensor_modes)"
   ]
  },
  {
   "cell_type": "code",
   "execution_count": 4,
   "id": "5846d58a-32eb-4b06-938e-6bd8d9d2808e",
   "metadata": {},
   "outputs": [],
   "source": [
    "for mode in modes:\n",
    "    if mode['bit_depth']==bit_mode:\n",
    "        break\n",
    "selected_mode=mode"
   ]
  },
  {
   "cell_type": "code",
   "execution_count": 5,
   "id": "9721ffb2-11f8-4466-b0c1-2e163fa1c89d",
   "metadata": {},
   "outputs": [],
   "source": [
    "def write_offset_clip(offset_clip=1540):\n",
    "    exp_val = i2c.rwReg(addr=0xE000, value=0, rw=1, flag=0) # WRITE bank sel 1\n",
    "    msb = i2c.rwReg(addr=0x0193, value= offset_clip >> 8 & 255, rw=1, flag=0) # READ registers \n",
    "    lsb = i2c.rwReg(addr=0x0194, value=offset_clip & 255, rw=1, flag=0)\n",
    "\n",
    "\n",
    "    \n",
    "    print(f'offsetclip value in hex: {hex(msb)} {hex(lsb)} ')\n",
    "    print(f'offsetclip val in decimal: { 256* (msb) + (lsb)}')\n",
    "    pass\n"
   ]
  },
  {
   "cell_type": "code",
   "execution_count": 6,
   "id": "c7ca3e25-85b1-4bab-a5ac-af70be3fbc10",
   "metadata": {},
   "outputs": [
    {
     "name": "stdout",
     "output_type": "stream",
     "text": [
      "you have chosen mode {'format': SGRBG8, 'unpacked': 'SGRBG8', 'bit_depth': 8, 'size': (576, 768), 'fps': 120.08, 'crop_limits': (0, 0, 576, 768), 'exposure_limits': (58, 1000764, None)}\n"
     ]
    },
    {
     "name": "stderr",
     "output_type": "stream",
     "text": [
      "[21:17:07.153592527] [20634] \u001b[1;32m INFO \u001b[1;37mCamera \u001b[1;34mcamera_manager.cpp:299 \u001b[0mlibcamera v0.0.4+22-923f5d70-dirty (2024-04-03T16:36:17+02:00)\n",
      "[21:17:07.165699188] [20659] \u001b[1;33m WARN \u001b[1;37mRPI \u001b[1;34mraspberrypi.cpp:1357 \u001b[0mMismatch between Unicam and CamHelper for embedded data usage!\n",
      "[21:17:07.166689660] [20659] \u001b[1;32m INFO \u001b[1;37mRPI \u001b[1;34mraspberrypi.cpp:1476 \u001b[0mRegistered camera /base/soc/i2c0mux/i2c@1/mira050@36 to Unicam device /dev/media4 and ISP device /dev/media2\n",
      "[21:17:07.178599767] [20634] \u001b[1;32m INFO \u001b[1;37mCamera \u001b[1;34mcamera.cpp:1028 \u001b[0mconfiguring streams: (0) 576x768-XBGR8888 (1) 576x768-SGRBG8\n",
      "[21:17:07.179017355] [20659] \u001b[1;32m INFO \u001b[1;37mRPI \u001b[1;34mraspberrypi.cpp:851 \u001b[0mSensor: /base/soc/i2c0mux/i2c@1/mira050@36 - Selected sensor format: 576x768-SGRBG8_1X8 - Selected unicam format: 576x768-GRBG\n"
     ]
    },
    {
     "name": "stdout",
     "output_type": "stream",
     "text": [
      "offsetclip value in hex: 0x6 0x4 \n",
      "offsetclip val in decimal: 1540\n"
     ]
    }
   ],
   "source": [
    "#DARK CONDITIONS\n",
    "bit_mode = selected_mode[\"bit_depth\"]\n",
    "im_data = pd.DataFrame()\n",
    "print(f'you have chosen mode {selected_mode}')\n",
    "\n",
    "with Picamera2() as picam2:\n",
    "    preview_config = picam2.create_preview_configuration(main={\"size\": selected_mode[\"size\"]},\n",
    "        raw={\"format\": selected_mode[\"unpacked\"],\n",
    "            \"size\": selected_mode[\"size\"],\n",
    "        })\n",
    "    picam2.configure(preview_config)\n",
    "\n",
    "    picam2.start()\n",
    "\n",
    "    for analog_gain in gains:\n",
    "        for exposure in [min_exposure]:\n",
    "        \n",
    "            picam2.set_controls({\"ExposureTime\": exposure , \"AnalogueGain\": analog_gain})\n",
    "            \n",
    "            time.sleep(2)\n",
    "            \n",
    "            write_offset_clip(offset_clip=1540)\n",
    "            \n",
    "            #raw = picam2.capture_buffer()\n",
    "            #np.from_buffer\n",
    "            \n",
    "            size = selected_mode[\"size\"]\n",
    "        \n",
    "            width = size[0]\n",
    "            height = size[1]\n",
    "            im_stack = []\n",
    "            request = picam2.capture_request()\n",
    "\n",
    "            for i in range(amount):\n",
    "                if bit_mode == 8:\n",
    "                    image = picam2.capture_array(\"raw\").view(np.uint8)\n",
    "                else:\n",
    "                    image = picam2.capture_array(\"raw\").view(np.uint16)\n",
    "                im_stack.append(image[0:height, 0:width])\n",
    "                if TIFF:\n",
    "                    # save images    \n",
    "                    pilim = Image.fromarray(image)\n",
    "                    filename = str(f\"{UPLOAD_FOLDER}/img_exposure{exposure}_gain{analog_gain}_DARK_{i}.tiff\")\n",
    "                    pilim.save(filename)\n",
    "            request.release()  \n",
    "            # get & save images\n",
    "            name = f'bm={bit_mode}_ag={analog_gain}_fc={amount}_exp={round(exposure, 1)}_dark.npz'\n",
    "            temp_im_dir = UPLOAD_FOLDER\n",
    "            temp_im_path = pathlib.Path(temp_im_dir / name)\n",
    "            np.savez(str(temp_im_path), im_stack)\n",
    "            mean_val = np.mean(im_stack)\n",
    "            # add to image data\n",
    "            temp = {'Analog Gain': [analog_gain],\n",
    "                    'Bit Mode': [bit_mode],\n",
    "                    'Exposure [ms]': [exposure],\n",
    "                    'Frame Count': [amount],\n",
    "                    'Illumination': [False],\n",
    "                    'mean [DN]': [mean_val],\n",
    "                    'Image Path_npz': [str(pathlib.Path(temp_im_dir / name))]}\n",
    "            \n",
    "            temp = pd.DataFrame.from_dict(temp)\n",
    "\n",
    "            # concat raw to im_data\n",
    "            im_data = pd.concat([im_data, temp], ignore_index=True).reset_index(drop=True)\n",
    "            \n",
    "    "
   ]
  },
  {
   "cell_type": "code",
   "execution_count": 7,
   "id": "4d801a5a-933f-4b5b-a21c-16074e5b78d3",
   "metadata": {},
   "outputs": [
    {
     "name": "stdout",
     "output_type": "stream",
     "text": [
      "47 will we written to otp\n"
     ]
    }
   ],
   "source": [
    "a=im_data.loc[im_data[\"Analog Gain\"] == 16]['mean [DN]'].values[0]\n",
    "a=int(a)\n",
    "print(f'{a} will we written to otp')"
   ]
  },
  {
   "cell_type": "code",
   "execution_count": 8,
   "id": "0d8e02d0-96f1-433a-93bb-92df47c8a088",
   "metadata": {},
   "outputs": [
    {
     "data": {
      "text/plain": [
       "<Axes: xlabel='Analog Gain', ylabel='mean [DN]'>"
      ]
     },
     "execution_count": 8,
     "metadata": {},
     "output_type": "execute_result"
    },
    {
     "data": {
      "image/png": "[encoded data removed]",
      "text/plain": [
       "<Figure size 640x480 with 1 Axes>"
      ]
     },
     "metadata": {},
     "output_type": "display_data"
    }
   ],
   "source": [
    "im_data.plot(kind = 'scatter', x = 'Analog Gain', y = 'mean [DN]')"
   ]
  },
  {
   "cell_type": "markdown",
   "id": "4a391de6-ff63-4074-a43c-2539c75ce75d",
   "metadata": {},
   "source": [
    "program the otp"
   ]
  },
  {
   "cell_type": "markdown",
   "id": "39a5fab3-8143-41dc-a310-89cd5f5a9428",
   "metadata": {},
   "source": [
    "    def write_otp(self, address: int, value: int) -> None:\n",
    "        seq = NameBasedProgrammingSequence()\n",
    "        seq.add_instruction('OTP_COMMAND_MASTER', 2)\n",
    "        seq.add_instruction('OTP_ADDR_MASTER', address)\n",
    "        seq.add_instruction('OTP_DIN_MASTER', value)\n",
    "        seq.add_instruction('OTP_START_MASTER', 1)\n",
    "        seq.add_instruction('OTP_START_MASTER', 0)\n",
    "        self.upload_programming_sequence(seq)\n",
    "\n",
    "    def read_otp(self, address: int) -> int:\n",
    "        seq = NameBasedProgrammingSequence()\n",
    "        seq.add_instruction('OTP_COMMAND_MASTER', 0)\n",
    "        seq.add_instruction('OTP_ADDR_MASTER', address)\n",
    "        seq.add_instruction('OTP_START_MASTER', 1)\n",
    "        seq.add_instruction('OTP_START_MASTER', 0)\n",
    "        self.upload_programming_sequence(seq)\n",
    "        otp_busy = 1\n",
    "        while otp_busy:\n",
    "            otp_busy = self.read_register('OTP_BUSY_MASTER')\n",
    "        return self.read_register('OTP_DOUT_MASTER')"
   ]
  },
  {
   "cell_type": "code",
   "execution_count": null,
   "id": "819541ae-1c64-452a-8216-887ad2db0bf5",
   "metadata": {},
   "outputs": [],
   "source": []
  },
  {
   "cell_type": "code",
   "execution_count": 9,
   "id": "0b815b5e-3986-46d0-8a16-a60d52e79fd3",
   "metadata": {},
   "outputs": [
    {
     "name": "stderr",
     "output_type": "stream",
     "text": [
      "[21:17:13.475714263] [20634] \u001b[1;32m INFO \u001b[1;37mCamera \u001b[1;34mcamera.cpp:1028 \u001b[0mconfiguring streams: (0) 640x480-XBGR8888\n",
      "[21:17:13.476240313] [20659] \u001b[1;32m INFO \u001b[1;37mRPI \u001b[1;34mraspberrypi.cpp:851 \u001b[0mSensor: /base/soc/i2c0mux/i2c@1/mira050@36 - Selected sensor format: 576x768-SGRBG12_1X12 - Selected unicam format: 576x768-pgCC\n"
     ]
    },
    {
     "name": "stdout",
     "output_type": "stream",
     "text": [
      "1\n",
      "OTP data reg 17: 0b111001010011010011100001010000\n",
      "1\n",
      "OTP data reg 18: 0b110001001011010011011100110011\n",
      "1\n",
      "OTP data reg 19: 0b11001101100100011000110010\n",
      "1\n",
      "OTP data reg 20: 0b11111111111111111111111111111111\n",
      "P8M937-12F6\n",
      "1\n",
      "OTP data reg 1: 0b11111111111111110000100011010110\n",
      "id bytes: b'\\xd6\\x08\\x00\\x00'\n",
      "2262\n",
      "1\n",
      "OTP data reg 4: 0b11111111111111111111111111111111\n",
      "id bytes: b'\\xff\\xff\\x00\\x00'\n",
      "65535\n",
      "1\n",
      "OTP data reg 4: 0b11111111111111111111111111111111\n",
      "data in otp is 4294967295\n",
      "1\n",
      "PROGRAMMING SUCCESSFULL\n",
      "0\n",
      "1\n",
      "OTP data reg 4: 0b101111\n",
      "id bytes: b'/\\x00\\x00\\x00'\n",
      "47\n"
     ]
    }
   ],
   "source": [
    "class AddressField(NamedTuple):\n",
    "    addr: int\n",
    "    mask: int\n",
    "    shift: int\n",
    "\n",
    "    def get_value(self, value):\n",
    "        \"\"\"Take in a byte that was read from the OTP and mask + shift it.\"\"\"\n",
    "        return (value & self.mask) << self.shift\n",
    "\n",
    "class Mira050():\n",
    "    def __init__(self):\n",
    "        pass\n",
    "    def write(self,addr,val):\n",
    "        ret = i2c.rwReg(addr=addr, value=val, rw=1, flag=0) # WRITE bank sel 1\n",
    "        return ret\n",
    "    def read(self,addr):\n",
    "        ret = i2c.rwReg(addr=addr, value=0, rw=0, flag=0) # WRITE bank sel 1\n",
    "        return ret        \n",
    "    def _set_data_to_otp(self, reg,value) -> int:\n",
    "        \n",
    "        \"\"\"\n",
    "        placeholder for otp readout\n",
    "        https://forge.ams.com/svn/repos/mira_xs_doc/trunk/engineering/Test%20Specification/51193_OTP_Register_Map.xlsx\n",
    "        \n",
    "        \"\"\"\n",
    "        #check if empty\n",
    "        self.BYTES_PER_ADDR=4\n",
    "        addr_field =  AddressField(reg, 0xFFFFFFFF, 0)\n",
    "        ret=self._get_data_from_otp(addr_field)\n",
    "        print(f'data in otp is {ret}')\n",
    "        if ret!=0xFFFFFFFF:\n",
    "            print(f'data in otp is present. abort.')\n",
    "            raise ValueError('otp is already set')\n",
    "        \n",
    "        self.write(0xe000,0)\n",
    "        self.write(0x0066,0x2)\n",
    "        self.write(0x0067,reg)        \n",
    "        split_value = lambda x, y: x >> (8*y) & 255\n",
    "        self.write(0x0068, split_value(value, 3))\n",
    "        self.write(0x0069, split_value(value, 2))\n",
    "        self.write(0x006A, split_value(value, 1))\n",
    "        self.write(0x006B, split_value(value, 0))\n",
    "\n",
    "        self.write(0x0064,0x1)\n",
    "        time.sleep(0.1)\n",
    "        self.write(0x0064,0x0)\n",
    "        time.sleep(0.1)\n",
    "        poll_cnt = 0\n",
    "        busy_status = 1 \n",
    "        while poll_cnt < 10 and busy_status==1:\n",
    "            poll_cnt +=1\n",
    "            print(poll_cnt)\n",
    "            time.sleep(0.01)\n",
    "            busy_status=self.read(0x0065)\n",
    "        if busy_status==1:\n",
    "            raise ValueError('cant set otp data')\n",
    "        else:\n",
    "            print('PROGRAMMING SUCCESSFULL')\n",
    "        return busy_status\n",
    "        \n",
    "\n",
    "    \n",
    "    def _get_data_from_otp(self, addr_field: AddressField) -> int:\n",
    "        \n",
    "        \"\"\"\n",
    "        placeholder for otp readout\n",
    "        https://forge.ams.com/svn/repos/mira_xs_doc/trunk/engineering/Test%20Specification/51193_OTP_Register_Map.xlsx\n",
    "        \n",
    "        \"\"\"\n",
    "        reg = addr_field.addr\n",
    "    \n",
    "        self.write(0xe000,0)\n",
    "        self.write(0x0066,0x0)\n",
    "        self.write(0x0067,reg)\n",
    "        \n",
    "        self.write(0x0064,0x1)\n",
    "        time.sleep(0.1)\n",
    "        self.write(0x0064,0x0)\n",
    "        time.sleep(0.1)\n",
    "        poll_cnt = 0\n",
    "        busy_status = 1 \n",
    "        while poll_cnt < 10 and busy_status==1:\n",
    "            poll_cnt +=1\n",
    "            print(poll_cnt)\n",
    "            time.sleep(0.01)\n",
    "            busy_status=self.read(0x0065)\n",
    "        if busy_status==1:\n",
    "            raise ValueError('cant get otp data')\n",
    "        \n",
    "        self.write(0xe000,0)\n",
    "\n",
    "        b3=self.read(0x006C)\n",
    "        b2=self.read(0x006D)\n",
    "        b1=self.read(0x006E)\n",
    "        b0=self.read(0x006F)\n",
    "        val=(b3<<24)+(b2<<16)+(b1<<8)+b0\n",
    "    \n",
    "        print(f'OTP data reg {reg}: {bin(val)}')\n",
    "    \n",
    "        return addr_field.get_value(val)\n",
    "        \n",
    "    def get_wafer_id(self) -> str:\n",
    "        \"\"\"Get the die's wafer ID (i.e. find out to which wafer this sample\n",
    "        belonged). The ID is returned as a string.\"\"\"\n",
    "        addr_fields = (\n",
    "            AddressField(0x11, 0xFFFFFFFF, 0),\n",
    "            AddressField(0x12, 0xFFFFFFFF, 0),\n",
    "            AddressField(0x13, 0xFFFFFFFF, 0),\n",
    "            AddressField(0x14, 0xFFFFFFFF, 0),\n",
    "        )\n",
    "        self.BYTES_PER_ADDR=4\n",
    "        bytes_arr = b''\n",
    "        for addr_field in addr_fields:\n",
    "            otp_data = self._get_data_from_otp(addr_field)\n",
    "            bytes_arr += otp_data.to_bytes(\n",
    "                self.BYTES_PER_ADDR,\n",
    "                byteorder='little'\n",
    "            )\n",
    "        # Character \"ETX\" (0x03) indicates the end of the wafer ID string\n",
    "        wafer_id_bytes = bytes_arr.split(b'\\x03')[0]\n",
    "        return wafer_id_bytes.decode('utf-8')\n",
    "    \n",
    "    \n",
    "    def get_black_level_wafer(self) -> int:\n",
    "        \"\"\"OTP BLACK LEVEL.\"\"\"\n",
    "        # result = self._get_data_from_otp(AddressField(0x19, 0x0000FFFF, 0))\n",
    "        self.BYTES_PER_ADDR=4\n",
    "        addr_fields = (\n",
    "            AddressField(0x01, 0x00000FFFF, 0),\n",
    "        )\n",
    "        bytes_arr = b''\n",
    "        for addr_field in addr_fields:\n",
    "            otp_data = self._get_data_from_otp(addr_field)\n",
    "            bytes_arr += otp_data.to_bytes(\n",
    "                self.BYTES_PER_ADDR,\n",
    "                byteorder='little'\n",
    "            )\n",
    "    \n",
    "        # Character \"ETX\" (0x03) indicates the end of the wafer ID string\n",
    "        wafer_id_bytes = bytes_arr.split(b'\\x03')[0]\n",
    "        print(f'id bytes: {(wafer_id_bytes)}')\n",
    "       \n",
    "        return  int.from_bytes(wafer_id_bytes, byteorder='little', signed=False)\n",
    "        \n",
    "    def get_black_level_wafer_fine(self) -> int:\n",
    "        \"\"\"OTP BLACK LEVEL.\"\"\"\n",
    "        # result = self._get_data_from_otp(AddressField(0x19, 0x0000FFFF, 0))\n",
    "        self.BYTES_PER_ADDR=4\n",
    "        addr_fields = (\n",
    "            AddressField(0x04, 0x00000FFFF, 0),\n",
    "        )\n",
    "        bytes_arr = b''\n",
    "        for addr_field in addr_fields:\n",
    "            otp_data = self._get_data_from_otp(addr_field)\n",
    "            bytes_arr += otp_data.to_bytes(\n",
    "                self.BYTES_PER_ADDR,\n",
    "                byteorder='little'\n",
    "            )\n",
    "    \n",
    "        # Character \"ETX\" (0x03) indicates the end of the wafer ID string\n",
    "        wafer_id_bytes = bytes_arr.split(b'\\x03')[0]\n",
    "        print(f'id bytes: {(wafer_id_bytes)}')\n",
    "       \n",
    "        return  int.from_bytes(wafer_id_bytes, byteorder='little', signed=False)\n",
    "\n",
    "#get_black_level_calibration_value_from_otp()\n",
    "with Picamera2() as picam2:\n",
    "    picam2.start()\n",
    "    mira = Mira050()\n",
    "    time.sleep(1)\n",
    "    print(mira.get_wafer_id())\n",
    "    print(mira.get_black_level_wafer())\n",
    "    print(mira.get_black_level_wafer_fine())\n",
    "    print(mira._set_data_to_otp(4,a))\n",
    "    print(mira.get_black_level_wafer_fine())\n"
   ]
  },
  {
   "cell_type": "code",
   "execution_count": null,
   "id": "6eec2597-4d7c-4286-9a2a-2b6a4b7740e2",
   "metadata": {},
   "outputs": [],
   "source": []
  },
  {
   "cell_type": "code",
   "execution_count": null,
   "id": "fa1f3a28-60e7-4cb4-b579-141fb61caec1",
   "metadata": {},
   "outputs": [],
   "source": []
  },
  {
   "cell_type": "code",
   "execution_count": 10,
   "id": "6210e3f1-0972-4a51-b77a-09ba02f04a1c",
   "metadata": {},
   "outputs": [
    {
     "data": {
      "text/plain": [
       "47.46171121479553"
      ]
     },
     "execution_count": 10,
     "metadata": {},
     "output_type": "execute_result"
    }
   ],
   "source": [
    "\n",
    "im_data.loc[im_data[\"Analog Gain\"] == 16]['mean [DN]'].values[0]\n"
   ]
  }
 ],
 "metadata": {
  "kernelspec": {
   "display_name": "Python 3 (ipykernel)",
   "language": "python",
   "name": "python3"
  },
  "language_info": {
   "codemirror_mode": {
    "name": "ipython",
    "version": 3
   },
   "file_extension": ".py",
   "mimetype": "text/x-python",
   "name": "python",
   "nbconvert_exporter": "python",
   "pygments_lexer": "ipython3",
   "version": "3.9.2"
  }
 },
 "nbformat": 4,
 "nbformat_minor": 5
}
