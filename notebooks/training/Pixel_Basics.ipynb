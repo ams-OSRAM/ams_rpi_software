{
 "cells": [
  {
   "cell_type": "markdown",
   "id": "b64c1d8c",
   "metadata": {},
   "source": [
    "# <center> Pixel Basics\n",
    "# <center> 3/7/2022\n",
    "# <center> Prepared by Denver Lloyd"
   ]
  },
  {
   "cell_type": "markdown",
   "id": "1660bea4",
   "metadata": {},
   "source": [
    "## Introduction"
   ]
  },
  {
   "cell_type": "markdown",
   "id": "092b478c",
   "metadata": {},
   "source": [
    "- The purpose of this notebook is to provide a basic introduction to pixel operation and quickly point out common noise sources."
   ]
  },
  {
   "cell_type": "markdown",
   "id": "eae182e1",
   "metadata": {},
   "source": [
    "## Physical Sensor Model"
   ]
  },
  {
   "cell_type": "markdown",
   "id": "7dc8f740",
   "metadata": {},
   "source": []
  },
  {
   "cell_type": "markdown",
   "id": "a50d238e",
   "metadata": {},
   "source": [
    "## Basic 4T VGS Pixel"
   ]
  },
  {
   "cell_type": "code",
   "execution_count": null,
   "id": "ee756612",
   "metadata": {},
   "outputs": [],
   "source": []
  },
  {
   "cell_type": "markdown",
   "id": "b4016fce",
   "metadata": {},
   "source": [
    "## Spatial Noise"
   ]
  },
  {
   "cell_type": "code",
   "execution_count": null,
   "id": "bf62d3cc",
   "metadata": {},
   "outputs": [],
   "source": []
  },
  {
   "cell_type": "markdown",
   "id": "2a7fbd71",
   "metadata": {},
   "source": [
    "## Temporal Noise"
   ]
  },
  {
   "cell_type": "code",
   "execution_count": null,
   "id": "bd2b3014",
   "metadata": {},
   "outputs": [],
   "source": []
  }
 ],
 "metadata": {
  "kernelspec": {
   "display_name": "Python 3 (ipykernel)",
   "language": "python",
   "name": "python3"
  },
  "language_info": {
   "codemirror_mode": {
    "name": "ipython",
    "version": 3
   },
   "file_extension": ".py",
   "mimetype": "text/x-python",
   "name": "python",
   "nbconvert_exporter": "python",
   "pygments_lexer": "ipython3",
   "version": "3.8.12"
  },
  "toc": {
   "base_numbering": 1,
   "nav_menu": {},
   "number_sections": true,
   "sideBar": true,
   "skip_h1_title": true,
   "title_cell": "Table of Contents",
   "title_sidebar": "Contents",
   "toc_cell": false,
   "toc_position": {},
   "toc_section_display": true,
   "toc_window_display": true
  }
 },
 "nbformat": 4,
 "nbformat_minor": 5
}
