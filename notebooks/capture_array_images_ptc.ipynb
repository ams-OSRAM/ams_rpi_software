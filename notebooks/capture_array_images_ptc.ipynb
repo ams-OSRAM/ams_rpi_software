{
 "cells": [
  {
   "cell_type": "markdown",
   "id": "17aafd0c-e495-436d-8a97-71242fc122fa",
   "metadata": {},
   "source": [
    "# script to capture images in a loop. "
   ]
  },
  {
   "cell_type": "markdown",
   "id": "5574f565-6cfa-4046-9e32-6bfce1b4b4ec",
   "metadata": {},
   "source": [
    "## make sure, in the web interface, you close the camera. Run the cells one by one."
   ]
  },
  {
   "cell_type": "code",
   "execution_count": 1,
   "id": "7881a049-cb66-4232-8266-085169962079",
   "metadata": {},
   "outputs": [],
   "source": [
    "#some imports\n",
    "import time\n",
    "from PIL import Image\n",
    "import numpy as np\n",
    "import pandas as pd\n",
    "import pathlib\n",
    "from picamera2 import Picamera2, Preview\n",
    "import pprint\n",
    "from ipywidgets import interact, interactive\n",
    "from IPython.display import display\n",
    "import matplotlib.pyplot as plt\n",
    "from characterization_ams.stats_engine import stats\n",
    "from characterization_ams.emva import emva\n",
    "from characterization_ams.standard_tests import ptc\n",
    "# from char_crunch.processing.process import Process\n"
   ]
  },
  {
   "cell_type": "code",
   "execution_count": 2,
   "id": "889b8a70-ecc4-4782-a919-5ecfeeb9d53c",
   "metadata": {},
   "outputs": [],
   "source": [
    "amount = 10 #numbers of pictures to capture per setting\n",
    "bit_mode = 12\n",
    "analog_gain = 1\n",
    "exposure = 500 #in us #np.arange(1000, 10000, 500, dtype=int) #start, stop, step - this must be an array type. can also be, [100,200,300,400] etc..\n",
    "min_exposure = 100\n",
    "max_power = 1\n",
    "min_exp = 1000\n",
    "max_exp = 20000\n",
    "exposures = np.linspace(min_exp, max_exp, 20)\n",
    "board_id = 'csp_revB_385'\n",
    "\n",
    "\n",
    "#select mode a few cells below.\n",
    "TIFF = True\n",
    "UPLOAD_FOLDER = pathlib.Path(\"./images\"+board_id)\n",
    "UPLOAD_FOLDER.mkdir(parents=False, exist_ok=True)\n",
    "\n",
    "temp_save_dir = UPLOAD_FOLDER\n",
    "final_save_dir = UPLOAD_FOLDER"
   ]
  },
  {
   "cell_type": "code",
   "execution_count": 3,
   "id": "85501654-9ae6-441d-aab2-ae6b2cac3c91",
   "metadata": {},
   "outputs": [
    {
     "name": "stdout",
     "output_type": "stream",
     "text": [
      "[{'Id': '/base/soc/i2c0mux/i2c@1/mira016@36',\n",
      "  'Location': 2,\n",
      "  'Model': 'mira016',\n",
      "  'Rotation': 0}]\n",
      "[{'bit_depth': 10,\n",
      "  'crop_limits': (0, 0, 400, 400),\n",
      "  'exposure_limits': (41, 1000396, None),\n",
      "  'format': SGRBG10_CSI2P,\n",
      "  'fps': 357.14,\n",
      "  'size': (400, 400),\n",
      "  'unpacked': 'SGRBG10'},\n",
      " {'bit_depth': 12,\n",
      "  'crop_limits': (0, 0, 400, 400),\n",
      "  'exposure_limits': (41, 1000396, None),\n",
      "  'format': SGRBG12_CSI2P,\n",
      "  'fps': 199.6,\n",
      "  'size': (400, 400),\n",
      "  'unpacked': 'SGRBG12'},\n",
      " {'bit_depth': 8,\n",
      "  'crop_limits': (0, 0, 400, 400),\n",
      "  'exposure_limits': (41, 1000396, None),\n",
      "  'format': SGRBG8,\n",
      "  'fps': 357.14,\n",
      "  'size': (400, 400),\n",
      "  'unpacked': 'SGRBG8'}]\n"
     ]
    },
    {
     "name": "stderr",
     "output_type": "stream",
     "text": [
      "[100:31:21.726769173] [51529] \u001b[1;32m INFO \u001b[1;37mCamera \u001b[1;34mcamera_manager.cpp:299 \u001b[0mlibcamera v0.0.4+22-923f5d70-dirty (2024-05-28T14:42:57+02:00)\n",
      "[100:31:21.730756965] [51551] \u001b[1;33m WARN \u001b[1;37mCameraSensorProperties \u001b[1;34mcamera_sensor_properties.cpp:573 \u001b[0mNo static properties available for 'mira016'\n",
      "[100:31:21.730800779] [51551] \u001b[1;33m WARN \u001b[1;37mCameraSensorProperties \u001b[1;34mcamera_sensor_properties.cpp:575 \u001b[0mPlease consider updating the camera sensor properties database\n",
      "[100:31:21.741708184] [51551] \u001b[1;33m WARN \u001b[1;37mRPI \u001b[1;34mraspberrypi.cpp:1357 \u001b[0mMismatch between Unicam and CamHelper for embedded data usage!\n",
      "[100:31:21.742748580] [51551] \u001b[1;32m INFO \u001b[1;37mRPI \u001b[1;34mraspberrypi.cpp:1476 \u001b[0mRegistered camera /base/soc/i2c0mux/i2c@1/mira016@36 to Unicam device /dev/media4 and ISP device /dev/media0\n",
      "[100:31:21.749394696] [51529] \u001b[1;32m INFO \u001b[1;37mCamera \u001b[1;34mcamera_manager.cpp:299 \u001b[0mlibcamera v0.0.4+22-923f5d70-dirty (2024-05-28T14:42:57+02:00)\n",
      "[100:31:21.753152287] [51554] \u001b[1;33m WARN \u001b[1;37mCameraSensorProperties \u001b[1;34mcamera_sensor_properties.cpp:573 \u001b[0mNo static properties available for 'mira016'\n",
      "[100:31:21.753196935] [51554] \u001b[1;33m WARN \u001b[1;37mCameraSensorProperties \u001b[1;34mcamera_sensor_properties.cpp:575 \u001b[0mPlease consider updating the camera sensor properties database\n",
      "[100:31:21.761973047] [51554] \u001b[1;33m WARN \u001b[1;37mRPI \u001b[1;34mraspberrypi.cpp:1357 \u001b[0mMismatch between Unicam and CamHelper for embedded data usage!\n",
      "[100:31:21.762942815] [51554] \u001b[1;32m INFO \u001b[1;37mRPI \u001b[1;34mraspberrypi.cpp:1476 \u001b[0mRegistered camera /base/soc/i2c0mux/i2c@1/mira016@36 to Unicam device /dev/media4 and ISP device /dev/media0\n",
      "[100:31:21.770033352] [51529] \u001b[1;32m INFO \u001b[1;37mCamera \u001b[1;34mcamera.cpp:1028 \u001b[0mconfiguring streams: (0) 640x480-XBGR8888 (1) 400x400-SGRBG10_CSI2P\n",
      "[100:31:21.770411996] [51554] \u001b[1;32m INFO \u001b[1;37mRPI \u001b[1;34mraspberrypi.cpp:851 \u001b[0mSensor: /base/soc/i2c0mux/i2c@1/mira016@36 - Selected sensor format: 400x400-SGRBG10_1X10 - Selected unicam format: 400x400-pgAA\n",
      "[100:31:21.781910006] [51529] \u001b[1;32m INFO \u001b[1;37mCamera \u001b[1;34mcamera.cpp:1028 \u001b[0mconfiguring streams: (0) 640x480-XBGR8888 (1) 400x400-SGRBG12_CSI2P\n",
      "[100:31:21.782271965] [51554] \u001b[1;32m INFO \u001b[1;37mRPI \u001b[1;34mraspberrypi.cpp:851 \u001b[0mSensor: /base/soc/i2c0mux/i2c@1/mira016@36 - Selected sensor format: 400x400-SGRBG12_1X12 - Selected unicam format: 400x400-pgCC\n",
      "[100:31:21.793489496] [51529] \u001b[1;32m INFO \u001b[1;37mCamera \u001b[1;34mcamera.cpp:1028 \u001b[0mconfiguring streams: (0) 640x480-XBGR8888 (1) 400x400-SGRBG8\n",
      "[100:31:21.793857307] [51554] \u001b[1;32m INFO \u001b[1;37mRPI \u001b[1;34mraspberrypi.cpp:851 \u001b[0mSensor: /base/soc/i2c0mux/i2c@1/mira016@36 - Selected sensor format: 400x400-SGRBG8_1X8 - Selected unicam format: 400x400-GRBG\n"
     ]
    }
   ],
   "source": [
    "#view camera model\n",
    "pprint.pprint(Picamera2.global_camera_info() ) #before init ;\n",
    "#print all sensor modes\n",
    "with Picamera2() as picam2:\n",
    "    modes = picam2.sensor_modes\n",
    "    pprint.pprint(picam2.sensor_modes)"
   ]
  },
  {
   "cell_type": "code",
   "execution_count": null,
   "id": "b3bacf73-8528-4c22-bb00-f8f0dd4d6baf",
   "metadata": {},
   "outputs": [],
   "source": []
  },
  {
   "cell_type": "markdown",
   "id": "2b815c65-4914-4855-9ab7-bd986fceba43",
   "metadata": {},
   "source": [
    "# select mode here in the dropdown"
   ]
  },
  {
   "cell_type": "code",
   "execution_count": 4,
   "id": "ffcd85f9-8fd7-459b-98cd-dae09d2ff5f1",
   "metadata": {
    "jp-MarkdownHeadingCollapsed": true
   },
   "outputs": [
    {
     "name": "stderr",
     "output_type": "stream",
     "text": [
      "[100:31:22.052515799] [51529] \u001b[1;32m INFO \u001b[1;37mCamera \u001b[1;34mcamera_manager.cpp:299 \u001b[0mlibcamera v0.0.4+22-923f5d70-dirty (2024-05-28T14:42:57+02:00)\n",
      "[100:31:22.057196861] [51558] \u001b[1;33m WARN \u001b[1;37mCameraSensorProperties \u001b[1;34mcamera_sensor_properties.cpp:573 \u001b[0mNo static properties available for 'mira016'\n",
      "[100:31:22.057245176] [51558] \u001b[1;33m WARN \u001b[1;37mCameraSensorProperties \u001b[1;34mcamera_sensor_properties.cpp:575 \u001b[0mPlease consider updating the camera sensor properties database\n",
      "[100:31:22.070279299] [51558] \u001b[1;33m WARN \u001b[1;37mRPI \u001b[1;34mraspberrypi.cpp:1357 \u001b[0mMismatch between Unicam and CamHelper for embedded data usage!\n",
      "[100:31:22.072359444] [51558] \u001b[1;32m INFO \u001b[1;37mRPI \u001b[1;34mraspberrypi.cpp:1476 \u001b[0mRegistered camera /base/soc/i2c0mux/i2c@1/mira016@36 to Unicam device /dev/media4 and ISP device /dev/media0\n",
      "[100:31:22.079026338] [51529] \u001b[1;32m INFO \u001b[1;37mCamera \u001b[1;34mcamera.cpp:1028 \u001b[0mconfiguring streams: (0) 400x400-XBGR8888 (1) 400x400-SGRBG12\n",
      "[100:31:22.079682442] [51558] \u001b[1;32m INFO \u001b[1;37mRPI \u001b[1;34mraspberrypi.cpp:851 \u001b[0mSensor: /base/soc/i2c0mux/i2c@1/mira016@36 - Selected sensor format: 400x400-SGRBG12_1X12 - Selected unicam format: 400x400-BA12\n"
     ]
    },
    {
     "name": "stdin",
     "output_type": "stream",
     "text": [
      "turn off light \n"
     ]
    },
    {
     "name": "stdout",
     "output_type": "stream",
     "text": [
      "done\n"
     ]
    },
    {
     "name": "stdin",
     "output_type": "stream",
     "text": [
      "turn on light \n"
     ]
    },
    {
     "name": "stdout",
     "output_type": "stream",
     "text": [
      "exposure is 1000.0\n",
      "exposure is 2000.0\n",
      "exposure is 3000.0\n",
      "exposure is 4000.0\n",
      "exposure is 5000.0\n",
      "exposure is 6000.0\n",
      "exposure is 7000.0\n",
      "exposure is 8000.0\n",
      "exposure is 9000.0\n",
      "exposure is 10000.0\n",
      "exposure is 11000.0\n",
      "exposure is 12000.0\n",
      "exposure is 13000.0\n",
      "exposure is 14000.0\n",
      "exposure is 15000.0\n",
      "exposure is 16000.0\n",
      "exposure is 17000.0\n",
      "exposure is 18000.0\n",
      "exposure is 19000.0\n",
      "exposure is 20000.0\n"
     ]
    }
   ],
   "source": [
    "for mode in modes:\n",
    "    if mode['bit_depth']==bit_mode:\n",
    "        break\n",
    "selected_mode=mode\n",
    "all_images = []\n",
    "\n",
    "with Picamera2() as picam2:\n",
    "    \n",
    "    preview_config = picam2.create_preview_configuration(main={\"size\": selected_mode[\"size\"]},\n",
    "    raw={\"format\": selected_mode[\"unpacked\"],\n",
    "        \"size\": selected_mode[\"size\"],\n",
    "    })\n",
    "    \n",
    "    picam2.configure(preview_config)\n",
    "    \n",
    "    picam2.start()\n",
    "    \n",
    "    im_data = pd.DataFrame()\n",
    "    # im_data = pd.read_csv(Path(temp_save_dir / r'image_data.csv'))\n",
    "    \n",
    "    \n",
    "    \n",
    "    exposure = min_exp\n",
    "    \n",
    "    # get dark image\n",
    "    picam2.set_controls({\"ExposureTime\": exposure , \"AnalogueGain\": analog_gain})\n",
    "    \n",
    "    a = input('turn off light')\n",
    "    \n",
    "    #### CAPTURE\n",
    "    size = selected_mode[\"size\"]\n",
    "    \n",
    "    width = size[0]\n",
    "    height = size[1]\n",
    "    im_stack = []\n",
    "    for i in range(amount):\n",
    "        if bit_mode == 8:\n",
    "            image = picam2.capture_array(\"raw\").view(np.uint8)\n",
    "        else:\n",
    "            image = picam2.capture_array(\"raw\").view(np.uint16)\n",
    "        im_stack.append(image[0:height, 0:width])\n",
    "        # if TIFF:\n",
    "        #     # save images    \n",
    "        #     pilim = Image.fromarray(image)\n",
    "        #     filename = str(f\"{UPLOAD_FOLDER}/img_exposure{exposure}_gain{analog_gain}{i}.tiff\")\n",
    "        #     pilim.save(filename)\n",
    "        \n",
    "    # get & save images\n",
    "    name = f'bm={bit_mode}_ag={analog_gain}_fc={amount}_exp={round(exposure, 1)}_dark.npz'\n",
    "    temp_im_dir = UPLOAD_FOLDER\n",
    "    temp_im_path = pathlib.Path(temp_im_dir / name)\n",
    "    np.savez(str(temp_im_path), im_stack)\n",
    "    \n",
    "    all_images.append(np.stack(im_stack))\n",
    "    \n",
    "    \n",
    "    # add to image data\n",
    "    temp = {'Analog Gain': [analog_gain],\n",
    "            'Bit Mode': [bit_mode],\n",
    "            'Exposure [ms]': [min_exp],\n",
    "            'Frame Count': [amount],\n",
    "            'Power [uW/cm^2]': [0],\n",
    "            'Exposure [uW/cm^2*s]': [0],\n",
    "            'Image Path': [str(pathlib.Path(UPLOAD_FOLDER / name))]}\n",
    "    temp = pd.DataFrame.from_dict(temp)\n",
    "    \n",
    "    # # concat raw to im_data\n",
    "    im_data = pd.concat([im_data, temp], ignore_index=True).reset_index(drop=True)\n",
    "    im_data_path = pathlib.Path(UPLOAD_FOLDER / r'image_data.csv')\n",
    "    im_data.to_csv(im_data_path, index=False)\n",
    "    print('done')\n",
    "\n",
    "    \n",
    "    a = input('turn on light')\n",
    "    # sweep exposures\n",
    "    for exposure in exposures:\n",
    "        picam2.set_controls({\"ExposureTime\": int(exposure) , \"AnalogueGain\": analog_gain})\n",
    "        \n",
    "        # cam.states.cycle_states()\n",
    "        print(f'exposure is {exposure}')\n",
    "    \n",
    "        \n",
    "        time.sleep(0.1)\n",
    "    \n",
    "        # set light source\n",
    "        power = max_power / analog_gain\n",
    "    #     source.set_channel(channel_identifier=500, power=power, set_wl=True)\n",
    "    \n",
    "        # get & save images\n",
    "    \n",
    "        im_stack = []\n",
    "        for i in range(amount):\n",
    "            if bit_mode == 8:\n",
    "                image = picam2.capture_array(\"raw\").view(np.uint8)\n",
    "            else:\n",
    "                image = picam2.capture_array(\"raw\").view(np.uint16)\n",
    "            im_stack.append(image[0:height, 0:width])\n",
    "            # if TIFF:\n",
    "            #     # save images    \n",
    "            #     pilim = Image.fromarray(image)\n",
    "            #     filename = str(f\"{UPLOAD_FOLDER}/img_exposure{exposure}_gain{analog_gain}{i}.tiff\")\n",
    "            #     pilim.save(filename)\n",
    "    \n",
    "        \n",
    "        name = f'bm={bit_mode}_ag={analog_gain}_fc={amount}_exp={round(exposure, 1)}_illum.npz'\n",
    "        temp_im_dir = UPLOAD_FOLDER\n",
    "        temp_im_path = pathlib.Path(temp_im_dir / name)\n",
    "        np.savez(str(temp_im_path), im_stack)\n",
    "        all_images.append(np.stack(im_stack))\n",
    "\n",
    "    \n",
    "        # add to image data\n",
    "        temp = {'Analog Gain': [analog_gain],\n",
    "                'Bit Mode': [bit_mode],\n",
    "                'Exposure [ms]': [exposure],\n",
    "                'Frame Count': [amount],\n",
    "                'Power [uW/cm^2]': ['source.power'],\n",
    "                'Exposure [uW/cm^2*s]': [exposure / 1000 * power],\n",
    "                'Image Path': [str(pathlib.Path(final_save_dir / name))]}\n",
    "        temp = pd.DataFrame.from_dict(temp)\n",
    "    \n",
    "        # concat raw to im_data\n",
    "        im_data = pd.concat([im_data, temp], ignore_index=True).reset_index(drop=True)\n",
    "        im_data_path = pathlib.Path(temp_save_dir / r'image_data.csv')\n",
    "        im_data.to_csv(im_data_path, index=False)"
   ]
  },
  {
   "cell_type": "code",
   "execution_count": 5,
   "id": "2e0810f3-0c0e-4d81-a857-88d35eb18f85",
   "metadata": {},
   "outputs": [
    {
     "data": {
      "text/plain": [
       "PosixPath('imagescsp_revB_385/image_data.csv')"
      ]
     },
     "execution_count": 5,
     "metadata": {},
     "output_type": "execute_result"
    }
   ],
   "source": [
    "im_data_path\n"
   ]
  },
  {
   "cell_type": "code",
   "execution_count": 8,
   "id": "b27e9292-ad2d-4aa0-a6c0-85edab7f703d",
   "metadata": {},
   "outputs": [
    {
     "name": "stdout",
     "output_type": "stream",
     "text": [
      "could not calculate 50% point! Setting to half dataset size\n",
      "Could not make linearity_fit, Error expected non-empty vector for x\n"
     ]
    },
    {
     "ename": "KeyError",
     "evalue": "'powermeter.wavelength'",
     "output_type": "error",
     "traceback": [
      "\u001b[0;31m---------------------------------------------------------------------------\u001b[0m",
      "\u001b[0;31mKeyError\u001b[0m                                  Traceback (most recent call last)",
      "File \u001b[0;32m~/.local/lib/python3.9/site-packages/pandas/core/indexes/base.py:3791\u001b[0m, in \u001b[0;36mIndex.get_loc\u001b[0;34m(self, key)\u001b[0m\n\u001b[1;32m   3790\u001b[0m \u001b[38;5;28;01mtry\u001b[39;00m:\n\u001b[0;32m-> 3791\u001b[0m     \u001b[38;5;28;01mreturn\u001b[39;00m \u001b[38;5;28;43mself\u001b[39;49m\u001b[38;5;241;43m.\u001b[39;49m\u001b[43m_engine\u001b[49m\u001b[38;5;241;43m.\u001b[39;49m\u001b[43mget_loc\u001b[49m\u001b[43m(\u001b[49m\u001b[43mcasted_key\u001b[49m\u001b[43m)\u001b[49m\n\u001b[1;32m   3792\u001b[0m \u001b[38;5;28;01mexcept\u001b[39;00m \u001b[38;5;167;01mKeyError\u001b[39;00m \u001b[38;5;28;01mas\u001b[39;00m err:\n",
      "File \u001b[0;32mindex.pyx:152\u001b[0m, in \u001b[0;36mpandas._libs.index.IndexEngine.get_loc\u001b[0;34m()\u001b[0m\n",
      "File \u001b[0;32mindex.pyx:181\u001b[0m, in \u001b[0;36mpandas._libs.index.IndexEngine.get_loc\u001b[0;34m()\u001b[0m\n",
      "File \u001b[0;32mpandas/_libs/hashtable_class_helper.pxi:7080\u001b[0m, in \u001b[0;36mpandas._libs.hashtable.PyObjectHashTable.get_item\u001b[0;34m()\u001b[0m\n",
      "File \u001b[0;32mpandas/_libs/hashtable_class_helper.pxi:7088\u001b[0m, in \u001b[0;36mpandas._libs.hashtable.PyObjectHashTable.get_item\u001b[0;34m()\u001b[0m\n",
      "\u001b[0;31mKeyError\u001b[0m: 'powermeter.wavelength'",
      "\nThe above exception was the direct cause of the following exception:\n",
      "\u001b[0;31mKeyError\u001b[0m                                  Traceback (most recent call last)",
      "Cell \u001b[0;32mIn[8], line 1\u001b[0m\n\u001b[0;32m----> 1\u001b[0m outp\u001b[38;5;241m=\u001b[39m \u001b[43mptc\u001b[49m\u001b[38;5;241;43m.\u001b[39;49m\u001b[43mptc\u001b[49m\u001b[43m(\u001b[49m\u001b[43mimg_stack_list\u001b[49m\u001b[38;5;241;43m=\u001b[39;49m\u001b[43mall_images\u001b[49m\u001b[43m,\u001b[49m\n\u001b[1;32m      2\u001b[0m \u001b[43m                           \u001b[49m\u001b[43mdf\u001b[49m\u001b[38;5;241;43m=\u001b[39;49m\u001b[43mim_data\u001b[49m\u001b[43m,\u001b[49m\n\u001b[1;32m      3\u001b[0m \u001b[43m                           \u001b[49m\u001b[43mexp_col\u001b[49m\u001b[38;5;241;43m=\u001b[39;49m\u001b[38;5;124;43m'\u001b[39;49m\u001b[38;5;124;43mExposure [ms]\u001b[39;49m\u001b[38;5;124;43m'\u001b[39;49m\u001b[43m,\u001b[49m\u001b[43m \u001b[49m\n\u001b[1;32m      4\u001b[0m \u001b[43m                          \u001b[49m\u001b[43mpixel_area\u001b[49m\u001b[43m \u001b[49m\u001b[38;5;241;43m=\u001b[39;49m\u001b[38;5;241;43m1\u001b[39;49m\u001b[43m,\u001b[49m\n\u001b[1;32m      5\u001b[0m \u001b[43m                             \u001b[49m\u001b[43mshading_dim\u001b[49m\u001b[43m \u001b[49m\u001b[38;5;241;43m=\u001b[39;49m\u001b[43m \u001b[49m\u001b[38;5;241;43m4\u001b[39;49m\u001b[43m)\u001b[49m\n",
      "File \u001b[0;32m~/.local/lib/python3.9/site-packages/characterization_ams/utilities/utilities.py:424\u001b[0m, in \u001b[0;36mensure_img_stack_list.<locals>._wrapper\u001b[0;34m(img_stack_list, *args, **kwargs)\u001b[0m\n\u001b[1;32m    421\u001b[0m         img_stack_list[idx] \u001b[38;5;241m=\u001b[39m np\u001b[38;5;241m.\u001b[39marray(stack)\n\u001b[1;32m    423\u001b[0m \u001b[38;5;28;01mif\u001b[39;00m img_stack_list[\u001b[38;5;241m0\u001b[39m]\u001b[38;5;241m.\u001b[39mndim \u001b[38;5;241m==\u001b[39m \u001b[38;5;241m3\u001b[39m:\n\u001b[0;32m--> 424\u001b[0m     \u001b[38;5;28;01mreturn\u001b[39;00m \u001b[43mfunc\u001b[49m\u001b[43m(\u001b[49m\u001b[43mimg_stack_list\u001b[49m\u001b[43m,\u001b[49m\u001b[43m \u001b[49m\u001b[38;5;241;43m*\u001b[39;49m\u001b[43margs\u001b[49m\u001b[43m,\u001b[49m\u001b[43m \u001b[49m\u001b[38;5;241;43m*\u001b[39;49m\u001b[38;5;241;43m*\u001b[39;49m\u001b[43mkwargs\u001b[49m\u001b[43m)\u001b[49m\n\u001b[1;32m    425\u001b[0m \u001b[38;5;28;01melse\u001b[39;00m:\n\u001b[1;32m    426\u001b[0m     msg \u001b[38;5;241m=\u001b[39m (\u001b[38;5;124m'\u001b[39m\u001b[38;5;124minput images must be one of the following:\u001b[39m\u001b[38;5;130;01m\\n\u001b[39;00m\u001b[38;5;130;01m\\n\u001b[39;00m\u001b[38;5;124m'\u001b[39m\n\u001b[1;32m    427\u001b[0m            \u001b[38;5;124m'\u001b[39m\u001b[38;5;124m- list or numpy array where each element is a stack \u001b[39m\u001b[38;5;124m'\u001b[39m\n\u001b[1;32m    428\u001b[0m            \u001b[38;5;124m'\u001b[39m\u001b[38;5;124mof images with dims=(rows,cols)\u001b[39m\u001b[38;5;130;01m\\n\u001b[39;00m\u001b[38;5;124m'\u001b[39m\n\u001b[1;32m    429\u001b[0m            \u001b[38;5;124m'\u001b[39m\u001b[38;5;124m- list or numpy array of numpy arrays each with \u001b[39m\u001b[38;5;124m'\u001b[39m\n\u001b[1;32m    430\u001b[0m            \u001b[38;5;124m'\u001b[39m\u001b[38;5;124mdims=(frames, cols, rows)\u001b[39m\u001b[38;5;130;01m\\n\u001b[39;00m\u001b[38;5;124m'\u001b[39m)\n",
      "File \u001b[0;32m~/.local/lib/python3.9/site-packages/characterization_ams/standard_tests/ptc.py:223\u001b[0m, in \u001b[0;36mptc\u001b[0;34m(img_stack_list, df, exp_col, exp_col_units, rmv_ttn, hpf, image_idx_col, pixel_area, offset_factor, cf, shading_dim)\u001b[0m\n\u001b[1;32m    220\u001b[0m     temp_imgs\u001b[38;5;241m.\u001b[39mappend(ttn_var)\n\u001b[1;32m    221\u001b[0m     avg_imgs\u001b[38;5;241m.\u001b[39mappend(avg)\n\u001b[0;32m--> 223\u001b[0m \u001b[38;5;28;01mreturn\u001b[39;00m \u001b[43mptc_avg\u001b[49m\u001b[43m(\u001b[49m\u001b[43mimg_list\u001b[49m\u001b[38;5;241;43m=\u001b[39;49m\u001b[43mavg_imgs\u001b[49m\u001b[43m,\u001b[49m\n\u001b[1;32m    224\u001b[0m \u001b[43m               \u001b[49m\u001b[43mL\u001b[49m\u001b[38;5;241;43m=\u001b[39;49m\u001b[43mL\u001b[49m\u001b[43m,\u001b[49m\n\u001b[1;32m    225\u001b[0m \u001b[43m               \u001b[49m\u001b[43mdf\u001b[49m\u001b[38;5;241;43m=\u001b[39;49m\u001b[43mdata\u001b[49m\u001b[43m,\u001b[49m\n\u001b[1;32m    226\u001b[0m \u001b[43m               \u001b[49m\u001b[43mtemp_imgs\u001b[49m\u001b[38;5;241;43m=\u001b[39;49m\u001b[43mtemp_imgs\u001b[49m\u001b[43m,\u001b[49m\n\u001b[1;32m    227\u001b[0m \u001b[43m               \u001b[49m\u001b[43mexp_col\u001b[49m\u001b[38;5;241;43m=\u001b[39;49m\u001b[43mexp_col\u001b[49m\u001b[43m,\u001b[49m\n\u001b[1;32m    228\u001b[0m \u001b[43m               \u001b[49m\u001b[43mexp_col_units\u001b[49m\u001b[38;5;241;43m=\u001b[39;49m\u001b[43mexp_col_units\u001b[49m\u001b[43m,\u001b[49m\n\u001b[1;32m    229\u001b[0m \u001b[43m               \u001b[49m\u001b[43mrmv_ttn\u001b[49m\u001b[38;5;241;43m=\u001b[39;49m\u001b[43mrmv_ttn\u001b[49m\u001b[43m,\u001b[49m\n\u001b[1;32m    230\u001b[0m \u001b[43m               \u001b[49m\u001b[43mhpf\u001b[49m\u001b[38;5;241;43m=\u001b[39;49m\u001b[43mhpf\u001b[49m\u001b[43m,\u001b[49m\n\u001b[1;32m    231\u001b[0m \u001b[43m               \u001b[49m\u001b[43mimage_idx_col\u001b[49m\u001b[38;5;241;43m=\u001b[39;49m\u001b[43mimage_idx_col\u001b[49m\u001b[43m,\u001b[49m\n\u001b[1;32m    232\u001b[0m \u001b[43m               \u001b[49m\u001b[43mpixel_area\u001b[49m\u001b[38;5;241;43m=\u001b[39;49m\u001b[43mpixel_area\u001b[49m\u001b[43m,\u001b[49m\n\u001b[1;32m    233\u001b[0m \u001b[43m               \u001b[49m\u001b[43moffset_factor\u001b[49m\u001b[38;5;241;43m=\u001b[39;49m\u001b[43moffset_factor\u001b[49m\u001b[43m,\u001b[49m\n\u001b[1;32m    234\u001b[0m \u001b[43m               \u001b[49m\u001b[43mcf\u001b[49m\u001b[38;5;241;43m=\u001b[39;49m\u001b[43mcf\u001b[49m\u001b[43m,\u001b[49m\n\u001b[1;32m    235\u001b[0m \u001b[43m               \u001b[49m\u001b[43mshading_dim\u001b[49m\u001b[38;5;241;43m=\u001b[39;49m\u001b[43mshading_dim\u001b[49m\u001b[43m)\u001b[49m\n",
      "File \u001b[0;32m~/.local/lib/python3.9/site-packages/characterization_ams/utilities/utilities.py:407\u001b[0m, in \u001b[0;36mensure_img_list.<locals>._wrapper\u001b[0;34m(img_list, *args, **kwargs)\u001b[0m\n\u001b[1;32m    404\u001b[0m         img_list[idx] \u001b[38;5;241m=\u001b[39m np\u001b[38;5;241m.\u001b[39msqueeze(im, axis\u001b[38;5;241m=\u001b[39m\u001b[38;5;241m0\u001b[39m)\n\u001b[1;32m    406\u001b[0m \u001b[38;5;28;01mif\u001b[39;00m img_list[\u001b[38;5;241m0\u001b[39m]\u001b[38;5;241m.\u001b[39mndim \u001b[38;5;241m==\u001b[39m \u001b[38;5;241m2\u001b[39m:\n\u001b[0;32m--> 407\u001b[0m     \u001b[38;5;28;01mreturn\u001b[39;00m \u001b[43mfunc\u001b[49m\u001b[43m(\u001b[49m\u001b[43mimg_list\u001b[49m\u001b[43m,\u001b[49m\u001b[43m \u001b[49m\u001b[38;5;241;43m*\u001b[39;49m\u001b[43margs\u001b[49m\u001b[43m,\u001b[49m\u001b[43m \u001b[49m\u001b[38;5;241;43m*\u001b[39;49m\u001b[38;5;241;43m*\u001b[39;49m\u001b[43mkwargs\u001b[49m\u001b[43m)\u001b[49m\n\u001b[1;32m    408\u001b[0m \u001b[38;5;28;01melse\u001b[39;00m:\n\u001b[1;32m    409\u001b[0m     msg \u001b[38;5;241m=\u001b[39m (\u001b[38;5;124m'\u001b[39m\u001b[38;5;124mimages must be a list or numpy array \u001b[39m\u001b[38;5;124m'\u001b[39m\n\u001b[1;32m    410\u001b[0m            \u001b[38;5;124m'\u001b[39m\u001b[38;5;124mcontaining numpy arrays with dims=(rows,cols)\u001b[39m\u001b[38;5;124m'\u001b[39m)\n",
      "File \u001b[0;32m~/.local/lib/python3.9/site-packages/characterization_ams/standard_tests/ptc.py:321\u001b[0m, in \u001b[0;36mptc_avg\u001b[0;34m(img_list, temp_imgs, L, df, exp_col, exp_col_units, rmv_ttn, hpf, image_idx_col, dark_imgs, pixel_area, offset_factor, cf, shading_dim)\u001b[0m\n\u001b[1;32m    309\u001b[0m res_spatial \u001b[38;5;241m=\u001b[39m \u001b[38;5;28mdict\u001b[39m()\n\u001b[1;32m    311\u001b[0m res_spatial \u001b[38;5;241m=\u001b[39m emva_spatial(img_list\u001b[38;5;241m=\u001b[39mimg_list\u001b[38;5;241m.\u001b[39mcopy(),\n\u001b[1;32m    312\u001b[0m                            temp_imgs\u001b[38;5;241m=\u001b[39mtemp_imgs\u001b[38;5;241m.\u001b[39mcopy(),\n\u001b[1;32m    313\u001b[0m                            L\u001b[38;5;241m=\u001b[39mL,\n\u001b[0;32m   (...)\u001b[0m\n\u001b[1;32m    318\u001b[0m                            dark_imgs\u001b[38;5;241m=\u001b[39mdark_imgs,\n\u001b[1;32m    319\u001b[0m                            shading_dim\u001b[38;5;241m=\u001b[39mshading_dim)\n\u001b[0;32m--> 321\u001b[0m res_temporal \u001b[38;5;241m=\u001b[39m \u001b[43memva_temporal\u001b[49m\u001b[43m(\u001b[49m\u001b[43mdata\u001b[49m\u001b[38;5;241;43m=\u001b[39;49m\u001b[43mres_spatial\u001b[49m\u001b[43m[\u001b[49m\u001b[38;5;124;43m'\u001b[39;49m\u001b[38;5;124;43mstats\u001b[39;49m\u001b[38;5;124;43m'\u001b[39;49m\u001b[43m]\u001b[49m\u001b[43m,\u001b[49m\n\u001b[1;32m    322\u001b[0m \u001b[43m                             \u001b[49m\u001b[43mexp_col\u001b[49m\u001b[38;5;241;43m=\u001b[39;49m\u001b[43mexp_col\u001b[49m\u001b[43m,\u001b[49m\n\u001b[1;32m    323\u001b[0m \u001b[43m                             \u001b[49m\u001b[43mexp_col_units\u001b[49m\u001b[38;5;241;43m=\u001b[39;49m\u001b[43mexp_col_units\u001b[49m\u001b[43m,\u001b[49m\n\u001b[1;32m    324\u001b[0m \u001b[43m                             \u001b[49m\u001b[43mpixel_area\u001b[49m\u001b[38;5;241;43m=\u001b[39;49m\u001b[43mpixel_area\u001b[49m\u001b[43m,\u001b[49m\n\u001b[1;32m    325\u001b[0m \u001b[43m                             \u001b[49m\u001b[43moffset_factor\u001b[49m\u001b[38;5;241;43m=\u001b[39;49m\u001b[43moffset_factor\u001b[49m\u001b[43m,\u001b[49m\n\u001b[1;32m    326\u001b[0m \u001b[43m                             \u001b[49m\u001b[43mcf\u001b[49m\u001b[38;5;241;43m=\u001b[39;49m\u001b[43mcf\u001b[49m\u001b[43m)\u001b[49m\n\u001b[1;32m    328\u001b[0m res \u001b[38;5;241m=\u001b[39m {\u001b[38;5;241m*\u001b[39m\u001b[38;5;241m*\u001b[39mres_temporal, \u001b[38;5;241m*\u001b[39m\u001b[38;5;241m*\u001b[39mres_spatial}\n\u001b[1;32m    330\u001b[0m \u001b[38;5;28;01mreturn\u001b[39;00m res\n",
      "File \u001b[0;32m~/.local/lib/python3.9/site-packages/characterization_ams/standard_tests/ptc.py:640\u001b[0m, in \u001b[0;36memva_temporal\u001b[0;34m(data, exp_col, exp_col_units, pixel_area, offset_factor, cf, dark_frame)\u001b[0m\n\u001b[1;32m    637\u001b[0m     msg \u001b[38;5;241m=\u001b[39m \u001b[38;5;124m\"\u001b[39m\u001b[38;5;130;01m\\n\u001b[39;00m\u001b[38;5;124mKeyword \u001b[39m\u001b[38;5;124m'\u001b[39m\u001b[38;5;124moffset_factor\u001b[39m\u001b[38;5;124m'\u001b[39m\u001b[38;5;124m must be provided!\u001b[39m\u001b[38;5;124m\"\u001b[39m\n\u001b[1;32m    638\u001b[0m     \u001b[38;5;28;01mraise\u001b[39;00m \u001b[38;5;167;01mValueError\u001b[39;00m(msg)\n\u001b[0;32m--> 640\u001b[0m photons \u001b[38;5;241m=\u001b[39m emva\u001b[38;5;241m.\u001b[39mget_photons(wl\u001b[38;5;241m=\u001b[39m\u001b[43mdata\u001b[49m\u001b[43m[\u001b[49m\u001b[38;5;124;43m'\u001b[39;49m\u001b[38;5;124;43mpowermeter.wavelength\u001b[39;49m\u001b[38;5;124;43m'\u001b[39;49m\u001b[43m]\u001b[49m[\u001b[38;5;241m0\u001b[39m],\n\u001b[1;32m    641\u001b[0m                            texp\u001b[38;5;241m=\u001b[39mcalc_vals[\u001b[38;5;124m'\u001b[39m\u001b[38;5;124mexp\u001b[39m\u001b[38;5;124m'\u001b[39m],\n\u001b[1;32m    642\u001b[0m                            power\u001b[38;5;241m=\u001b[39mdata[\u001b[38;5;124m'\u001b[39m\u001b[38;5;124mpowermeter.measure\u001b[39m\u001b[38;5;124m'\u001b[39m],\n\u001b[1;32m    643\u001b[0m                            offset_factor \u001b[38;5;241m=\u001b[39m offset_factor,\n\u001b[1;32m    644\u001b[0m                            pixel_area\u001b[38;5;241m=\u001b[39mpixel_area)\n\u001b[1;32m    646\u001b[0m \u001b[38;5;66;03m# add responsivity\u001b[39;00m\n\u001b[1;32m    647\u001b[0m resp \u001b[38;5;241m=\u001b[39m emva\u001b[38;5;241m.\u001b[39mresponsivity(u_p\u001b[38;5;241m=\u001b[39mphotons[\u001b[38;5;124m'\u001b[39m\u001b[38;5;124mu_p\u001b[39m\u001b[38;5;124m'\u001b[39m],\n\u001b[1;32m    648\u001b[0m                          u_y\u001b[38;5;241m=\u001b[39mcalc_vals[\u001b[38;5;124m'\u001b[39m\u001b[38;5;124mu_y_black_subtracted\u001b[39m\u001b[38;5;124m'\u001b[39m],\n\u001b[1;32m    649\u001b[0m                          sig2_y\u001b[38;5;241m=\u001b[39mcalc_vals[\u001b[38;5;124m'\u001b[39m\u001b[38;5;124msig2_y\u001b[39m\u001b[38;5;124m'\u001b[39m])\n",
      "File \u001b[0;32m~/.local/lib/python3.9/site-packages/pandas/core/frame.py:3893\u001b[0m, in \u001b[0;36mDataFrame.__getitem__\u001b[0;34m(self, key)\u001b[0m\n\u001b[1;32m   3891\u001b[0m \u001b[38;5;28;01mif\u001b[39;00m \u001b[38;5;28mself\u001b[39m\u001b[38;5;241m.\u001b[39mcolumns\u001b[38;5;241m.\u001b[39mnlevels \u001b[38;5;241m>\u001b[39m \u001b[38;5;241m1\u001b[39m:\n\u001b[1;32m   3892\u001b[0m     \u001b[38;5;28;01mreturn\u001b[39;00m \u001b[38;5;28mself\u001b[39m\u001b[38;5;241m.\u001b[39m_getitem_multilevel(key)\n\u001b[0;32m-> 3893\u001b[0m indexer \u001b[38;5;241m=\u001b[39m \u001b[38;5;28;43mself\u001b[39;49m\u001b[38;5;241;43m.\u001b[39;49m\u001b[43mcolumns\u001b[49m\u001b[38;5;241;43m.\u001b[39;49m\u001b[43mget_loc\u001b[49m\u001b[43m(\u001b[49m\u001b[43mkey\u001b[49m\u001b[43m)\u001b[49m\n\u001b[1;32m   3894\u001b[0m \u001b[38;5;28;01mif\u001b[39;00m is_integer(indexer):\n\u001b[1;32m   3895\u001b[0m     indexer \u001b[38;5;241m=\u001b[39m [indexer]\n",
      "File \u001b[0;32m~/.local/lib/python3.9/site-packages/pandas/core/indexes/base.py:3798\u001b[0m, in \u001b[0;36mIndex.get_loc\u001b[0;34m(self, key)\u001b[0m\n\u001b[1;32m   3793\u001b[0m     \u001b[38;5;28;01mif\u001b[39;00m \u001b[38;5;28misinstance\u001b[39m(casted_key, \u001b[38;5;28mslice\u001b[39m) \u001b[38;5;129;01mor\u001b[39;00m (\n\u001b[1;32m   3794\u001b[0m         \u001b[38;5;28misinstance\u001b[39m(casted_key, abc\u001b[38;5;241m.\u001b[39mIterable)\n\u001b[1;32m   3795\u001b[0m         \u001b[38;5;129;01mand\u001b[39;00m \u001b[38;5;28many\u001b[39m(\u001b[38;5;28misinstance\u001b[39m(x, \u001b[38;5;28mslice\u001b[39m) \u001b[38;5;28;01mfor\u001b[39;00m x \u001b[38;5;129;01min\u001b[39;00m casted_key)\n\u001b[1;32m   3796\u001b[0m     ):\n\u001b[1;32m   3797\u001b[0m         \u001b[38;5;28;01mraise\u001b[39;00m InvalidIndexError(key)\n\u001b[0;32m-> 3798\u001b[0m     \u001b[38;5;28;01mraise\u001b[39;00m \u001b[38;5;167;01mKeyError\u001b[39;00m(key) \u001b[38;5;28;01mfrom\u001b[39;00m \u001b[38;5;21;01merr\u001b[39;00m\n\u001b[1;32m   3799\u001b[0m \u001b[38;5;28;01mexcept\u001b[39;00m \u001b[38;5;167;01mTypeError\u001b[39;00m:\n\u001b[1;32m   3800\u001b[0m     \u001b[38;5;66;03m# If we have a listlike key, _check_indexing_error will raise\u001b[39;00m\n\u001b[1;32m   3801\u001b[0m     \u001b[38;5;66;03m#  InvalidIndexError. Otherwise we fall through and re-raise\u001b[39;00m\n\u001b[1;32m   3802\u001b[0m     \u001b[38;5;66;03m#  the TypeError.\u001b[39;00m\n\u001b[1;32m   3803\u001b[0m     \u001b[38;5;28mself\u001b[39m\u001b[38;5;241m.\u001b[39m_check_indexing_error(key)\n",
      "\u001b[0;31mKeyError\u001b[0m: 'powermeter.wavelength'"
     ]
    }
   ],
   "source": [
    "outp= ptc.ptc(img_stack_list=all_images,\n",
    "                           df=im_data,\n",
    "                           exp_col='Exposure [ms]', \n",
    "                          pixel_area =1,\n",
    "                             shading_dim = 4)"
   ]
  },
  {
   "cell_type": "code",
   "execution_count": null,
   "id": "c48d17b3-8c55-4cf1-a8bb-56c4c22f533d",
   "metadata": {},
   "outputs": [],
   "source": [
    "all_images[0].shape\n"
   ]
  }
 ],
 "metadata": {
  "kernelspec": {
   "display_name": "Python 3 (ipykernel)",
   "language": "python",
   "name": "python3"
  },
  "language_info": {
   "codemirror_mode": {
    "name": "ipython",
    "version": 3
   },
   "file_extension": ".py",
   "mimetype": "text/x-python",
   "name": "python",
   "nbconvert_exporter": "python",
   "pygments_lexer": "ipython3",
   "version": "3.9.2"
  }
 },
 "nbformat": 4,
 "nbformat_minor": 5
}
