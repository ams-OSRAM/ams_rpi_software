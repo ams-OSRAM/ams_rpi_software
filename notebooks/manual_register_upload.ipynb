{
 "cells": [
  {
   "cell_type": "markdown",
   "id": "640a60b1-db71-4015-b67c-67854e3e3abd",
   "metadata": {},
   "source": [
    "manual register upload for mira016.\n",
    "close the web interface and shut down all jupyter kernels."
   ]
  },
  {
   "cell_type": "code",
   "execution_count": 1,
   "id": "00b86226-5d4e-4a4e-9aa7-70db34a172ae",
   "metadata": {},
   "outputs": [],
   "source": [
    "import cv2\n",
    "import numpy as np\n",
    "from typing import Optional, Tuple\n",
    "import sys\n",
    "import os\n",
    "import pprint\n",
    "import argparse\n",
    "import time\n",
    "import logging\n",
    "import subprocess\n",
    "from picamera2 import Picamera2, Preview\n",
    "sys.path.append(\"../common\")\n",
    "#from picam2cv2 import CameraStreamInput\n",
    "from driver_access import v4l2Ctrl\n",
    "from config_parser import ConfigParser"
   ]
  },
  {
   "cell_type": "code",
   "execution_count": 2,
   "id": "b7da803c-b38c-424f-a0f7-1214fe8b7b91",
   "metadata": {
    "scrolled": true
   },
   "outputs": [
    {
     "name": "stderr",
     "output_type": "stream",
     "text": [
      "[20:33:18.451371073] [13781] \u001b[1;32m INFO \u001b[1;37mCamera \u001b[1;34mcamera_manager.cpp:299 \u001b[0mlibcamera v0.0.4+22-923f5d70-dirty (2023-10-21T22:05:29+02:00)\n",
      "[20:33:18.455442381] [13798] \u001b[1;33m WARN \u001b[1;37mCameraSensorProperties \u001b[1;34mcamera_sensor_properties.cpp:333 \u001b[0mNo static properties available for 'mira016'\n",
      "[20:33:18.455483122] [13798] \u001b[1;33m WARN \u001b[1;37mCameraSensorProperties \u001b[1;34mcamera_sensor_properties.cpp:335 \u001b[0mPlease consider updating the camera sensor properties database\n",
      "[20:33:18.466960754] [13798] \u001b[1;33m WARN \u001b[1;37mRPI \u001b[1;34mraspberrypi.cpp:1357 \u001b[0mMismatch between Unicam and CamHelper for embedded data usage!\n",
      "[20:33:18.467945674] [13798] \u001b[1;32m INFO \u001b[1;37mRPI \u001b[1;34mraspberrypi.cpp:1476 \u001b[0mRegistered camera /base/soc/i2c0mux/i2c@1/mira016@36 to Unicam device /dev/media4 and ISP device /dev/media2\n",
      "[20:33:18.476814341] [13781] \u001b[1;32m INFO \u001b[1;37mCamera \u001b[1;34mcamera.cpp:1028 \u001b[0mconfiguring streams: (0) 640x480-XBGR8888 (1) 400x400-SGRBG10_CSI2P\n",
      "[20:33:18.477117043] [13798] \u001b[1;32m INFO \u001b[1;37mRPI \u001b[1;34mraspberrypi.cpp:851 \u001b[0mSensor: /base/soc/i2c0mux/i2c@1/mira016@36 - Selected sensor format: 400x400-SGRBG10_1X10 - Selected unicam format: 400x400-pgAA\n",
      "[20:33:18.488406454] [13781] \u001b[1;32m INFO \u001b[1;37mCamera \u001b[1;34mcamera.cpp:1028 \u001b[0mconfiguring streams: (0) 640x480-XBGR8888 (1) 400x400-SGRBG12_CSI2P\n",
      "[20:33:18.488711044] [13798] \u001b[1;32m INFO \u001b[1;37mRPI \u001b[1;34mraspberrypi.cpp:851 \u001b[0mSensor: /base/soc/i2c0mux/i2c@1/mira016@36 - Selected sensor format: 400x400-SGRBG12_1X12 - Selected unicam format: 400x400-pgCC\n",
      "[20:33:18.499531977] [13781] \u001b[1;32m INFO \u001b[1;37mCamera \u001b[1;34mcamera.cpp:1028 \u001b[0mconfiguring streams: (0) 640x480-XBGR8888 (1) 400x400-SGRBG8\n",
      "[20:33:18.499843993] [13798] \u001b[1;32m INFO \u001b[1;37mRPI \u001b[1;34mraspberrypi.cpp:851 \u001b[0mSensor: /base/soc/i2c0mux/i2c@1/mira016@36 - Selected sensor format: 400x400-SGRBG8_1X8 - Selected unicam format: 400x400-GRBG\n"
     ]
    },
    {
     "name": "stdout",
     "output_type": "stream",
     "text": [
      "[{'bit_depth': 10,\n",
      "  'crop_limits': (0, 0, 400, 400),\n",
      "  'exposure_limits': (74, 1600421, None),\n",
      "  'format': SGRBG10_CSI2P,\n",
      "  'fps': 100.0,\n",
      "  'size': (400, 400),\n",
      "  'unpacked': 'SGRBG10'},\n",
      " {'bit_depth': 12,\n",
      "  'crop_limits': (0, 0, 400, 400),\n",
      "  'exposure_limits': (74, 1600421, None),\n",
      "  'format': SGRBG12_CSI2P,\n",
      "  'fps': 100.0,\n",
      "  'size': (400, 400),\n",
      "  'unpacked': 'SGRBG12'},\n",
      " {'bit_depth': 8,\n",
      "  'crop_limits': (0, 0, 400, 400),\n",
      "  'exposure_limits': (74, 1600421, None),\n",
      "  'format': SGRBG8,\n",
      "  'fps': 100.0,\n",
      "  'size': (400, 400),\n",
      "  'unpacked': 'SGRBG8'}]\n"
     ]
    }
   ],
   "source": [
    "from ipywidgets import interact, interactive\n",
    "from IPython.display import display\n",
    "#print all sensor modes\n",
    "with Picamera2() as picam2:\n",
    "    modes = picam2.sensor_modes\n",
    "    pprint.pprint(picam2.sensor_modes)"
   ]
  },
  {
   "cell_type": "markdown",
   "id": "e93f9914-77c5-4352-a890-81d371bb2313",
   "metadata": {},
   "source": [
    "# select mode here in the dropdown"
   ]
  },
  {
   "cell_type": "code",
   "execution_count": 3,
   "id": "d2967fbe-97d9-4ead-8282-ca882539b489",
   "metadata": {
    "scrolled": true
   },
   "outputs": [
    {
     "data": {
      "application/vnd.jupyter.widget-view+json": {
       "model_id": "8d67e089bbf841d281f91cf22890af40",
       "version_major": 2,
       "version_minor": 0
      },
      "text/plain": [
       "interactive(children=(Dropdown(description='mode', options=({'format': SGRBG10_CSI2P, 'unpacked': 'SGRBG10', '…"
      ]
     },
     "metadata": {},
     "output_type": "display_data"
    }
   ],
   "source": [
    "def f(mode):\n",
    "    display(mode)\n",
    "    return mode\n",
    "w = interactive(f, mode=modes)\n",
    "display(w)"
   ]
  },
  {
   "cell_type": "code",
   "execution_count": 4,
   "id": "4c4a6763-2129-44ff-84d6-7d676c35bc03",
   "metadata": {
    "jupyter": {
     "source_hidden": true
    }
   },
   "outputs": [],
   "source": [
    "#ILLUMINATED CONDITIONS\n",
    "# width=400\n",
    "# height=400\n",
    "# AeEnable=False\n",
    "# FrameRate=50.0\n",
    "# bit_depth=10\n",
    "# ExposureTime = 1000\n",
    "# AnalogueGain = 1"
   ]
  },
  {
   "cell_type": "code",
   "execution_count": 19,
   "id": "ac69b978-f11b-4c9e-81e3-eeed0925d615",
   "metadata": {},
   "outputs": [
    {
     "name": "stdout",
     "output_type": "stream",
     "text": [
      "Parsed 679 register writes from file.\n",
      "Manually power off the sensor via V4L2 interface.\n",
      "Manually power on the sensor via V4L2 interface.\n",
      "Writing 679 registers to sensor via V4L2 interface. takes about 20 seconds due to overhead\n",
      "done\n"
     ]
    }
   ],
   "source": [
    "# Before stream on, upload register sequence\n",
    "# Create a config parse to parse the register sequence txt\n",
    "config_parser = ConfigParser()\n",
    "#reg_seq = config_parser.parse_file('./config_files/Mira016_Register_Writes_10bit_360fps_1xgain.txt')\n",
    "reg_seq = config_parser.parse_file('./config_files/10-bit mode_anagain1_30fps_exp1000us_datarate_800_mclk_242.txt')\n",
    "print(f\"Parsed {len(reg_seq)} register writes from file.\")\n",
    "\n",
    "# Create a v4l2Ctrl class for register read/write over i2c.\n",
    "i2c = v4l2Ctrl(sensor=\"mira016\", printFunc=print)\n",
    "\n",
    "#########################################################\n",
    "# Steps to upload reg sequence txt:\n",
    "# (1) manually power off the sensor\n",
    "# (3) manaully power on the sensor\n",
    "# (3) disable reg upload and reset; force stream ctrl\n",
    "# (4) upload register sequence\n",
    "# (5) power off\n",
    "#########################################################\n",
    "\n",
    "# (1) Manually power off the sensor\n",
    "print(f\"Manually power off the sensor via V4L2 interface.\")\n",
    "i2c.rwReg(addr=0x0, value=0, rw=1, flag=i2c.AMS_CAMERA_CID_MIRA016_REG_FLAG_POWER_OFF)\n",
    "time.sleep(3)\n",
    "\n",
    "# (2) Manually power on the sensor\n",
    "print(f\"Manually power on the sensor via V4L2 interface.\")\n",
    "i2c.rwReg(addr=0x0, value=0, rw=1, flag=i2c.AMS_CAMERA_CID_MIRA016_REG_FLAG_POWER_ON)\n",
    "time.sleep(1)\n",
    "\n",
    "# (3) Disable base register sequence upload and sensor reset; force stream ctrl\n",
    "i2c.rwReg(addr=0x0, value=0, rw=1, flag=i2c.AMS_CAMERA_CID_MIRA016_REG_FLAG_REG_UP_OFF)\n",
    "i2c.rwReg(addr=0x0, value=0, rw=1, flag=i2c.AMS_CAMERA_CID_MIRA016_REG_FLAG_RESET_OFF)\n",
    "i2c.rwReg(addr=0x0, value=0, rw=1, flag=i2c.AMS_CAMERA_CID_MIRA016_REG_FLAG_STREAM_CTRL_ON)\n",
    "\n",
    "# (4) Upload register sequence from txt file\n",
    "print(f\"Writing {len(reg_seq)} registers to sensor via V4L2 interface. takes about 20 seconds due to overhead\")\n",
    "for reg in reg_seq:\n",
    "    exp_val = i2c.rwReg(addr=reg[0], value=reg[1], rw=1, flag=0)\n",
    "    time.sleep(0.001)\n",
    "print('done')"
   ]
  },
  {
   "cell_type": "code",
   "execution_count": 20,
   "id": "5ed5d1fc-c436-4fd5-ab21-5597b50680aa",
   "metadata": {},
   "outputs": [],
   "source": [
    "exp_val = i2c.rwReg(addr=0xE000, value=0x1, rw=1, flag=0) # WRITE bank sel 1\n",
    "time.sleep(0.001)\n",
    "\n",
    "exp_val = i2c.rwReg(addr=0x0010, value=211, rw=1, flag=0)\n",
    "time.sleep(0.001)\n",
    "exp_val = i2c.rwReg(addr=0x0011, value=211, rw=1, flag=0)\n",
    "time.sleep(0.001)\n",
    "exp_val = i2c.rwReg(addr=0x00F, value=3, rw=1, flag=0)\n",
    "time.sleep(0.001)"
   ]
  },
  {
   "cell_type": "code",
   "execution_count": 23,
   "id": "a128cf4a-9d60-48bf-a6b5-e684c8c9dd60",
   "metadata": {},
   "outputs": [
    {
     "name": "stderr",
     "output_type": "stream",
     "text": [
      "[20:45:39.478735808] [13781] \u001b[1;32m INFO \u001b[1;37mCamera \u001b[1;34mcamera_manager.cpp:299 \u001b[0mlibcamera v0.0.4+22-923f5d70-dirty (2023-10-21T22:05:29+02:00)\n",
      "[20:45:39.487009213] [18185] \u001b[1;33m WARN \u001b[1;37mCameraSensorProperties \u001b[1;34mcamera_sensor_properties.cpp:333 \u001b[0mNo static properties available for 'mira016'\n",
      "[20:45:39.487092879] [18185] \u001b[1;33m WARN \u001b[1;37mCameraSensorProperties \u001b[1;34mcamera_sensor_properties.cpp:335 \u001b[0mPlease consider updating the camera sensor properties database\n",
      "[20:45:39.506396552] [18185] \u001b[1;33m WARN \u001b[1;37mRPI \u001b[1;34mraspberrypi.cpp:1357 \u001b[0mMismatch between Unicam and CamHelper for embedded data usage!\n",
      "[20:45:39.507754577] [18185] \u001b[1;32m INFO \u001b[1;37mRPI \u001b[1;34mraspberrypi.cpp:1476 \u001b[0mRegistered camera /base/soc/i2c0mux/i2c@1/mira016@36 to Unicam device /dev/media4 and ISP device /dev/media2\n",
      "[20:45:39.515255859] [13781] \u001b[1;32m INFO \u001b[1;37mCamera \u001b[1;34mcamera.cpp:1028 \u001b[0mconfiguring streams: (0) 400x400-XBGR8888 (1) 400x400-SGRBG10\n",
      "[20:45:39.515670707] [18185] \u001b[1;32m INFO \u001b[1;37mRPI \u001b[1;34mraspberrypi.cpp:851 \u001b[0mSensor: /base/soc/i2c0mux/i2c@1/mira016@36 - Selected sensor format: 400x400-SGRBG10_1X10 - Selected unicam format: 400x400-BA10\n"
     ]
    },
    {
     "name": "stdout",
     "output_type": "stream",
     "text": [
      "[[0 0 0 ... 0 0 0]\n",
      " [0 0 0 ... 0 0 0]\n",
      " [0 0 0 ... 0 0 0]\n",
      " ...\n",
      " [0 0 0 ... 0 0 0]\n",
      " [0 0 0 ... 0 0 0]\n",
      " [0 0 0 ... 0 0 0]]\n",
      "great success\n"
     ]
    }
   ],
   "source": [
    "selected_mode = (w.result)\n",
    "bit_mode = selected_mode[\"bit_depth\"]\n",
    "with Picamera2() as picam2:\n",
    "    preview_config = picam2.create_preview_configuration(main={\"size\": selected_mode[\"size\"]},\n",
    "        raw={\"format\": selected_mode[\"unpacked\"],\n",
    "            \"size\": selected_mode[\"size\"],\n",
    "        })\n",
    "    picam2.configure(preview_config)\n",
    "    \n",
    "    picam2.start()\n",
    "    \n",
    "    image = picam2.capture_array(\"raw\").view(np.uint16)\n",
    "print(image)\n",
    "print('great success')"
   ]
  },
  {
   "cell_type": "code",
   "execution_count": 22,
   "id": "704af435-742b-40e0-8e3b-a28609d54b12",
   "metadata": {},
   "outputs": [
    {
     "data": {
      "image/png": "[encoded data removed]",
      "text/plain": [
       "<Figure size 640x480 with 1 Axes>"
      ]
     },
     "metadata": {},
     "output_type": "display_data"
    }
   ],
   "source": [
    "import matplotlib.pyplot as plt\n",
    "plt.imshow(image,cmap='gray')\n",
    "plt.show()"
   ]
  },
  {
   "cell_type": "code",
   "execution_count": 9,
   "id": "2600c6d5-6b88-40a5-abd7-a0a330cb176e",
   "metadata": {},
   "outputs": [],
   "source": [
    "# revert all to normal\n",
    "# i2c.rwReg(addr=0x0, value=0, rw=1, flag=i2c.AMS_CAMERA_CID_MIRA016_REG_FLAG_REG_UP_ON)\n",
    "# i2c.rwReg(addr=0x0, value=0, rw=1, flag=i2c.AMS_CAMERA_CID_MIRA016_REG_FLAG_RESET_ON)\n",
    "# i2c.rwReg(addr=0x0, value=0, rw=1, flag=i2c.AMS_CAMERA_CID_MIRA016_REG_FLAG_STREAM_CTRL_OFF)"
   ]
  },
  {
   "cell_type": "code",
   "execution_count": null,
   "id": "1c366dfd-a7b7-48a3-a6ca-01fa242c99f7",
   "metadata": {},
   "outputs": [],
   "source": []
  },
  {
   "cell_type": "code",
   "execution_count": null,
   "id": "0d9df402-0337-4d03-a939-9e783161823f",
   "metadata": {},
   "outputs": [],
   "source": []
  }
 ],
 "metadata": {
  "kernelspec": {
   "display_name": "Python 3 (ipykernel)",
   "language": "python",
   "name": "python3"
  },
  "language_info": {
   "codemirror_mode": {
    "name": "ipython",
    "version": 3
   },
   "file_extension": ".py",
   "mimetype": "text/x-python",
   "name": "python",
   "nbconvert_exporter": "python",
   "pygments_lexer": "ipython3",
   "version": "3.9.2"
  }
 },
 "nbformat": 4,
 "nbformat_minor": 5
}
