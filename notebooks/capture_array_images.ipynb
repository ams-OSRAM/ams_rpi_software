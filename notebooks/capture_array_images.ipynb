{
 "cells": [
  {
   "cell_type": "markdown",
   "id": "17aafd0c-e495-436d-8a97-71242fc122fa",
   "metadata": {},
   "source": [
    "# script to capture images in a loop. "
   ]
  },
  {
   "cell_type": "markdown",
   "id": "5574f565-6cfa-4046-9e32-6bfce1b4b4ec",
   "metadata": {},
   "source": [
    "## make sure, in the web interface, you close the camera. Run the cells one by one."
   ]
  },
  {
   "cell_type": "code",
   "execution_count": 3,
   "id": "7881a049-cb66-4232-8266-085169962079",
   "metadata": {},
   "outputs": [],
   "source": [
    "#some imports\n",
    "import time\n",
    "from PIL import Image\n",
    "import numpy as np\n",
    "import pandas as pd\n",
    "import pathlib\n",
    "from picamera2 import Picamera2, Preview\n",
    "import pprint\n",
    "from ipywidgets import interact, interactive\n",
    "from IPython.display import display\n",
    "import matplotlib.pyplot as plt"
   ]
  },
  {
   "cell_type": "code",
   "execution_count": 10,
   "id": "889b8a70-ecc4-4782-a919-5ecfeeb9d53c",
   "metadata": {},
   "outputs": [],
   "source": [
    "amount = 10 #numbers of pictures to capture per setting\n",
    "bit_mode = 12\n",
    "analog_gain = 2\n",
    "exposure = 1000 #in us #np.arange(1000, 10000, 500, dtype=int) #start, stop, step - this must be an array type. can also be, [100,200,300,400] etc..\n",
    "min_exposure = 100\n",
    "#select mode a few cells below.\n",
    "TIFF = True\n",
    "UPLOAD_FOLDER = pathlib.Path(\"./images\")\n",
    "UPLOAD_FOLDER.mkdir(parents=False, exist_ok=True)\n",
    "\n",
    "temp_save_dir = UPLOAD_FOLDER\n",
    "final_save_dir = UPLOAD_FOLDER"
   ]
  },
  {
   "cell_type": "code",
   "execution_count": 11,
   "id": "85501654-9ae6-441d-aab2-ae6b2cac3c91",
   "metadata": {},
   "outputs": [
    {
     "name": "stdout",
     "output_type": "stream",
     "text": [
      "[{'Id': '/base/soc/i2c0mux/i2c@1/mira050@36',\n",
      "  'Location': 2,\n",
      "  'Model': 'mira050',\n",
      "  'Rotation': 0}]\n",
      "[{'bit_depth': 10,\n",
      "  'crop_limits': (0, 0, 576, 768),\n",
      "  'exposure_limits': (58, 1000764, None),\n",
      "  'format': SGRBG10_CSI2P,\n",
      "  'fps': 120.08,\n",
      "  'size': (576, 768),\n",
      "  'unpacked': 'SGRBG10'},\n",
      " {'bit_depth': 12,\n",
      "  'crop_limits': (0, 0, 576, 768),\n",
      "  'exposure_limits': (58, 1000764, None),\n",
      "  'format': SGRBG12_CSI2P,\n",
      "  'fps': 60.0,\n",
      "  'size': (576, 768),\n",
      "  'unpacked': 'SGRBG12'},\n",
      " {'bit_depth': 8,\n",
      "  'crop_limits': (0, 0, 576, 768),\n",
      "  'exposure_limits': (58, 1000764, None),\n",
      "  'format': SGRBG8,\n",
      "  'fps': 120.08,\n",
      "  'size': (576, 768),\n",
      "  'unpacked': 'SGRBG8'}]\n"
     ]
    },
    {
     "name": "stderr",
     "output_type": "stream",
     "text": [
      "[0:08:38.631266415] [2878] \u001b[1;32m INFO \u001b[1;37mCamera \u001b[1;34mcamera_manager.cpp:299 \u001b[0mlibcamera v0.0.4+22-923f5d70-dirty (2024-07-08T10:44:34+02:00)\n",
      "[0:08:38.643758206] [2977] \u001b[1;33m WARN \u001b[1;37mRPI \u001b[1;34mraspberrypi.cpp:1357 \u001b[0mMismatch between Unicam and CamHelper for embedded data usage!\n",
      "[0:08:38.644843073] [2977] \u001b[1;32m INFO \u001b[1;37mRPI \u001b[1;34mraspberrypi.cpp:1476 \u001b[0mRegistered camera /base/soc/i2c0mux/i2c@1/mira050@36 to Unicam device /dev/media4 and ISP device /dev/media2\n",
      "[0:08:38.651326644] [2878] \u001b[1;32m INFO \u001b[1;37mCamera \u001b[1;34mcamera_manager.cpp:299 \u001b[0mlibcamera v0.0.4+22-923f5d70-dirty (2024-07-08T10:44:34+02:00)\n",
      "[0:08:38.663613806] [2980] \u001b[1;33m WARN \u001b[1;37mRPI \u001b[1;34mraspberrypi.cpp:1357 \u001b[0mMismatch between Unicam and CamHelper for embedded data usage!\n",
      "[0:08:38.664721228] [2980] \u001b[1;32m INFO \u001b[1;37mRPI \u001b[1;34mraspberrypi.cpp:1476 \u001b[0mRegistered camera /base/soc/i2c0mux/i2c@1/mira050@36 to Unicam device /dev/media4 and ISP device /dev/media2\n",
      "[0:08:38.680152658] [2878] \u001b[1;32m INFO \u001b[1;37mCamera \u001b[1;34mcamera.cpp:1028 \u001b[0mconfiguring streams: (0) 640x480-XBGR8888 (1) 576x768-SGRBG10_CSI2P\n",
      "[0:08:38.680624656] [2980] \u001b[1;32m INFO \u001b[1;37mRPI \u001b[1;34mraspberrypi.cpp:851 \u001b[0mSensor: /base/soc/i2c0mux/i2c@1/mira050@36 - Selected sensor format: 576x768-SGRBG10_1X10 - Selected unicam format: 576x768-pgAA\n",
      "[0:08:38.702295658] [2878] \u001b[1;32m INFO \u001b[1;37mCamera \u001b[1;34mcamera.cpp:1028 \u001b[0mconfiguring streams: (0) 640x480-XBGR8888 (1) 576x768-SGRBG12_CSI2P\n",
      "[0:08:38.702744082] [2980] \u001b[1;32m INFO \u001b[1;37mRPI \u001b[1;34mraspberrypi.cpp:851 \u001b[0mSensor: /base/soc/i2c0mux/i2c@1/mira050@36 - Selected sensor format: 576x768-SGRBG12_1X12 - Selected unicam format: 576x768-pgCC\n",
      "[0:08:38.717364015] [2878] \u001b[1;32m INFO \u001b[1;37mCamera \u001b[1;34mcamera.cpp:1028 \u001b[0mconfiguring streams: (0) 640x480-XBGR8888 (1) 576x768-SGRBG8\n",
      "[0:08:38.717723143] [2980] \u001b[1;32m INFO \u001b[1;37mRPI \u001b[1;34mraspberrypi.cpp:851 \u001b[0mSensor: /base/soc/i2c0mux/i2c@1/mira050@36 - Selected sensor format: 576x768-SGRBG8_1X8 - Selected unicam format: 576x768-GRBG\n"
     ]
    }
   ],
   "source": [
    "#view camera model\n",
    "pprint.pprint(Picamera2.global_camera_info() ) #before init ;\n",
    "#print all sensor modes\n",
    "with Picamera2() as picam2:\n",
    "    modes = picam2.sensor_modes\n",
    "    pprint.pprint(picam2.sensor_modes)"
   ]
  },
  {
   "cell_type": "code",
   "execution_count": null,
   "id": "b3bacf73-8528-4c22-bb00-f8f0dd4d6baf",
   "metadata": {},
   "outputs": [],
   "source": []
  },
  {
   "cell_type": "markdown",
   "id": "2b815c65-4914-4855-9ab7-bd986fceba43",
   "metadata": {},
   "source": [
    "# select mode here in the dropdown"
   ]
  },
  {
   "cell_type": "code",
   "execution_count": 12,
   "id": "24846d43-c9d0-4d56-befb-f1fce695c5e9",
   "metadata": {
    "scrolled": true
   },
   "outputs": [],
   "source": [
    "for mode in modes:\n",
    "    if mode['bit_depth']==bit_mode:\n",
    "        break\n",
    "selected_mode=mode"
   ]
  },
  {
   "cell_type": "code",
   "execution_count": 13,
   "id": "835f2592-de64-4a69-828d-073a90a6f265",
   "metadata": {
    "scrolled": true
   },
   "outputs": [
    {
     "name": "stderr",
     "output_type": "stream",
     "text": [
      "[0:08:39.373275996] [2878] \u001b[1;32m INFO \u001b[1;37mCamera \u001b[1;34mcamera_manager.cpp:299 \u001b[0mlibcamera v0.0.4+22-923f5d70-dirty (2024-07-08T10:44:34+02:00)\n",
      "[0:08:39.385834880] [2987] \u001b[1;33m WARN \u001b[1;37mRPI \u001b[1;34mraspberrypi.cpp:1357 \u001b[0mMismatch between Unicam and CamHelper for embedded data usage!\n",
      "[0:08:39.386938283] [2987] \u001b[1;32m INFO \u001b[1;37mRPI \u001b[1;34mraspberrypi.cpp:1476 \u001b[0mRegistered camera /base/soc/i2c0mux/i2c@1/mira050@36 to Unicam device /dev/media4 and ISP device /dev/media2\n",
      "[0:08:39.394152926] [2878] \u001b[1;32m INFO \u001b[1;37mCamera \u001b[1;34mcamera.cpp:1028 \u001b[0mconfiguring streams: (0) 576x768-XBGR8888 (1) 576x768-SGRBG12\n",
      "[0:08:39.394555258] [2987] \u001b[1;32m INFO \u001b[1;37mRPI \u001b[1;34mraspberrypi.cpp:851 \u001b[0mSensor: /base/soc/i2c0mux/i2c@1/mira050@36 - Selected sensor format: 576x768-SGRBG12_1X12 - Selected unicam format: 576x768-BA12\n"
     ]
    }
   ],
   "source": [
    "\n",
    "with Picamera2() as picam2:\n",
    "    preview_config = picam2.create_preview_configuration(main={\"size\": selected_mode[\"size\"]},\n",
    "        raw={\"format\": selected_mode[\"unpacked\"],\n",
    "            \"size\": selected_mode[\"size\"],\n",
    "        })\n",
    "    picam2.configure(preview_config)\n",
    "\n",
    "    picam2.start()\n",
    "\n",
    "\n",
    "\n",
    "    picam2.set_controls({\"ExposureTime\": exposure , \"AnalogueGain\": analog_gain})\n",
    "    \n",
    "    time.sleep(2)\n",
    "    #raw = picam2.capture_buffer()\n",
    "    #np.from_buffer\n",
    "    \n",
    "    size = selected_mode[\"size\"]\n",
    "\n",
    "    width = size[0]\n",
    "    height = size[1]\n",
    "    im_stack = []\n",
    "    for i in range(amount):\n",
    "        if bit_mode == 8:\n",
    "            image = picam2.capture_array(\"raw\").view(np.uint8)\n",
    "        else:\n",
    "            image = picam2.capture_array(\"raw\").view(np.uint16)\n",
    "        im_stack.append(image[0:height, 0:width])\n",
    "        if TIFF:\n",
    "            # save images    \n",
    "            pilim = Image.fromarray(image)\n",
    "            filename = str(f\"{UPLOAD_FOLDER}/img_exposure{exposure}_gain{analog_gain}{i}.tiff\")\n",
    "            pilim.save(filename)\n",
    "        \n",
    "    # get & save images\n",
    "    name = f'bm={bit_mode}_ag={analog_gain}_fc={amount}_exp={round(exposure, 1)}_dark.npz'\n",
    "    temp_im_dir = UPLOAD_FOLDER\n",
    "    temp_im_path = pathlib.Path(temp_im_dir / name)\n",
    "    np.savez(str(temp_im_path), im_stack)\n",
    "\n"
   ]
  },
  {
   "cell_type": "code",
   "execution_count": null,
   "id": "3406ae00-8aaf-4c7b-8cf4-73ece5d17641",
   "metadata": {},
   "outputs": [],
   "source": []
  },
  {
   "cell_type": "code",
   "execution_count": 14,
   "id": "604a00fe-9fa6-42f1-b76c-4a1d60c916cb",
   "metadata": {},
   "outputs": [
    {
     "name": "stdout",
     "output_type": "stream",
     "text": [
      "[[0 0 0 ... 0 0 0]\n",
      " [0 0 0 ... 0 0 0]\n",
      " [0 0 0 ... 0 0 0]\n",
      " ...\n",
      " [0 0 0 ... 0 0 0]\n",
      " [0 0 0 ... 0 0 0]\n",
      " [0 0 0 ... 0 0 0]]\n"
     ]
    }
   ],
   "source": [
    "print(im_stack[0])"
   ]
  },
  {
   "cell_type": "code",
   "execution_count": 15,
   "id": "0a3ca520-2077-4cdb-894d-4d0fb235ba57",
   "metadata": {},
   "outputs": [
    {
     "data": {
      "image/png": "[encoded data removed]",
      "text/plain": [
       "<Figure size 640x480 with 1 Axes>"
      ]
     },
     "metadata": {},
     "output_type": "display_data"
    }
   ],
   "source": [
    "plt.imshow(im_stack[0])\n",
    "plt.show()"
   ]
  },
  {
   "cell_type": "markdown",
   "id": "37ce1eb5-a2f3-4146-9bc9-4f4b9b4cad65",
   "metadata": {},
   "source": [
    "## "
   ]
  },
  {
   "cell_type": "code",
   "execution_count": null,
   "id": "e43e5274-449f-42f9-9d2e-dd9a5169f0c8",
   "metadata": {},
   "outputs": [],
   "source": []
  }
 ],
 "metadata": {
  "kernelspec": {
   "display_name": "Python 3 (ipykernel)",
   "language": "python",
   "name": "python3"
  },
  "language_info": {
   "codemirror_mode": {
    "name": "ipython",
    "version": 3
   },
   "file_extension": ".py",
   "mimetype": "text/x-python",
   "name": "python",
   "nbconvert_exporter": "python",
   "pygments_lexer": "ipython3",
   "version": "3.9.2"
  }
 },
 "nbformat": 4,
 "nbformat_minor": 5
}
