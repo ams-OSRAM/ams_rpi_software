{
 "cells": [
  {
   "cell_type": "markdown",
   "id": "17aafd0c-e495-436d-8a97-71242fc122fa",
   "metadata": {},
   "source": [
    "# script to capture images in a loop. "
   ]
  },
  {
   "cell_type": "markdown",
   "id": "5574f565-6cfa-4046-9e32-6bfce1b4b4ec",
   "metadata": {},
   "source": [
    "## make sure, in the web interface, you close the camera. Run the cells one by one."
   ]
  },
  {
   "cell_type": "code",
   "execution_count": 1,
   "id": "7881a049-cb66-4232-8266-085169962079",
   "metadata": {},
   "outputs": [],
   "source": [
    "#some imports\n",
    "import time\n",
    "from PIL import Image\n",
    "import numpy as np\n",
    "import pandas as pd\n",
    "import pathlib\n",
    "from picamera2 import Picamera2, Preview\n",
    "import pprint\n",
    "from ipywidgets import interact, interactive\n",
    "from IPython.display import display\n",
    "import matplotlib.pyplot as plt\n",
    "from characterization_ams.stats_engine import stats\n",
    "from characterization_ams.emva import emva\n",
    "from characterization_ams.standard_tests import ptc\n"
   ]
  },
  {
   "cell_type": "code",
   "execution_count": 2,
   "id": "889b8a70-ecc4-4782-a919-5ecfeeb9d53c",
   "metadata": {},
   "outputs": [],
   "source": [
    "amount = 20 #numbers of pictures to capture per setting\n",
    "bit_mode = 10\n",
    "analog_gain = 1\n",
    "exposure = 200 #in us #np.arange(1000, 10000, 500, dtype=int) #start, stop, step - this must be an array type. can also be, [100,200,300,400] etc..\n",
    "min_exposure = 100\n",
    "#select mode a few cells below.\n",
    "TIFF = True\n",
    "board_id = 'poncha'\n",
    "UPLOAD_FOLDER = pathlib.Path(f\"./images{board_id}\")\n",
    "UPLOAD_FOLDER.mkdir(parents=False, exist_ok=True)\n",
    "\n",
    "temp_save_dir = UPLOAD_FOLDER\n",
    "final_save_dir = UPLOAD_FOLDER"
   ]
  },
  {
   "cell_type": "code",
   "execution_count": 3,
   "id": "85501654-9ae6-441d-aab2-ae6b2cac3c91",
   "metadata": {},
   "outputs": [
    {
     "name": "stdout",
     "output_type": "stream",
     "text": [
      "[{'Id': '/base/soc/i2c0mux/i2c@1/poncha110@36',\n",
      "  'Location': 2,\n",
      "  'Model': 'poncha110color',\n",
      "  'Num': 0,\n",
      "  'Rotation': 0}]\n",
      "[{'bit_depth': 10,\n",
      "  'crop_limits': (0, 0, 1080, 1082),\n",
      "  'exposure_limits': (33, 69287, None),\n",
      "  'format': SBGGR10_CSI2P,\n",
      "  'fps': 27.34,\n",
      "  'size': (1080, 1082),\n",
      "  'unpacked': 'SBGGR10'}]\n"
     ]
    },
    {
     "name": "stderr",
     "output_type": "stream",
     "text": [
      "[0:08:06.485957864] [2283] \u001b[1;32m INFO \u001b[1;37mCamera \u001b[1;34mcamera_manager.cpp:313 \u001b[0mlibcamera v0.3.0+65-6ddd79b5-dirty (2024-09-17T09:54:50+02:00)\n",
      "[0:08:06.508670337] [2309] \u001b[1;33m WARN \u001b[1;37mRPiSdn \u001b[1;34msdn.cpp:40 \u001b[0mUsing legacy SDN tuning - please consider moving SDN inside rpi.denoise\n",
      "[0:08:06.509854646] [2309] \u001b[1;33m WARN \u001b[1;37mRPiAlsc \u001b[1;34malsc.cpp:170 \u001b[0mno luminance table - assume unity everywhere\n",
      "[0:08:06.510756771] [2309] \u001b[1;33m WARN \u001b[1;37mRPI \u001b[1;34mvc4.cpp:392 \u001b[0mMismatch between Unicam and CamHelper for embedded data usage!\n",
      "[0:08:06.512315485] [2309] \u001b[1;32m INFO \u001b[1;37mRPI \u001b[1;34mvc4.cpp:446 \u001b[0mRegistered camera /base/soc/i2c0mux/i2c@1/poncha110@36 to Unicam device /dev/media4 and ISP device /dev/media0\n",
      "[0:08:06.512470243] [2309] \u001b[1;32m INFO \u001b[1;37mRPI \u001b[1;34mpipeline_base.cpp:1104 \u001b[0mUsing configuration file '/usr/local/share/libcamera/pipeline/rpi/vc4/rpi_apps.yaml'\n",
      "[0:08:06.537742943] [2283] \u001b[1;32m INFO \u001b[1;37mCamera \u001b[1;34mcamera_manager.cpp:313 \u001b[0mlibcamera v0.3.0+65-6ddd79b5-dirty (2024-09-17T09:54:50+02:00)\n",
      "[0:08:06.578271915] [2312] \u001b[1;33m WARN \u001b[1;37mRPiSdn \u001b[1;34msdn.cpp:40 \u001b[0mUsing legacy SDN tuning - please consider moving SDN inside rpi.denoise\n",
      "[0:08:06.579327447] [2312] \u001b[1;33m WARN \u001b[1;37mRPiAlsc \u001b[1;34malsc.cpp:170 \u001b[0mno luminance table - assume unity everywhere\n",
      "[0:08:06.580637440] [2312] \u001b[1;33m WARN \u001b[1;37mRPI \u001b[1;34mvc4.cpp:392 \u001b[0mMismatch between Unicam and CamHelper for embedded data usage!\n",
      "[0:08:06.586415947] [2312] \u001b[1;32m INFO \u001b[1;37mRPI \u001b[1;34mvc4.cpp:446 \u001b[0mRegistered camera /base/soc/i2c0mux/i2c@1/poncha110@36 to Unicam device /dev/media4 and ISP device /dev/media0\n",
      "[0:08:06.586871981] [2312] \u001b[1;32m INFO \u001b[1;37mRPI \u001b[1;34mpipeline_base.cpp:1104 \u001b[0mUsing configuration file '/usr/local/share/libcamera/pipeline/rpi/vc4/rpi_apps.yaml'\n",
      "[0:08:06.597066520] [2283] \u001b[1;32m INFO \u001b[1;37mCamera \u001b[1;34mcamera_manager.cpp:313 \u001b[0mlibcamera v0.3.0+65-6ddd79b5-dirty (2024-09-17T09:54:50+02:00)\n",
      "[0:08:06.628430207] [2315] \u001b[1;33m WARN \u001b[1;37mRPiSdn \u001b[1;34msdn.cpp:40 \u001b[0mUsing legacy SDN tuning - please consider moving SDN inside rpi.denoise\n",
      "[0:08:06.630106735] [2315] \u001b[1;33m WARN \u001b[1;37mRPiAlsc \u001b[1;34malsc.cpp:170 \u001b[0mno luminance table - assume unity everywhere\n",
      "[0:08:06.633613624] [2315] \u001b[1;33m WARN \u001b[1;37mRPI \u001b[1;34mvc4.cpp:392 \u001b[0mMismatch between Unicam and CamHelper for embedded data usage!\n",
      "[0:08:06.636680738] [2315] \u001b[1;32m INFO \u001b[1;37mRPI \u001b[1;34mvc4.cpp:446 \u001b[0mRegistered camera /base/soc/i2c0mux/i2c@1/poncha110@36 to Unicam device /dev/media4 and ISP device /dev/media0\n",
      "[0:08:06.636913088] [2315] \u001b[1;32m INFO \u001b[1;37mRPI \u001b[1;34mpipeline_base.cpp:1104 \u001b[0mUsing configuration file '/usr/local/share/libcamera/pipeline/rpi/vc4/rpi_apps.yaml'\n",
      "[0:08:06.662416232] [2283] \u001b[1;32m INFO \u001b[1;37mCamera \u001b[1;34mcamera.cpp:1183 \u001b[0mconfiguring streams: (0) 640x480-XBGR8888 (1) 1080x1082-SBGGR10_CSI2P\n",
      "[0:08:06.665845936] [2315] \u001b[1;32m INFO \u001b[1;37mRPI \u001b[1;34mvc4.cpp:621 \u001b[0mSensor: /base/soc/i2c0mux/i2c@1/poncha110@36 - Selected sensor format: 1080x1082-SBGGR10_1X10 - Selected unicam format: 1080x1082-pBAA\n"
     ]
    }
   ],
   "source": [
    "#view camera model\n",
    "pprint.pprint(Picamera2.global_camera_info() ) #before init ;\n",
    "#print all sensor modes\n",
    "with Picamera2() as picam2:\n",
    "    modes = picam2.sensor_modes\n",
    "    pprint.pprint(picam2.sensor_modes)"
   ]
  },
  {
   "cell_type": "code",
   "execution_count": null,
   "id": "b3bacf73-8528-4c22-bb00-f8f0dd4d6baf",
   "metadata": {},
   "outputs": [],
   "source": []
  },
  {
   "cell_type": "markdown",
   "id": "2b815c65-4914-4855-9ab7-bd986fceba43",
   "metadata": {},
   "source": [
    "# select mode here in the dropdown"
   ]
  },
  {
   "cell_type": "code",
   "execution_count": 6,
   "id": "24846d43-c9d0-4d56-befb-f1fce695c5e9",
   "metadata": {
    "scrolled": true
   },
   "outputs": [],
   "source": [
    "for mode in modes:\n",
    "    if mode['bit_depth']==bit_mode:\n",
    "        break\n",
    "selected_mode=mode"
   ]
  },
  {
   "cell_type": "code",
   "execution_count": null,
   "id": "835f2592-de64-4a69-828d-073a90a6f265",
   "metadata": {
    "scrolled": true
   },
   "outputs": [
    {
     "name": "stderr",
     "output_type": "stream",
     "text": [
      "[0:09:30.640175415] [2283] \u001b[1;32m INFO \u001b[1;37mCamera \u001b[1;34mcamera_manager.cpp:313 \u001b[0mlibcamera v0.3.0+65-6ddd79b5-dirty (2024-09-17T09:54:50+02:00)\n",
      "[0:09:30.654250028] [2384] \u001b[1;33m WARN \u001b[1;37mRPiSdn \u001b[1;34msdn.cpp:40 \u001b[0mUsing legacy SDN tuning - please consider moving SDN inside rpi.denoise\n",
      "[0:09:30.654819020] [2384] \u001b[1;33m WARN \u001b[1;37mRPiAlsc \u001b[1;34malsc.cpp:170 \u001b[0mno luminance table - assume unity everywhere\n",
      "[0:09:30.655354697] [2384] \u001b[1;33m WARN \u001b[1;37mRPI \u001b[1;34mvc4.cpp:392 \u001b[0mMismatch between Unicam and CamHelper for embedded data usage!\n",
      "[0:09:30.656610698] [2384] \u001b[1;32m INFO \u001b[1;37mRPI \u001b[1;34mvc4.cpp:446 \u001b[0mRegistered camera /base/soc/i2c0mux/i2c@1/poncha110@36 to Unicam device /dev/media4 and ISP device /dev/media0\n",
      "[0:09:30.656692234] [2384] \u001b[1;32m INFO \u001b[1;37mRPI \u001b[1;34mpipeline_base.cpp:1104 \u001b[0mUsing configuration file '/usr/local/share/libcamera/pipeline/rpi/vc4/rpi_apps.yaml'\n",
      "[0:09:30.671019120] [2283] \u001b[1;32m INFO \u001b[1;37mCamera \u001b[1;34mcamera_manager.cpp:313 \u001b[0mlibcamera v0.3.0+65-6ddd79b5-dirty (2024-09-17T09:54:50+02:00)\n",
      "[0:09:30.685164973] [2388] \u001b[1;33m WARN \u001b[1;37mRPiSdn \u001b[1;34msdn.cpp:40 \u001b[0mUsing legacy SDN tuning - please consider moving SDN inside rpi.denoise\n",
      "[0:09:30.685596911] [2388] \u001b[1;33m WARN \u001b[1;37mRPiAlsc \u001b[1;34malsc.cpp:170 \u001b[0mno luminance table - assume unity everywhere\n",
      "[0:09:30.686121663] [2388] \u001b[1;33m WARN \u001b[1;37mRPI \u001b[1;34mvc4.cpp:392 \u001b[0mMismatch between Unicam and CamHelper for embedded data usage!\n",
      "[0:09:30.687117685] [2388] \u001b[1;32m INFO \u001b[1;37mRPI \u001b[1;34mvc4.cpp:446 \u001b[0mRegistered camera /base/soc/i2c0mux/i2c@1/poncha110@36 to Unicam device /dev/media4 and ISP device /dev/media0\n",
      "[0:09:30.687195925] [2388] \u001b[1;32m INFO \u001b[1;37mRPI \u001b[1;34mpipeline_base.cpp:1104 \u001b[0mUsing configuration file '/usr/local/share/libcamera/pipeline/rpi/vc4/rpi_apps.yaml'\n",
      "[0:09:30.718700695] [2283] \u001b[1;32m INFO \u001b[1;37mCamera \u001b[1;34mcamera.cpp:1183 \u001b[0mconfiguring streams: (0) 1080x1082-XBGR8888 (1) 1080x1082-SBGGR10\n",
      "[0:09:30.726662802] [2388] \u001b[1;32m INFO \u001b[1;37mRPI \u001b[1;34mvc4.cpp:621 \u001b[0mSensor: /base/soc/i2c0mux/i2c@1/poncha110@36 - Selected sensor format: 1080x1082-SBGGR10_1X10 - Selected unicam format: 1080x1082-BG10\n",
      "[0:09:33.202774780] [2388] \u001b[1;33m WARN \u001b[1;37mV4L2 \u001b[1;34mv4l2_videodevice.cpp:2007 \u001b[0;32m/dev/video0[68:cap]: \u001b[0mDequeue timer of 1000000.00us has expired!\n",
      "[0:09:33.202866463] [2388] \u001b[1;31mERROR \u001b[1;37mRPI \u001b[1;34mpipeline_base.cpp:1336 \u001b[0mCamera frontend has timed out!\n",
      "[0:09:33.202884852] [2388] \u001b[1;31mERROR \u001b[1;37mRPI \u001b[1;34mpipeline_base.cpp:1337 \u001b[0mPlease check that your camera sensor connector is attached securely.\n",
      "[0:09:33.202900259] [2388] \u001b[1;31mERROR \u001b[1;37mRPI \u001b[1;34mpipeline_base.cpp:1338 \u001b[0mAlternatively, try another cable and/or sensor.\n"
     ]
    }
   ],
   "source": [
    "with Picamera2() as picam2:\n",
    "    preview_config = picam2.create_preview_configuration(main={\"size\": selected_mode[\"size\"]},\n",
    "        raw={\"format\": selected_mode[\"unpacked\"],\n",
    "            \"size\": selected_mode[\"size\"],\n",
    "        })\n",
    "    picam2.configure(preview_config)\n",
    "\n",
    "    picam2.start()\n",
    "\n",
    "\n",
    "\n",
    "    picam2.set_controls({\"ExposureTime\": exposure , \"AnalogueGain\": analog_gain})\n",
    "    \n",
    "    time.sleep(2)\n",
    "    #raw = picam2.capture_buffer()\n",
    "    #np.from_buffer\n",
    "    \n",
    "    size = selected_mode[\"size\"]\n",
    "\n",
    "    width = size[0]\n",
    "    height = size[1]\n",
    "    im_stack = []\n",
    "    for i in range(amount):\n",
    "        if bit_mode == 8:\n",
    "            image = picam2.capture_array(\"raw\").view(np.uint8)\n",
    "        else:\n",
    "            image = picam2.capture_array(\"raw\").view(np.uint16)\n",
    "        im_stack.append(image[0:height, 0:width])\n",
    "        if TIFF:\n",
    "            # save images    \n",
    "            pilim = Image.fromarray(image)\n",
    "            filename = str(f\"{UPLOAD_FOLDER}/img_exposure{exposure}_gain{analog_gain}{i}.tiff\")\n",
    "            pilim.save(filename)\n",
    "        \n",
    "    # get & save images\n",
    "    name = f'bm={bit_mode}_ag={analog_gain}_fc={amount}_exp={round(exposure, 1)}_dark.npz'\n",
    "    temp_im_dir = UPLOAD_FOLDER\n",
    "    temp_im_path = pathlib.Path(temp_im_dir / name)\n",
    "    np.savez(str(temp_im_path), im_stack)\n",
    "\n"
   ]
  },
  {
   "cell_type": "code",
   "execution_count": null,
   "id": "3406ae00-8aaf-4c7b-8cf4-73ece5d17641",
   "metadata": {},
   "outputs": [],
   "source": []
  },
  {
   "cell_type": "code",
   "execution_count": null,
   "id": "604a00fe-9fa6-42f1-b76c-4a1d60c916cb",
   "metadata": {},
   "outputs": [],
   "source": [
    "print(im_stack[0])"
   ]
  },
  {
   "cell_type": "code",
   "execution_count": null,
   "id": "0a3ca520-2077-4cdb-894d-4d0fb235ba57",
   "metadata": {},
   "outputs": [],
   "source": [
    "plt.imshow(im_stack[0])\n",
    "plt.show()"
   ]
  },
  {
   "cell_type": "code",
   "execution_count": null,
   "id": "e43e5274-449f-42f9-9d2e-dd9a5169f0c8",
   "metadata": {},
   "outputs": [],
   "source": [
    "results = stats.agg_results(im_stack, rename=True)"
   ]
  },
  {
   "cell_type": "code",
   "execution_count": null,
   "id": "6fd48789-93a6-44e8-a0b6-7ca65e1fa04d",
   "metadata": {},
   "outputs": [],
   "source": [
    "results.T"
   ]
  },
  {
   "cell_type": "code",
   "execution_count": null,
   "id": "c98f4b46-c6fe-4458-92fd-d07ae75f05c2",
   "metadata": {},
   "outputs": [],
   "source": [
    "results.to_csv(board_id+'.csv')"
   ]
  },
  {
   "cell_type": "code",
   "execution_count": null,
   "id": "6fa48ac5-cf44-41e1-b065-e684f922d5bc",
   "metadata": {},
   "outputs": [],
   "source": []
  },
  {
   "cell_type": "code",
   "execution_count": null,
   "id": "a664df2c-caa1-4ea3-aa57-0e14c92dbcc1",
   "metadata": {},
   "outputs": [],
   "source": []
  }
 ],
 "metadata": {
  "kernelspec": {
   "display_name": "Python 3 (ipykernel)",
   "language": "python",
   "name": "python3"
  },
  "language_info": {
   "codemirror_mode": {
    "name": "ipython",
    "version": 3
   },
   "file_extension": ".py",
   "mimetype": "text/x-python",
   "name": "python",
   "nbconvert_exporter": "python",
   "pygments_lexer": "ipython3",
   "version": "3.9.2"
  }
 },
 "nbformat": 4,
 "nbformat_minor": 5
}
