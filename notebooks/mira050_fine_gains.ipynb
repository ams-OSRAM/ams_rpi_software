{
 "cells": [
  {
   "cell_type": "markdown",
   "id": "eddc79a8-bec7-4717-b31c-3cd4a801086c",
   "metadata": {},
   "source": [
    "## Fine gain notebook"
   ]
  },
  {
   "cell_type": "code",
   "execution_count": 1,
   "id": "adbcaa4c-4873-4591-8137-5aee93d0201c",
   "metadata": {},
   "outputs": [],
   "source": [
    "#some imports\n",
    "import time\n",
    "from PIL import Image\n",
    "import numpy as np\n",
    "import pandas as pd\n",
    "import pathlib\n",
    "from picamera2 import Picamera2, Preview\n",
    "import pprint\n",
    "from ipywidgets import interact, interactive\n",
    "from IPython.display import display\n",
    "import matplotlib.pyplot as plt\n",
    "\n",
    "import sys\n",
    "sys.path.append(\"../common\")\n",
    "from driver_access import v4l2Ctrl\n",
    "from config_parser import ConfigParser\n",
    "\n",
    "i2c = v4l2Ctrl(sensor=\"mira050\", printFunc=print)\n",
    "def read_offset_clip():\n",
    "    exp_val = i2c.rwReg(addr=0xE000, value=0, rw=1, flag=0) # WRITE bank sel 1\n",
    "    exp_val_1 = i2c.rwReg(addr=0x0193, value= 0 >> 8 & 255, rw=0, flag=0) # READ registers \n",
    "    exp_val_2 = i2c.rwReg(addr=0x0194, value=0 & 255, rw=0, flag=0)\n",
    "\n",
    "\n",
    "    \n",
    "    print(f'offsetclip value in hex: {hex(exp_val_1)} {hex(exp_val_2)} ')\n",
    "    print(f'offsetclip val in decimal: { 256* (exp_val_1) + (exp_val_2)}')\n",
    "    return 256* (exp_val_1) + (exp_val_2)"
   ]
  },
  {
   "cell_type": "code",
   "execution_count": 2,
   "id": "8aef542d-e1a6-41fc-bc87-74802d98a66e",
   "metadata": {},
   "outputs": [],
   "source": [
    "amount = 10 #numbers of pictures to capture per setting\n",
    "# gains = [1,2,4]\n",
    "gains = np.arange(1,4.5,.5)\n",
    "exposures_us = [500] #np.arange(1000, 10000, 500, dtype=int) #start, stop, step - this must be an array type. can also be, [100,200,300,400] etc..\n",
    "min_exposure = 150\n",
    "bit_mode = 10\n",
    "save = False\n",
    "#select mode a few cells below.\n",
    "TIFF = True\n",
    "UPLOAD_FOLDER = pathlib.Path(\"./images\")\n",
    "UPLOAD_FOLDER.mkdir(parents=False, exist_ok=True)\n",
    "\n",
    "temp_save_dir = UPLOAD_FOLDER\n",
    "final_save_dir = UPLOAD_FOLDER"
   ]
  },
  {
   "cell_type": "code",
   "execution_count": 3,
   "id": "9be7ace9-0ceb-41b7-83d6-4b7ae99090e4",
   "metadata": {},
   "outputs": [
    {
     "name": "stderr",
     "output_type": "stream",
     "text": [
      "[1:01:39.892467227] [4959] \u001b[1;32m INFO \u001b[1;37mCamera \u001b[1;34mcamera_manager.cpp:299 \u001b[0mlibcamera v0.0.4+22-923f5d70-dirty (2024-07-08T10:44:34+02:00)\n",
      "[1:01:39.907456143] [5022] \u001b[1;33m WARN \u001b[1;37mRPI \u001b[1;34mraspberrypi.cpp:1357 \u001b[0mMismatch between Unicam and CamHelper for embedded data usage!\n",
      "[1:01:39.908539544] [5022] \u001b[1;32m INFO \u001b[1;37mRPI \u001b[1;34mraspberrypi.cpp:1476 \u001b[0mRegistered camera /base/soc/i2c0mux/i2c@1/mira050@36 to Unicam device /dev/media2 and ISP device /dev/media4\n",
      "[1:01:39.916341500] [4959] \u001b[1;32m INFO \u001b[1;37mCamera \u001b[1;34mcamera_manager.cpp:299 \u001b[0mlibcamera v0.0.4+22-923f5d70-dirty (2024-07-08T10:44:34+02:00)\n",
      "[1:01:39.928734115] [5025] \u001b[1;33m WARN \u001b[1;37mRPI \u001b[1;34mraspberrypi.cpp:1357 \u001b[0mMismatch between Unicam and CamHelper for embedded data usage!\n",
      "[1:01:39.929723647] [5025] \u001b[1;32m INFO \u001b[1;37mRPI \u001b[1;34mraspberrypi.cpp:1476 \u001b[0mRegistered camera /base/soc/i2c0mux/i2c@1/mira050@36 to Unicam device /dev/media2 and ISP device /dev/media4\n",
      "[1:01:39.935951630] [4959] \u001b[1;32m INFO \u001b[1;37mCamera \u001b[1;34mcamera.cpp:1028 \u001b[0mconfiguring streams: (0) 640x480-XBGR8888 (1) 576x768-SGRBG10_CSI2P\n",
      "[1:01:39.936372517] [5025] \u001b[1;32m INFO \u001b[1;37mRPI \u001b[1;34mraspberrypi.cpp:851 \u001b[0mSensor: /base/soc/i2c0mux/i2c@1/mira050@36 - Selected sensor format: 576x768-SGRBG10_1X10 - Selected unicam format: 576x768-pgAA\n",
      "[1:01:39.968798408] [4959] \u001b[1;32m INFO \u001b[1;37mCamera \u001b[1;34mcamera.cpp:1028 \u001b[0mconfiguring streams: (0) 640x480-XBGR8888 (1) 576x768-SGRBG12_CSI2P\n",
      "[1:01:39.969134203] [5025] \u001b[1;32m INFO \u001b[1;37mRPI \u001b[1;34mraspberrypi.cpp:851 \u001b[0mSensor: /base/soc/i2c0mux/i2c@1/mira050@36 - Selected sensor format: 576x768-SGRBG12_1X12 - Selected unicam format: 576x768-pgCC\n",
      "[1:01:39.984349080] [4959] \u001b[1;32m INFO \u001b[1;37mCamera \u001b[1;34mcamera.cpp:1028 \u001b[0mconfiguring streams: (0) 640x480-XBGR8888 (1) 576x768-SGRBG8\n",
      "[1:01:39.984683004] [5025] \u001b[1;32m INFO \u001b[1;37mRPI \u001b[1;34mraspberrypi.cpp:851 \u001b[0mSensor: /base/soc/i2c0mux/i2c@1/mira050@36 - Selected sensor format: 576x768-SGRBG8_1X8 - Selected unicam format: 576x768-GRBG\n"
     ]
    },
    {
     "name": "stdout",
     "output_type": "stream",
     "text": [
      "[{'Id': '/base/soc/i2c0mux/i2c@1/mira050@36',\n",
      "  'Location': 2,\n",
      "  'Model': 'mira050',\n",
      "  'Rotation': 0}]\n",
      "[{'bit_depth': 10,\n",
      "  'crop_limits': (0, 0, 576, 768),\n",
      "  'exposure_limits': (58, 1000764, None),\n",
      "  'format': SGRBG10_CSI2P,\n",
      "  'fps': 120.08,\n",
      "  'size': (576, 768),\n",
      "  'unpacked': 'SGRBG10'},\n",
      " {'bit_depth': 12,\n",
      "  'crop_limits': (0, 0, 576, 768),\n",
      "  'exposure_limits': (58, 1000764, None),\n",
      "  'format': SGRBG12_CSI2P,\n",
      "  'fps': 60.0,\n",
      "  'size': (576, 768),\n",
      "  'unpacked': 'SGRBG12'},\n",
      " {'bit_depth': 8,\n",
      "  'crop_limits': (0, 0, 576, 768),\n",
      "  'exposure_limits': (58, 1000764, None),\n",
      "  'format': SGRBG8,\n",
      "  'fps': 120.08,\n",
      "  'size': (576, 768),\n",
      "  'unpacked': 'SGRBG8'}]\n"
     ]
    }
   ],
   "source": [
    "#view camera model\n",
    "pprint.pprint(Picamera2.global_camera_info())  #before init ;\n",
    "#print all sensor modes\n",
    "with Picamera2() as picam2:\n",
    "    modes = picam2.sensor_modes\n",
    "    pprint.pprint(picam2.sensor_modes)"
   ]
  },
  {
   "cell_type": "code",
   "execution_count": 4,
   "id": "fe3c5ca4-5951-4aee-8c8f-09b04f2b9cef",
   "metadata": {},
   "outputs": [],
   "source": [
    "for mode in modes:\n",
    "    if mode['bit_depth']==bit_mode:\n",
    "        break\n",
    "selected_mode=mode"
   ]
  },
  {
   "cell_type": "code",
   "execution_count": 6,
   "id": "c7ca3e25-85b1-4bab-a5ac-af70be3fbc10",
   "metadata": {
    "scrolled": true
   },
   "outputs": [
    {
     "name": "stdout",
     "output_type": "stream",
     "text": [
      "you have chosen mode {'format': SGRBG10_CSI2P, 'unpacked': 'SGRBG10', 'bit_depth': 10, 'size': (576, 768), 'fps': 120.08, 'crop_limits': (0, 0, 576, 768), 'exposure_limits': (58, 1000764, None)}\n",
      "analog gain limits,2,: (1.0, 4.0, None)\n"
     ]
    },
    {
     "name": "stderr",
     "output_type": "stream",
     "text": [
      "[1:01:58.024654096] [4959] \u001b[1;32m INFO \u001b[1;37mCamera \u001b[1;34mcamera.cpp:1028 \u001b[0mconfiguring streams: (0) 576x768-XBGR8888 (1) 576x768-SGRBG10\n",
      "[1:01:58.025095334] [5029] \u001b[1;32m INFO \u001b[1;37mRPI \u001b[1;34mraspberrypi.cpp:851 \u001b[0mSensor: /base/soc/i2c0mux/i2c@1/mira050@36 - Selected sensor format: 576x768-SGRBG10_1X10 - Selected unicam format: 576x768-BA10\n"
     ]
    },
    {
     "ename": "TypeError",
     "evalue": "capture_request() got an unexpected keyword argument 'flush'",
     "output_type": "error",
     "traceback": [
      "\u001b[0;31m---------------------------------------------------------------------------\u001b[0m",
      "\u001b[0;31mTypeError\u001b[0m                                 Traceback (most recent call last)",
      "Cell \u001b[0;32mIn[6], line 42\u001b[0m\n\u001b[1;32m     40\u001b[0m height \u001b[38;5;241m=\u001b[39m size[\u001b[38;5;241m1\u001b[39m]\n\u001b[1;32m     41\u001b[0m im_stack \u001b[38;5;241m=\u001b[39m []\n\u001b[0;32m---> 42\u001b[0m request \u001b[38;5;241m=\u001b[39m \u001b[43mpicam2\u001b[49m\u001b[38;5;241;43m.\u001b[39;49m\u001b[43mcapture_request\u001b[49m\u001b[43m(\u001b[49m\u001b[43mflush\u001b[49m\u001b[38;5;241;43m=\u001b[39;49m\u001b[38;5;28;43;01mTrue\u001b[39;49;00m\u001b[43m)\u001b[49m\n\u001b[1;32m     43\u001b[0m \u001b[38;5;66;03m# with picam2.capture_request(flush=True) as request:\u001b[39;00m\n\u001b[1;32m     44\u001b[0m \u001b[38;5;28;01mfor\u001b[39;00m i \u001b[38;5;129;01min\u001b[39;00m \u001b[38;5;28mrange\u001b[39m(amount):\n",
      "\u001b[0;31mTypeError\u001b[0m: capture_request() got an unexpected keyword argument 'flush'"
     ]
    }
   ],
   "source": [
    "#DARK CONDITIONS\n",
    "bit_mode = selected_mode[\"bit_depth\"]\n",
    "im_data = pd.DataFrame()\n",
    "print(f'you have chosen mode {selected_mode}')\n",
    "\n",
    "# with Picamera2() as picam2:\n",
    "#     preview_config = picam2.create_preview_configuration(main={\"size\": selected_mode[\"size\"]},\n",
    "#         raw={\"format\": selected_mode[\"unpacked\"],\n",
    "#             \"size\": selected_mode[\"size\"],\n",
    "#         })\n",
    "#     picam2.configure(preview_config)\n",
    "#     picam2.set_controls({\"ExposureTime\": 1000 , \"AnalogueGain\": 1})\n",
    "\n",
    "#     picam2.start()\n",
    "\n",
    "#     print(f'analog gain limits,1, : {picam2.camera_controls[\"AnalogueGain\"]}')\n",
    "\n",
    "    \n",
    "with Picamera2() as picam2:\n",
    "    preview_config = picam2.create_preview_configuration(main={\"size\": selected_mode[\"size\"]},\n",
    "        raw={\"format\": selected_mode[\"unpacked\"],\n",
    "            \"size\": selected_mode[\"size\"],\n",
    "        },queue= False, buffer_count =2)\n",
    "\n",
    "    picam2.configure(preview_config)\n",
    "    picam2.start()\n",
    "    print(f'analog gain limits,2,: {picam2.camera_controls[\"AnalogueGain\"]}')\n",
    "    for analog_gain in gains:\n",
    "        for exposure in [min_exposure]:\n",
    "        \n",
    "            picam2.set_controls({\"ExposureTime\": exposure , \"AnalogueGain\": analog_gain})\n",
    "            \n",
    "            time.sleep(.1)\n",
    "            #raw = picam2.capture_buffer()\n",
    "            #np.from_buffer\n",
    "            \n",
    "            size = selected_mode[\"size\"]\n",
    "        \n",
    "            width = size[0]\n",
    "            height = size[1]\n",
    "            im_stack = []\n",
    "            request = picam2.capture_request(flush=True)\n",
    "            # with picam2.capture_request(flush=True) as request:\n",
    "            for i in range(amount):\n",
    "                metadata = picam2.capture_metadata()\n",
    "                print(metadata[\"ExposureTime\"], metadata[\"AnalogueGain\"])\n",
    "                if bit_mode == 8:\n",
    "                    image = picam2.capture_array(\"raw\").view(np.uint8)\n",
    "                else:\n",
    "                    image = picam2.capture_array(\"raw\").view(np.uint16)\n",
    "                im_stack.append(image[0:height, 0:width])\n",
    "                if TIFF:\n",
    "                    # save images    \n",
    "                    pilim = Image.fromarray(image)\n",
    "                    filename = str(f\"{UPLOAD_FOLDER}/img_exposure{exposure}_gain{analog_gain}_DARK_{i}.tiff\")\n",
    "                    pilim.save(filename)\n",
    "            request.release()\n",
    "            offsetclip=read_offset_clip()\n",
    "            print(im_stack[0].mean())\n",
    "            print(im_stack[8].mean())\n",
    "            im_stack = im_stack[3:]\n",
    "            # get & save images\n",
    "            name = f'bm={bit_mode}_ag={analog_gain}_fc={amount}_exp={round(exposure, 1)}_dark.npz'\n",
    "            temp_im_dir = UPLOAD_FOLDER\n",
    "            temp_im_path = pathlib.Path(temp_im_dir / name)\n",
    "            if save:\n",
    "                np.savez(str(temp_im_path), im_stack)\n",
    "            mean_val = np.mean(im_stack)\n",
    "            # add to image data\n",
    "            temp = {'Analog Gain': [analog_gain],\n",
    "                    'Bit Mode': [bit_mode],\n",
    "                    'Exposure [us]': [exposure],\n",
    "                    'Frame Count': [amount],\n",
    "                    'Illumination': [False],\n",
    "                    'mean [DN]': [mean_val],\n",
    "                    'offsetclip':offsetclip,\n",
    "                    'Image Path_npz': [str(pathlib.Path(temp_im_dir / name))]}\n",
    "            \n",
    "            temp = pd.DataFrame.from_dict(temp)\n",
    "\n",
    "            # concat raw to im_data\n",
    "            im_data = pd.concat([im_data, temp], ignore_index=True).reset_index(drop=True)\n",
    "    "
   ]
  },
  {
   "cell_type": "code",
   "execution_count": null,
   "id": "4d801a5a-933f-4b5b-a21c-16074e5b78d3",
   "metadata": {},
   "outputs": [],
   "source": [
    "im_data"
   ]
  },
  {
   "cell_type": "code",
   "execution_count": null,
   "id": "038d84d1-592f-4b42-b007-e9e7aaf1417b",
   "metadata": {},
   "outputs": [],
   "source": [
    "im_data.plot(kind = 'scatter', x = 'Analog Gain', y = 'mean [DN]', title = f\"{bit_mode}bit\")"
   ]
  },
  {
   "cell_type": "code",
   "execution_count": null,
   "id": "e6179ff0-0ed2-4885-96ef-4c8fdce967ba",
   "metadata": {},
   "outputs": [],
   "source": []
  },
  {
   "cell_type": "code",
   "execution_count": null,
   "id": "b254cfc7-8a9a-485d-b23d-79c9a92dce39",
   "metadata": {},
   "outputs": [],
   "source": [
    "print(im_stack[0].mean())\n",
    "print(im_stack[8].mean())\n"
   ]
  },
  {
   "cell_type": "code",
   "execution_count": null,
   "id": "cabe1aa6-6655-4a1a-b51a-3f80ce7f6eb2",
   "metadata": {},
   "outputs": [],
   "source": []
  },
  {
   "cell_type": "code",
   "execution_count": null,
   "id": "acc52f81-ade8-422a-8e70-ffec3557936c",
   "metadata": {},
   "outputs": [],
   "source": []
  },
  {
   "cell_type": "code",
   "execution_count": null,
   "id": "53c21185-4472-4bb6-94d9-8b91a92e85e3",
   "metadata": {},
   "outputs": [],
   "source": []
  }
 ],
 "metadata": {
  "kernelspec": {
   "display_name": "Python 3 (ipykernel)",
   "language": "python",
   "name": "python3"
  },
  "language_info": {
   "codemirror_mode": {
    "name": "ipython",
    "version": 3
   },
   "file_extension": ".py",
   "mimetype": "text/x-python",
   "name": "python",
   "nbconvert_exporter": "python",
   "pygments_lexer": "ipython3",
   "version": "3.9.2"
  }
 },
 "nbformat": 4,
 "nbformat_minor": 5
}
