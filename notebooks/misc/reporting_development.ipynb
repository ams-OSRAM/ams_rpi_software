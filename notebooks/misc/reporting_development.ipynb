{
 "cells": [
  {
   "cell_type": "code",
   "execution_count": 1,
   "id": "9663b6ee",
   "metadata": {},
   "outputs": [
    {
     "name": "stderr",
     "output_type": "stream",
     "text": [
      "INFO:Parser:Opening C:\\Users\\dlly\\AppData\\Local\\Temp\\tmpxm339s8g\\EMVA1288descriptor.txt\n",
      "INFO:Parser:Version 3.0\n"
     ]
    },
    {
     "name": "stdout",
     "output_type": "stream",
     "text": [
      "Output Dir:  C:\\workspace\\characterization\\notebooks\\misc\\myreport\n"
     ]
    }
   ],
   "source": [
    "import sys\n",
    "sys.path.insert(0, r'C:\\workspace\\emva1288')\n",
    "from emva1288 import process\n",
    "from emva1288 import report\n",
    "from emva1288.camera.dataset_generator import DatasetGenerator\n",
    "import os\n",
    "\n",
    "# # Load one test to add it as operation point\n",
    "# dir_ = '/home/work/1288/datasets/'\n",
    "# fname = 'EMVA1288_ReferenceSet_003_Simulation_12Bit/EMVA1288_Data.txt'\n",
    "# fname = os.path.join(dir_, fname)\n",
    "\n",
    "dataset_generator = DatasetGenerator(width=640,\n",
    "                                     height=480,\n",
    "                                     K=0.1,\n",
    "                                     blackoffset=29.4,\n",
    "                                     bit_depth=12,\n",
    "                                     steps=50,\n",
    "                                     exposure_fixed=1000000,\n",
    "                                     dark_current_ref=30)\n",
    "\n",
    "fname = dataset_generator.descriptor_path\n",
    "\n",
    "parser = process.ParseEmvaDescriptorFile(fname)\n",
    "imgs = process.LoadImageData(parser.images)\n",
    "dat = process.Data1288(imgs.data)\n",
    "\n",
    "\n",
    "# Description of the setup\n",
    "setup = report.info_setup()\n",
    "setup['Standard version'] = 3.1\n",
    "\n",
    "# Basic information\n",
    "basic = report.info_basic()\n",
    "basic['vendor'] = 'Simulation'\n",
    "basic['data_type'] = 'Single'\n",
    "basic['sensor_type'] = 'simulated sensor'\n",
    "basic['resolution'] = '640x480'\n",
    "basic['model'] = 'Simulated camera'\n",
    "\n",
    "\n",
    "# Marketing information\n",
    "marketing = report.info_marketing()\n",
    "marketing['watermark'] = 'Example'\n",
    "\n",
    "# Initialize the report with the marketing data\n",
    "# Provide a non existent name for the output directory\n",
    "myreport = report.Report1288('myreport',\n",
    "                             marketing=marketing,\n",
    "                             setup=setup,\n",
    "                             basic=basic)\n",
    "\n",
    "# Operation point\n",
    "# bit_depth, gain, black_level, exposure_time, wavelength,\n",
    "# temperature, housing_temperature, fpn_correction,\n",
    "# summary_only\n",
    "\n",
    "op1 = report.info_op()\n",
    "op1['summary_only'] = False\n",
    "op1['camera_settings']['Gain'] = 0.1\n",
    "op1['camera_settings']['Black level'] = 29.4\n",
    "op1['camera_settings']['Bit depth'] = '12 bits'\n",
    "op1['test_parameters']['Illumination'] = 'Variable with constant \\\n",
    "exposure time'\n",
    "op1['test_parameters']['Irradiation steps'] = 50\n",
    "\n",
    "# Add the operation point to the report\n",
    "# we can add as many operation points as we want\n",
    "# we pass the emva1288.Data1288 object to extract automatically all the results\n",
    "# and graphics\n",
    "myreport.add(op1, dat.data)\n",
    "\n",
    "# Generate the latex files\n",
    "myreport.latex()"
   ]
  },
  {
   "cell_type": "code",
   "execution_count": null,
   "id": "635a5e4e",
   "metadata": {},
   "outputs": [],
   "source": []
  }
 ],
 "metadata": {
  "kernelspec": {
   "display_name": "Python 3 (ipykernel)",
   "language": "python",
   "name": "python3"
  },
  "language_info": {
   "codemirror_mode": {
    "name": "ipython",
    "version": 3
   },
   "file_extension": ".py",
   "mimetype": "text/x-python",
   "name": "python",
   "nbconvert_exporter": "python",
   "pygments_lexer": "ipython3",
   "version": "3.8.12"
  },
  "toc": {
   "base_numbering": 1,
   "nav_menu": {},
   "number_sections": true,
   "sideBar": true,
   "skip_h1_title": false,
   "title_cell": "Table of Contents",
   "title_sidebar": "Contents",
   "toc_cell": false,
   "toc_position": {},
   "toc_section_display": true,
   "toc_window_display": false
  }
 },
 "nbformat": 4,
 "nbformat_minor": 5
}
