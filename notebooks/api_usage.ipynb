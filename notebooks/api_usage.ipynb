{
 "cells": [
  {
   "cell_type": "markdown",
   "id": "bd2dbf35-b8ec-41d3-9beb-8a6357672be8",
   "metadata": {},
   "source": [
    "api example. the code below can be executed remotely."
   ]
  },
  {
   "cell_type": "code",
   "execution_count": 9,
   "id": "9c0562a8-08bc-45af-bb81-270898e4ed8a",
   "metadata": {},
   "outputs": [],
   "source": [
    "from PIL import Image\n",
    "from io import BytesIO\n",
    "import numpy as np\n",
    "import requests\n",
    "\n",
    "pi_address = 'raspberrypi.local'\n",
    "#pi_address = '10.61.100.177'"
   ]
  },
  {
   "cell_type": "code",
   "execution_count": null,
   "id": "dbc6f641-a977-4aab-8731-c15e55bd12ab",
   "metadata": {},
   "outputs": [],
   "source": [
    "# have a look at the current controls\n",
    "r = requests.get(f'http://{pi_address}:8000/controls')\n",
    "print(r.content)\n",
    "controls = r.json()\n",
    "for key,value in controls.items():\n",
    "    print(f'{key} {value}')"
   ]
  },
  {
   "cell_type": "code",
   "execution_count": 13,
   "id": "2f4f90c4-5bb9-45e0-807b-3da8b6f2311d",
   "metadata": {},
   "outputs": [
    {
     "name": "stdout",
     "output_type": "stream",
     "text": [
      "b'{\\n  \"amount\": 1,\\n  \"analog_gain\": \"1\",\\n  \"apply\": true,\\n  \"cam_close\": false,\\n  \"cam_open\": false,\\n  \"download\": false,\\n  \"download_option\": \"tiff\",\\n  \"exposure_us\": 3000,\\n  \"illumination\": \"off\",\\n  \"mode\": \"0\"\\n}\\n'\n"
     ]
    }
   ],
   "source": [
    "# replace the current controls\n",
    "controls['exposure_us']=3000\n",
    "r = requests.put(f'http://{pi_address}:8000/controls', json = controls)\n",
    "print(r.content)"
   ]
  },
  {
   "cell_type": "code",
   "execution_count": null,
   "id": "4403452a-8b5c-427f-bf79-e7a239838845",
   "metadata": {},
   "outputs": [],
   "source": [
    "# replace single controls\n",
    "controls['exposure_us']=3000\n",
    "r = requests.put(f'http://{pi_address}:8000/controls/exposure_us', 'true')\n",
    "print(r)\n",
    "\n",
    "# replace single controls\n",
    "controls['analog_gain']=1.1\n",
    "r = requests.put(f'http://{pi_address}:8000/controls/', json = controls)\n",
    "print(r)\n",
    "\n",
    "# replace single controls\n",
    "controls['analog_gain']=1.1\n",
    "r = requests.put(f'http://{pi_address}:8000/controls/', json = controls)\n",
    "print(r)\n",
    "# r = requests.get(f'http://{pi_address}:8000/index')\n",
    "# print(r.content)\n",
    "\n",
    "# CAPTURE IMAGE ARRAY\n",
    "r = requests.get(f'http://{pi_address}:8000/captureraw')\n",
    "print(r.content)\n",
    "\n",
    "# DOWNLOAD IMAGE ARRAY\n",
    "r = requests.get(f'http://{pi_address}:8000/uploads/imgraw0.tiff')\n",
    "print(r)\n",
    "i = Image.open(BytesIO(r.content))\n",
    "arr=np.asarray(i)\n",
    "print(arr)\n",
    "\n",
    "# READ REGISTER EXAMPLE\n",
    "message = {\"reg\": \"0x100d\"}\n",
    "r = requests.put(f'http://{pi_address}:8000/registers/read', json = message)\n",
    "print(r.content)\n",
    "\n",
    "# WRITE REGISTER EXAMPLE\n",
    "message = {\"reg\": \"0x100d\", \"val\": \"0x2\"}\n",
    "r = requests.put(f'http://{pi_address}:8000/registers/write', json = message)\n",
    "print(r.content)\n",
    "\n",
    "# ENABLE MANUAL MODE (disable reg upload and reset)\n",
    "message = {\"enable\": \"1\"}\n",
    "r = requests.put(f'http://{pi_address}:8000/registers/manual_mode', json = message)\n",
    "print(r.content)\n",
    "\n",
    "# DISABLE MANUAL MODE (disable reg upload and reset)\n",
    "message = {\"enable\": \"0\"}\n",
    "r = requests.put(f'http://{pi_address}:8000/registers/manual_mode', json = message)\n",
    "print(r.content)\n",
    "\n",
    "# DISABLE POWER EXAMPLE (reset pin)\n",
    "message = {\"enable\": \"0\"}\n",
    "r = requests.put(f'http://{pi_address}:8000/registers/power', json = message)\n",
    "print(r.content)\n",
    "\n",
    "# ENABLE POWER EXAMPLE\n",
    "message = {\"enable\": \"1\"}\n",
    "r = requests.put(f'http://{pi_address}:8000/registers/power', json = message)\n",
    "print(r.content)"
   ]
  }
 ],
 "metadata": {
  "kernelspec": {
   "display_name": "Python 3 (ipykernel)",
   "language": "python",
   "name": "python3"
  },
  "language_info": {
   "codemirror_mode": {
    "name": "ipython",
    "version": 3
   },
   "file_extension": ".py",
   "mimetype": "text/x-python",
   "name": "python",
   "nbconvert_exporter": "python",
   "pygments_lexer": "ipython3",
   "version": "3.9.2"
  }
 },
 "nbformat": 4,
 "nbformat_minor": 5
}
